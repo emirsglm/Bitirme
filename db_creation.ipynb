{
 "cells": [
  {
   "cell_type": "code",
   "execution_count": 1,
   "metadata": {},
   "outputs": [],
   "source": [
    "import duckdb\n",
    "import pandas as pd\n",
    "from statsbombpy import sb\n",
    "\n",
    "# DuckDB bağlantısı\n",
    "\n"
   ]
  },
  {
   "cell_type": "code",
   "execution_count": 2,
   "metadata": {},
   "outputs": [],
   "source": [
    "def pass_data_creation(events_extra_info,match_ID):\n",
    "    \n",
    "    events_df = sb.events(match_id=match_ID)\n",
    "    events_df = events_df.set_index(\"match_id\").join(\n",
    "        events_extra_info.set_index(\"match_id\"), how=\"left\", rsuffix='_match'\n",
    "    ).reset_index()\n",
    "\n",
    "    # Koordinatları ayır\n",
    "    events_df[['x', 'y']] = events_df['location'].apply(pd.Series)\n",
    "    events_df[['pass_end_x', 'pass_end_y']] = events_df['pass_end_location'].apply(pd.Series)\n",
    "\n",
    "    # Paslar tablosunu oluştur\n",
    "    passes = events_df[(events_df.type == \"Pass\")]\n",
    "    passes = passes[passes[\"pass_outcome\"] != \"Injury Clearance\"]\n",
    "    shots = events_df[(events_df.type == \"Shot\")][[\"player\",\"shot_type\",\"shot_key_pass_id\",\"shot_outcome\",\"shot_statsbomb_xg\"]].dropna()\n",
    "    passes_M = passes.set_index(\"id\").join(\n",
    "        shots.set_index(\"shot_key_pass_id\"), how=\"left\", rsuffix='_shotFromPass'\n",
    "    )\n",
    "    passes_M = passes_M[passes_M[\"pass_outcome\"] != \"Injury Clearance\"]\n",
    "\n",
    "    passes_M[\"pass_succes\"] = passes_M.pass_outcome.isna()\n",
    "    passes_M[\"f3rd_pass\"] = (passes_M.x < 80) & (passes_M.pass_end_x > 80)\n",
    "    passes_M[\"pass_progression\"] = passes_M[\"pass_end_x\"] - passes_M[\"x\"]\n",
    "    passes_M.loc[passes_M.pass_outcome.notna(), \"pass_progression\"] = None\n",
    "    passes_M[\"shot_assisted_pass\"] = (passes_M[\"pass_succes\"] == True) &  (passes_M[\"shot_outcome_shotFromPass\"].notna())\n",
    "    passes_M[\"goal_assisted_pass\"] = (passes_M[\"pass_succes\"] == True) & (passes_M[\"shot_outcome_shotFromPass\"] == \"Goal\")\n",
    "    \n",
    "    passes_M[\"cross_pass\"] = (passes_M.pass_cross == True)\n",
    "    passes_M[\"box_pass\"] = (\n",
    "        ((passes_M.x < 102) | ((passes_M.y < 18) | (passes_M.y > 62))) & ((passes_M.pass_end_x > 102) & ((passes_M.pass_end_y > 18) & (passes_M.pass_end_y < 62)))\n",
    "    )\n",
    "\n",
    "    passes_M[\"rowID\"] = passes_M.index\n",
    "\n",
    "    return passes_M"
   ]
  },
  {
   "cell_type": "code",
   "execution_count": 3,
   "metadata": {},
   "outputs": [],
   "source": [
    "def foul_data_creation(events_extra_info,match_ID):\n",
    "\n",
    "    events_df = sb.events(match_id=match_ID)\n",
    "    events_df = events_df.set_index(\"match_id\").join(\n",
    "        events_extra_info.set_index(\"match_id\"), how=\"left\", rsuffix='_match'\n",
    "    ).reset_index()\n",
    "\n",
    "    # Koordinatları ayır\n",
    "    events_df[['x', 'y']] = events_df['location'].apply(pd.Series)\n",
    "    events_df[['pass_end_x', 'pass_end_y']] = events_df['pass_end_location'].apply(pd.Series)\n",
    "\n",
    "    # Fauller tablosunu oluştur\n",
    "\n",
    "    existing_columns = set(events_df.columns)\n",
    "    # Set of columns you want to check\n",
    "    columns_to_check = {\"foul_committed_advantage\", \"foul_committed_card\"}\n",
    "    # Find which columns exist and which do not\n",
    "    missing = columns_to_check - existing_columns\n",
    "    if len(missing) == 0:\n",
    "        foul_commited = events_df[(events_df.type == \"Foul Committed\")][\n",
    "        [\"id\", \"type\", \"player\", \"position\",\"team\",\"timestamp\",\"minute\", \"foul_committed_advantage\", \"foul_committed_card\", \"x\", \"y\"]\n",
    "        ].set_index(\"id\")\n",
    "    elif len(missing) > 1:\n",
    "        print(\"there was no commited advantage nor commited card in this match \")\n",
    "        foul_commited = events_df[(events_df.type == \"Foul Committed\")][\n",
    "            [\"id\", \"type\", \"player\",\"position\",\"team\",\"timestamp\",\"minute\", \"x\", \"y\"]]\n",
    "        foul_commited[\"foul_committed_advantage_foul_commitedJ\"] = None\n",
    "        foul_commited[\"foul_committed_card_foul_commitedJ\"] = None\n",
    "        foul_commited = foul_commited.set_index(\"id\")\n",
    "    elif \"foul_committed_card\" in missing:\n",
    "        print(\"there was no commited card in this match \")\n",
    "        foul_commited = events_df[(events_df.type == \"Foul Committed\")][\n",
    "            [\"id\", \"type\", \"player\",\"position\",\"team\",\"timestamp\",\"minute\", \"foul_committed_advantage\", \"x\", \"y\"]]\n",
    "        foul_commited[\"foul_committed_card_foul_commitedJ\"] = None\n",
    "        foul_commited = foul_commited.set_index(\"id\")\n",
    "    elif \"foul_committed_advantage\" in missing:\n",
    "        print(\"there was no commited advantage in this match \")\n",
    "        foul_commited = events_df[(events_df.type == \"Foul Committed\")][\n",
    "            [\"id\", \"type\", \"player\",\"position\",\"team\",\"timestamp\",\"minute\", \"foul_committed_card\", \"x\", \"y\"]]\n",
    "        foul_commited[\"foul_committed_advantage_foul_commitedJ\"] = None\n",
    "        foul_commited = foul_commited.set_index(\"id\")\n",
    "\n",
    "    \n",
    "    fouls = events_df[(events_df.type == \"Foul Won\")].explode(\"related_events\")\n",
    "    fouls_M = fouls.set_index(\"related_events\").join(foul_commited, how=\"left\", rsuffix='_foul_commitedJ')\n",
    "    fouls_M = fouls_M[fouls_M[\"player_foul_commitedJ\"].notna()]\n",
    "    fouls_M[\"rowID\"] = fouls_M.index\n",
    "    return fouls_M"
   ]
  },
  {
   "cell_type": "code",
   "execution_count": 4,
   "metadata": {},
   "outputs": [],
   "source": [
    "def network_data_creation(match_pass_data,timestamp_flag=1,minute_flag=1):\n",
    "\n",
    "    df_network = match_pass_data.copy()\n",
    "    \n",
    "    if timestamp_flag==1:\n",
    "        df_network['timestamp'] = pd.to_datetime(df_network['timestamp'])\n",
    "   \n",
    "    if minute_flag==1:\n",
    "        df_network.loc[df_network['minute'] >= 45, 'timestamp'] += pd.Timedelta(minutes=45)\n",
    "\n",
    "\n",
    "    df_network = df_network.sort_values(by='timestamp').reset_index(drop=True)\n",
    "\n",
    "    # Sekans ID ve türleri için listeler\n",
    "    sequence_id = []\n",
    "    in_sequence_id = []\n",
    "    sequence_type = []  # Sekans türleri: 'Goal', 'Shot', 'NoShot'\n",
    "    sequence_xg = []\n",
    "    pass_recipient_positions = []\n",
    "\n",
    "    latest_positions = {}\n",
    "\n",
    "    current_sequence_id = 0\n",
    "    current_in_sequence_id = 0\n",
    "    previous_player_to = None  # Bir önceki pası alan oyuncu\n",
    "\n",
    "    for i, row in df_network.iterrows():\n",
    "        # Yeni bir sekans başlatma kriterleri\n",
    "        \n",
    "        if (row['player'] != previous_player_to) :\n",
    "            # Eğer önceki satırda şut sonucu varsa sekans türünü belirle\n",
    "            if i > 0:\n",
    "                previous_row = df_network.iloc[i - 1]\n",
    "                if previous_row.get('shot_outcome_shotFromPass') == 'Goal':\n",
    "                    sequence_type[-1] = 'Goal'\n",
    "                    sequence_xg[-1] = previous_row.get('shot_statsbomb_xg_shotFromPass')\n",
    "\n",
    "                elif previous_row['player_shotFromPass'] is not None:\n",
    "                    sequence_type[-1] = 'Shot'\n",
    "                    sequence_xg[-1] = previous_row.get('shot_statsbomb_xg_shotFromPass')\n",
    "\n",
    "                else:\n",
    "                    sequence_type[-1] = 'NoShot'\n",
    "                    sequence_xg[-1] = 0\n",
    "\n",
    "            # Yeni bir sekans başlat\n",
    "            current_sequence_id += 1\n",
    "            current_in_sequence_id = 0\n",
    "\n",
    "        current_in_sequence_id+=1\n",
    "        # Sekans ID'sini ve geçici türü kaydet\n",
    "        sequence_id.append(current_sequence_id)\n",
    "        in_sequence_id.append(current_in_sequence_id)\n",
    "        sequence_type.append('')  # Tür daha sonra doldurulacak\n",
    "        sequence_xg.append('')\n",
    "        # Bir sonraki kontrol için 'pass_recipient' değerini güncelle\n",
    "        previous_player_to = row['pass_recipient']\n",
    "\n",
    "        #\n",
    "        latest_positions.update({row['player']:row['position']})\n",
    "        recipient = row['pass_recipient']\n",
    "        pass_recipient_positions.append(latest_positions.get(recipient, None))\n",
    "        \n",
    "\n",
    "    # Son sekansı kontrol et\n",
    "    last_row = df_network.iloc[-1]\n",
    "    if last_row.get('shot_outcome_shotFromPass') == 'goal':\n",
    "        sequence_type[-1] = 'Goal'\n",
    "        sequence_xg[-1] = previous_row.get('shot_statsbomb_xg_shotFromPass')\n",
    "\n",
    "    elif last_row['player_shotFromPass'] is not None:\n",
    "        sequence_type[-1] = 'Shot'\n",
    "        sequence_xg[-1] = previous_row.get('shot_statsbomb_xg_shotFromPass')\n",
    "    else:\n",
    "        sequence_type[-1] = 'NoShot'\n",
    "        sequence_xg[-1] = 0\n",
    "\n",
    "\n",
    "\n",
    "    # Sekans türlerini tüm satırlara yayma\n",
    "    df_network['pass_recipient_position'] = pass_recipient_positions\n",
    "\n",
    "    df_network['SequenceID'] = sequence_id\n",
    "    df_network['InSequenceID'] = in_sequence_id\n",
    "    df_network['SequenceType'] = sequence_type\n",
    "    df_network['SequenceXG'] = sequence_xg\n",
    "    df_network['SequenceType'] = df_network.groupby('SequenceID')['SequenceType'].transform('last')\n",
    "    df_network['SequenceXG'] = df_network.groupby('SequenceID')['SequenceXG'].transform('last')\n",
    "    df_network['SequenceBuildUpXG'] = df_network.groupby('SequenceID')['SequenceXG'].transform(\n",
    "        lambda x: [0 if idx == len(x) - 1 else val for idx, val in enumerate(x)]\n",
    "    )\n",
    "    df_network['time_past'] = df_network.groupby('SequenceID')['timestamp'].transform(lambda x: (x - x.min()).dt.total_seconds())\n",
    "\n",
    "\n",
    "    # Create a dictionary to keep track of the latest position of each player\n",
    "\n",
    "    return df_network\n",
    "# İlgili sütunları gösterme"
   ]
  },
  {
   "cell_type": "code",
   "execution_count": 5,
   "metadata": {},
   "outputs": [],
   "source": [
    "def event_data_creation(events_extra_info,match_ID):\n",
    "    \n",
    "    events_df = sb.events(match_id=match_ID)\n",
    "    events_df = events_df.set_index(\"match_id\").join(events_extra_info.set_index(\"match_id\"),how=\"left\", rsuffix='_match').reset_index()\n",
    "    #events_df.set_index(\"id\")\n",
    "\n",
    "    events_df['timestamp'] = pd.to_datetime(events_df['timestamp'], format='%H:%M:%S.%f')\n",
    "    events_df.loc[events_df['minute'] >= 45, 'timestamp'] += pd.Timedelta(minutes=45)\n",
    "    posessions_sorted = events_df[[\"duration\",\"kick_off\",\"minute\",\"timestamp\",\"possession\",\"possession_team\"]].sort_values(\"timestamp\")\n",
    "    possession_time = posessions_sorted.groupby(\"possession\").apply(\n",
    "        lambda x: (x[\"timestamp\"].max() - x[\"timestamp\"].min()).total_seconds(),include_groups=False\n",
    "    ).reset_index(name=\"possession_time\")\n",
    "    events_df = events_df.set_index(\"possession\").join(possession_time.set_index(\"possession\"),how=\"left\").reset_index()\n",
    "\n",
    "    players = (\n",
    "        events_df[events_df[\"player\"].notnull()][[\"player\", \"position\", \"team\"]]\n",
    "        .groupby(\"player\")[\"position\"]\n",
    "        .agg(lambda x: x.value_counts().idxmax())\n",
    "        .reset_index()\n",
    "    )\n",
    "    events_df = events_df.set_index(\"player\").join(players.set_index(\"player\"),how=\"left\",rsuffix=\"_most_played\").reset_index()\n",
    "\n",
    "    events_df[['x', 'y']] = events_df['location'].apply(pd.Series)\n",
    "    events_df[['pass_end_x', 'pass_end_y']] = events_df['pass_end_location'].apply(pd.Series)\n",
    "    passes = events_df[(events_df.type==\"Pass\")]\n",
    "    passes = passes[passes[\"pass_outcome\"] != \"Injury Clearance\"]\n",
    "    events_df = events_df[events_df.type!=\"Pass\"]\n",
    "    shots_fromPass = events_df[(events_df.type==\"Shot\")][[\"player\",\"shot_type\",\"shot_key_pass_id\",\"shot_outcome\",\"shot_statsbomb_xg\"]]\n",
    "    passes_M = passes.set_index(\"id\").join(shots_fromPass.set_index(\"shot_key_pass_id\"),how=\"left\",rsuffix='_shotFromPass').reset_index()\n",
    "    passes_M[\"pass_succes\"] = passes_M.pass_outcome.isna()\n",
    "    passes_M[\"f3rd_pass\"] = (passes_M.x < 80) & (passes_M.pass_end_x > 80)\n",
    "    passes_M[\"pass_progression\"] = passes_M[\"x\"] - passes_M[\"pass_end_x\"]\n",
    "    passes_M.loc[passes_M.pass_outcome.notna(), \"pass_progression\"] = None\n",
    "    passes_M[\"shot_assisted_pass\"] = (passes_M.pass_outcome.isna()) &  (passes_M[\"shot_outcome_shotFromPass\"].notna())\n",
    "    passes_M[\"goal_assisted_pass\"] = (passes_M.pass_outcome.isna()) & (passes_M[\"shot_outcome_shotFromPass\"] == \"Goal\")\n",
    "    passes_M[\"cross\"] = (passes_M.pass_cross == True)\n",
    "    passes_M[\"box_pass\"] = (\n",
    "        (passes_M.x < 102)\n",
    "        & ((passes_M.y < 18) | (passes_M.y > 62))\n",
    "        & (passes_M.pass_end_x > 102)\n",
    "        & ((passes_M.pass_end_y > 18) | (passes_M.pass_end_y < 62))\n",
    "    )\n",
    "    passes_M = passes_M.set_index(\"pass_recipient\").join(players.set_index(\"player\"),how=\"left\",rsuffix=\"_re_most_played\").reset_index()\n",
    "    passes_M = network_data_creation(passes_M,0,0)\n",
    "    \n",
    "     # Set of existing columns in the DataFrame\n",
    "    existing_columns = set(events_df.columns)\n",
    "        # Set of columns you want to check\n",
    "    columns_to_check = {\"foul_committed_advantage\", \"foul_committed_card\"}\n",
    "    # Find which columns exist and which do not\n",
    "    missing = columns_to_check - existing_columns\n",
    "    if len(missing) == 0:\n",
    "        foul_commited = events_df[(events_df.type == \"Foul Committed\")][\n",
    "        [\"id\", \"type\", \"player\", \"position\",\"team\",\"timestamp\",\"minute\", \"foul_committed_advantage\", \"foul_committed_card\", \"x\", \"y\"]\n",
    "        ].set_index(\"id\")\n",
    "    elif len(missing) > 1:\n",
    "        print(\"there was no commited advantage nor commited card in this match \")\n",
    "        foul_commited = events_df[(events_df.type == \"Foul Committed\")][\n",
    "            [\"id\", \"type\", \"player\",\"position\",\"team\",\"timestamp\",\"minute\", \"x\", \"y\"]]\n",
    "        foul_commited[\"foul_committed_advantage_foul_commitedJ\"] = None\n",
    "        foul_commited[\"foul_committed_card_foul_commitedJ\"] = None\n",
    "        foul_commited = foul_commited.set_index(\"id\")\n",
    "    elif \"foul_committed_card\" in missing:\n",
    "        print(\"there was no commited card in this match \")\n",
    "        foul_commited = events_df[(events_df.type == \"Foul Committed\")][\n",
    "            [\"id\", \"type\", \"player\",\"position\",\"team\",\"timestamp\",\"minute\", \"foul_committed_advantage\", \"x\", \"y\"]]\n",
    "        foul_commited[\"foul_committed_card_foul_commitedJ\"] = None\n",
    "        foul_commited = foul_commited.set_index(\"id\")\n",
    "    elif \"foul_committed_advantage\" in missing:\n",
    "        print(\"there was no commited advantage in this match \")\n",
    "        foul_commited = events_df[(events_df.type == \"Foul Committed\")][\n",
    "            [\"id\", \"type\", \"player\",\"position\",\"team\",\"timestamp\",\"minute\", \"foul_committed_card\", \"x\", \"y\"]]\n",
    "        foul_commited[\"foul_committed_advantage_foul_commitedJ\"] = None\n",
    "        foul_commited = foul_commited.set_index(\"id\")\n",
    "\n",
    "    \n",
    "    \n",
    "    \n",
    "    \n",
    "    fouls = events_df[(events_df[\"type\"]==\"Foul Won\")].explode(\"related_events\")\n",
    "    events_df = events_df[~((events_df[\"type\"]==\"Foul Won\") | (events_df[\"type\"]==\"Foul Committed\"))]\n",
    "    fouls_M = fouls.set_index(\"related_events\").join(foul_commited,how=\"left\", rsuffix='_foul_commitedJ').reset_index()\n",
    "    fouls_M = fouls_M[fouls_M[\"player_foul_commitedJ\"].notna()]\n",
    "\n",
    "    events_df.set_index(\"id\",inplace=True)\n",
    "    passes_M.set_index(\"id\",inplace=True)\n",
    "    fouls_M.set_index(\"id\",inplace=True)\n",
    "    \n",
    "    events_df = pd.concat([events_df,passes_M,fouls_M])\n",
    "\n",
    "    return events_df\n",
    "\n"
   ]
  },
  {
   "cell_type": "code",
   "execution_count": 6,
   "metadata": {},
   "outputs": [],
   "source": [
    "passDF = pd.DataFrame()\n",
    "foulsDF= pd.DataFrame()\n",
    "eventsDF = pd.DataFrame()\n",
    "\n",
    "# # Lig ve sezon bilgileri\n",
    "# competitions_and_seasons = [\n",
    "#     (11, 27, \"2015/16 La Liga\"),\n",
    "#     (9, 27, \"2015/16 Bundesliga\"),\n",
    "#     (2, 27, \"2015/16 Premier League\"),\n",
    "#     (12, 27, \"2015/16 Serie A\"),\n",
    "#     (7, 27, \"2015/16 Ligue 1\"),\n",
    "#     (43, 106, \"FIFA World Cup 22\"),\n",
    "#     (43, 3, \"FIFA World Cup 18\"),\n",
    "#     (55, 282, \"Euro 2024\"),\n",
    "#     (55, 43, \"Euro 2020\")\n",
    "# ]\n",
    "\n",
    "\n",
    "\n",
    "\n",
    "laliga = (11, 27, \"2015/16 La Liga\")\n",
    "bundesliga = (9, 27, \"2015/16 Bundesliga\")\n",
    "premierleague = (2, 27, \"2015/16 Premier League\")\n",
    "seriea = (12, 27, \"2015/16 Serie A\")\n",
    "ligue1 = (7, 27, \"2015/16 Ligue 1\")\n",
    "worldcup22 = (43, 106, \"FIFA World Cup 22\")\n",
    "worldcup18 = (43, 3, \"FIFA World Cup 18\")\n",
    "euru24 = (55, 282, \"Euro 2024\")\n",
    "euro20 = (55, 43, \"Euro 2020\")"
   ]
  },
  {
   "cell_type": "code",
   "execution_count": 7,
   "metadata": {},
   "outputs": [],
   "source": [
    "con = duckdb.connect(\"bundesliga.db\")"
   ]
  },
  {
   "cell_type": "code",
   "execution_count": 8,
   "metadata": {},
   "outputs": [
    {
     "name": "stderr",
     "output_type": "stream",
     "text": [
      "/Users/emirysaglam/GitHub/Bitirme/.venv/lib/python3.10/site-packages/statsbombpy/api_client.py:21: NoAuthWarning: credentials were not supplied. open data access only\n",
      "  warnings.warn(\n"
     ]
    },
    {
     "name": "stdout",
     "output_type": "stream",
     "text": [
      "1/306 | league: Germany - 1. Bundesliga, match id 3890561, Hoffenheim-Schalke 04\n"
     ]
    },
    {
     "name": "stderr",
     "output_type": "stream",
     "text": [
      "/Users/emirysaglam/GitHub/Bitirme/.venv/lib/python3.10/site-packages/statsbombpy/api_client.py:21: NoAuthWarning: credentials were not supplied. open data access only\n",
      "  warnings.warn(\n"
     ]
    },
    {
     "name": "stdout",
     "output_type": "stream",
     "text": [
      "2/306 | league: Germany - 1. Bundesliga, match id 3890505, Bayern Munich-Eintracht Frankfurt\n"
     ]
    },
    {
     "name": "stderr",
     "output_type": "stream",
     "text": [
      "/Users/emirysaglam/GitHub/Bitirme/.venv/lib/python3.10/site-packages/statsbombpy/api_client.py:21: NoAuthWarning: credentials were not supplied. open data access only\n",
      "  warnings.warn(\n"
     ]
    },
    {
     "name": "stdout",
     "output_type": "stream",
     "text": [
      "3/306 | league: Germany - 1. Bundesliga, match id 3890511, Hertha Berlin-Hannover 96\n"
     ]
    },
    {
     "name": "stderr",
     "output_type": "stream",
     "text": [
      "/Users/emirysaglam/GitHub/Bitirme/.venv/lib/python3.10/site-packages/statsbombpy/api_client.py:21: NoAuthWarning: credentials were not supplied. open data access only\n",
      "  warnings.warn(\n"
     ]
    },
    {
     "name": "stdout",
     "output_type": "stream",
     "text": [
      "4/306 | league: Germany - 1. Bundesliga, match id 3890515, Hamburger SV-Darmstadt 98\n"
     ]
    },
    {
     "name": "stderr",
     "output_type": "stream",
     "text": [
      "/Users/emirysaglam/GitHub/Bitirme/.venv/lib/python3.10/site-packages/statsbombpy/api_client.py:21: NoAuthWarning: credentials were not supplied. open data access only\n",
      "  warnings.warn(\n"
     ]
    },
    {
     "name": "stdout",
     "output_type": "stream",
     "text": [
      "5/306 | league: Germany - 1. Bundesliga, match id 3890411, Hertha Berlin-FSV Mainz 05\n"
     ]
    },
    {
     "name": "stderr",
     "output_type": "stream",
     "text": [
      "/Users/emirysaglam/GitHub/Bitirme/.venv/lib/python3.10/site-packages/statsbombpy/api_client.py:21: NoAuthWarning: credentials were not supplied. open data access only\n",
      "  warnings.warn(\n"
     ]
    },
    {
     "name": "stdout",
     "output_type": "stream",
     "text": [
      "there was no commited card in this match \n",
      "6/306 | league: Germany - 1. Bundesliga, match id 3890397, Hoffenheim-Hannover 96\n"
     ]
    },
    {
     "name": "stderr",
     "output_type": "stream",
     "text": [
      "/Users/emirysaglam/GitHub/Bitirme/.venv/lib/python3.10/site-packages/statsbombpy/api_client.py:21: NoAuthWarning: credentials were not supplied. open data access only\n",
      "  warnings.warn(\n"
     ]
    },
    {
     "name": "stdout",
     "output_type": "stream",
     "text": [
      "7/306 | league: Germany - 1. Bundesliga, match id 3890401, Borussia Dortmund-Eintracht Frankfurt\n"
     ]
    },
    {
     "name": "stderr",
     "output_type": "stream",
     "text": [
      "/Users/emirysaglam/GitHub/Bitirme/.venv/lib/python3.10/site-packages/statsbombpy/api_client.py:21: NoAuthWarning: credentials were not supplied. open data access only\n",
      "  warnings.warn(\n"
     ]
    },
    {
     "name": "stdout",
     "output_type": "stream",
     "text": [
      "8/306 | league: Germany - 1. Bundesliga, match id 3890396, Wolfsburg-Hamburger SV\n"
     ]
    },
    {
     "name": "stderr",
     "output_type": "stream",
     "text": [
      "/Users/emirysaglam/GitHub/Bitirme/.venv/lib/python3.10/site-packages/statsbombpy/api_client.py:21: NoAuthWarning: credentials were not supplied. open data access only\n",
      "  warnings.warn(\n"
     ]
    },
    {
     "name": "stdout",
     "output_type": "stream",
     "text": [
      "9/306 | league: Germany - 1. Bundesliga, match id 3890384, Borussia Dortmund-VfB Stuttgart\n"
     ]
    },
    {
     "name": "stderr",
     "output_type": "stream",
     "text": [
      "/Users/emirysaglam/GitHub/Bitirme/.venv/lib/python3.10/site-packages/statsbombpy/api_client.py:21: NoAuthWarning: credentials were not supplied. open data access only\n",
      "  warnings.warn(\n"
     ]
    },
    {
     "name": "stdout",
     "output_type": "stream",
     "text": [
      "10/306 | league: Germany - 1. Bundesliga, match id 3890385, Schalke 04-Hannover 96\n"
     ]
    },
    {
     "name": "stderr",
     "output_type": "stream",
     "text": [
      "/Users/emirysaglam/GitHub/Bitirme/.venv/lib/python3.10/site-packages/statsbombpy/api_client.py:21: NoAuthWarning: credentials were not supplied. open data access only\n",
      "  warnings.warn(\n"
     ]
    },
    {
     "name": "stdout",
     "output_type": "stream",
     "text": [
      "11/306 | league: Germany - 1. Bundesliga, match id 3890282, FSV Mainz 05-Hannover 96\n"
     ]
    },
    {
     "name": "stderr",
     "output_type": "stream",
     "text": [
      "/Users/emirysaglam/GitHub/Bitirme/.venv/lib/python3.10/site-packages/statsbombpy/api_client.py:21: NoAuthWarning: credentials were not supplied. open data access only\n",
      "  warnings.warn(\n"
     ]
    },
    {
     "name": "stdout",
     "output_type": "stream",
     "text": [
      "12/306 | league: Germany - 1. Bundesliga, match id 3890287, Bayern Munich-Augsburg\n"
     ]
    },
    {
     "name": "stderr",
     "output_type": "stream",
     "text": [
      "/Users/emirysaglam/GitHub/Bitirme/.venv/lib/python3.10/site-packages/statsbombpy/api_client.py:21: NoAuthWarning: credentials were not supplied. open data access only\n",
      "  warnings.warn(\n"
     ]
    },
    {
     "name": "stdout",
     "output_type": "stream",
     "text": [
      "there was no commited card in this match \n",
      "13/306 | league: Germany - 1. Bundesliga, match id 3890269, Hamburger SV-VfB Stuttgart\n"
     ]
    },
    {
     "name": "stderr",
     "output_type": "stream",
     "text": [
      "/Users/emirysaglam/GitHub/Bitirme/.venv/lib/python3.10/site-packages/statsbombpy/api_client.py:21: NoAuthWarning: credentials were not supplied. open data access only\n",
      "  warnings.warn(\n"
     ]
    },
    {
     "name": "stdout",
     "output_type": "stream",
     "text": [
      "14/306 | league: Germany - 1. Bundesliga, match id 3890268, Hertha Berlin-Werder Bremen\n"
     ]
    },
    {
     "name": "stderr",
     "output_type": "stream",
     "text": [
      "/Users/emirysaglam/GitHub/Bitirme/.venv/lib/python3.10/site-packages/statsbombpy/api_client.py:21: NoAuthWarning: credentials were not supplied. open data access only\n",
      "  warnings.warn(\n"
     ]
    },
    {
     "name": "stdout",
     "output_type": "stream",
     "text": [
      "there was no commited advantage nor commited card in this match \n",
      "15/306 | league: Germany - 1. Bundesliga, match id 3890402, Augsburg-Schalke 04\n"
     ]
    },
    {
     "name": "stderr",
     "output_type": "stream",
     "text": [
      "/Users/emirysaglam/GitHub/Bitirme/.venv/lib/python3.10/site-packages/statsbombpy/api_client.py:21: NoAuthWarning: credentials were not supplied. open data access only\n",
      "  warnings.warn(\n"
     ]
    },
    {
     "name": "stdout",
     "output_type": "stream",
     "text": [
      "16/306 | league: Germany - 1. Bundesliga, match id 3890564, Augsburg-Hamburger SV\n"
     ]
    },
    {
     "name": "stderr",
     "output_type": "stream",
     "text": [
      "/Users/emirysaglam/GitHub/Bitirme/.venv/lib/python3.10/site-packages/statsbombpy/api_client.py:21: NoAuthWarning: credentials were not supplied. open data access only\n",
      "  warnings.warn(\n"
     ]
    },
    {
     "name": "stdout",
     "output_type": "stream",
     "text": [
      "17/306 | league: Germany - 1. Bundesliga, match id 3890563, Bayer Leverkusen-Ingolstadt\n"
     ]
    },
    {
     "name": "stderr",
     "output_type": "stream",
     "text": [
      "/Users/emirysaglam/GitHub/Bitirme/.venv/lib/python3.10/site-packages/statsbombpy/api_client.py:21: NoAuthWarning: credentials were not supplied. open data access only\n",
      "  warnings.warn(\n"
     ]
    },
    {
     "name": "stdout",
     "output_type": "stream",
     "text": [
      "18/306 | league: Germany - 1. Bundesliga, match id 3890562, Borussia Dortmund-FC Köln\n"
     ]
    },
    {
     "name": "stderr",
     "output_type": "stream",
     "text": [
      "/Users/emirysaglam/GitHub/Bitirme/.venv/lib/python3.10/site-packages/statsbombpy/api_client.py:21: NoAuthWarning: credentials were not supplied. open data access only\n",
      "  warnings.warn(\n"
     ]
    },
    {
     "name": "stdout",
     "output_type": "stream",
     "text": [
      "19/306 | league: Germany - 1. Bundesliga, match id 3890560, Darmstadt 98-Borussia Mönchengladbach\n"
     ]
    },
    {
     "name": "stderr",
     "output_type": "stream",
     "text": [
      "/Users/emirysaglam/GitHub/Bitirme/.venv/lib/python3.10/site-packages/statsbombpy/api_client.py:21: NoAuthWarning: credentials were not supplied. open data access only\n",
      "  warnings.warn(\n"
     ]
    },
    {
     "name": "stdout",
     "output_type": "stream",
     "text": [
      "20/306 | league: Germany - 1. Bundesliga, match id 3890559, Bayern Munich-Hannover 96\n"
     ]
    },
    {
     "name": "stderr",
     "output_type": "stream",
     "text": [
      "/Users/emirysaglam/GitHub/Bitirme/.venv/lib/python3.10/site-packages/statsbombpy/api_client.py:21: NoAuthWarning: credentials were not supplied. open data access only\n",
      "  warnings.warn(\n"
     ]
    },
    {
     "name": "stdout",
     "output_type": "stream",
     "text": [
      "21/306 | league: Germany - 1. Bundesliga, match id 3890558, FSV Mainz 05-Hertha Berlin\n"
     ]
    },
    {
     "name": "stderr",
     "output_type": "stream",
     "text": [
      "/Users/emirysaglam/GitHub/Bitirme/.venv/lib/python3.10/site-packages/statsbombpy/api_client.py:21: NoAuthWarning: credentials were not supplied. open data access only\n",
      "  warnings.warn(\n"
     ]
    },
    {
     "name": "stdout",
     "output_type": "stream",
     "text": [
      "22/306 | league: Germany - 1. Bundesliga, match id 3890557, Werder Bremen-Eintracht Frankfurt\n"
     ]
    },
    {
     "name": "stderr",
     "output_type": "stream",
     "text": [
      "/Users/emirysaglam/GitHub/Bitirme/.venv/lib/python3.10/site-packages/statsbombpy/api_client.py:21: NoAuthWarning: credentials were not supplied. open data access only\n",
      "  warnings.warn(\n"
     ]
    },
    {
     "name": "stdout",
     "output_type": "stream",
     "text": [
      "23/306 | league: Germany - 1. Bundesliga, match id 3890556, Wolfsburg-VfB Stuttgart\n"
     ]
    },
    {
     "name": "stderr",
     "output_type": "stream",
     "text": [
      "/Users/emirysaglam/GitHub/Bitirme/.venv/lib/python3.10/site-packages/statsbombpy/api_client.py:21: NoAuthWarning: credentials were not supplied. open data access only\n",
      "  warnings.warn(\n"
     ]
    },
    {
     "name": "stdout",
     "output_type": "stream",
     "text": [
      "24/306 | league: Germany - 1. Bundesliga, match id 3890555, Hertha Berlin-Darmstadt 98\n"
     ]
    },
    {
     "name": "stderr",
     "output_type": "stream",
     "text": [
      "/Users/emirysaglam/GitHub/Bitirme/.venv/lib/python3.10/site-packages/statsbombpy/api_client.py:21: NoAuthWarning: credentials were not supplied. open data access only\n",
      "  warnings.warn(\n"
     ]
    },
    {
     "name": "stdout",
     "output_type": "stream",
     "text": [
      "25/306 | league: Germany - 1. Bundesliga, match id 3890554, FC Köln-Werder Bremen\n"
     ]
    },
    {
     "name": "stderr",
     "output_type": "stream",
     "text": [
      "/Users/emirysaglam/GitHub/Bitirme/.venv/lib/python3.10/site-packages/statsbombpy/api_client.py:21: NoAuthWarning: credentials were not supplied. open data access only\n",
      "  warnings.warn(\n"
     ]
    },
    {
     "name": "stdout",
     "output_type": "stream",
     "text": [
      "26/306 | league: Germany - 1. Bundesliga, match id 3890553, Eintracht Frankfurt-Borussia Dortmund\n"
     ]
    },
    {
     "name": "stderr",
     "output_type": "stream",
     "text": [
      "/Users/emirysaglam/GitHub/Bitirme/.venv/lib/python3.10/site-packages/statsbombpy/api_client.py:21: NoAuthWarning: credentials were not supplied. open data access only\n",
      "  warnings.warn(\n"
     ]
    },
    {
     "name": "stdout",
     "output_type": "stream",
     "text": [
      "27/306 | league: Germany - 1. Bundesliga, match id 3890552, VfB Stuttgart-FSV Mainz 05\n"
     ]
    },
    {
     "name": "stderr",
     "output_type": "stream",
     "text": [
      "/Users/emirysaglam/GitHub/Bitirme/.venv/lib/python3.10/site-packages/statsbombpy/api_client.py:21: NoAuthWarning: credentials were not supplied. open data access only\n",
      "  warnings.warn(\n"
     ]
    },
    {
     "name": "stdout",
     "output_type": "stream",
     "text": [
      "28/306 | league: Germany - 1. Bundesliga, match id 3890551, Hamburger SV-Wolfsburg\n"
     ]
    },
    {
     "name": "stderr",
     "output_type": "stream",
     "text": [
      "/Users/emirysaglam/GitHub/Bitirme/.venv/lib/python3.10/site-packages/statsbombpy/api_client.py:21: NoAuthWarning: credentials were not supplied. open data access only\n",
      "  warnings.warn(\n"
     ]
    },
    {
     "name": "stdout",
     "output_type": "stream",
     "text": [
      "there was no commited card in this match \n",
      "29/306 | league: Germany - 1. Bundesliga, match id 3890550, Borussia Mönchengladbach-Bayer Leverkusen\n"
     ]
    },
    {
     "name": "stderr",
     "output_type": "stream",
     "text": [
      "/Users/emirysaglam/GitHub/Bitirme/.venv/lib/python3.10/site-packages/statsbombpy/api_client.py:21: NoAuthWarning: credentials were not supplied. open data access only\n",
      "  warnings.warn(\n"
     ]
    },
    {
     "name": "stdout",
     "output_type": "stream",
     "text": [
      "30/306 | league: Germany - 1. Bundesliga, match id 3890549, Schalke 04-Augsburg\n"
     ]
    },
    {
     "name": "stderr",
     "output_type": "stream",
     "text": [
      "/Users/emirysaglam/GitHub/Bitirme/.venv/lib/python3.10/site-packages/statsbombpy/api_client.py:21: NoAuthWarning: credentials were not supplied. open data access only\n",
      "  warnings.warn(\n"
     ]
    },
    {
     "name": "stdout",
     "output_type": "stream",
     "text": [
      "31/306 | league: Germany - 1. Bundesliga, match id 3890548, Ingolstadt-Bayern Munich\n"
     ]
    },
    {
     "name": "stderr",
     "output_type": "stream",
     "text": [
      "/Users/emirysaglam/GitHub/Bitirme/.venv/lib/python3.10/site-packages/statsbombpy/api_client.py:21: NoAuthWarning: credentials were not supplied. open data access only\n",
      "  warnings.warn(\n"
     ]
    },
    {
     "name": "stdout",
     "output_type": "stream",
     "text": [
      "32/306 | league: Germany - 1. Bundesliga, match id 3890547, Hannover 96-Hoffenheim\n"
     ]
    },
    {
     "name": "stderr",
     "output_type": "stream",
     "text": [
      "/Users/emirysaglam/GitHub/Bitirme/.venv/lib/python3.10/site-packages/statsbombpy/api_client.py:21: NoAuthWarning: credentials were not supplied. open data access only\n",
      "  warnings.warn(\n"
     ]
    },
    {
     "name": "stdout",
     "output_type": "stream",
     "text": [
      "33/306 | league: Germany - 1. Bundesliga, match id 3890546, Werder Bremen-VfB Stuttgart\n"
     ]
    },
    {
     "name": "stderr",
     "output_type": "stream",
     "text": [
      "/Users/emirysaglam/GitHub/Bitirme/.venv/lib/python3.10/site-packages/statsbombpy/api_client.py:21: NoAuthWarning: credentials were not supplied. open data access only\n",
      "  warnings.warn(\n"
     ]
    },
    {
     "name": "stdout",
     "output_type": "stream",
     "text": [
      "34/306 | league: Germany - 1. Bundesliga, match id 3890545, FSV Mainz 05-Hamburger SV\n"
     ]
    },
    {
     "name": "stderr",
     "output_type": "stream",
     "text": [
      "/Users/emirysaglam/GitHub/Bitirme/.venv/lib/python3.10/site-packages/statsbombpy/api_client.py:21: NoAuthWarning: credentials were not supplied. open data access only\n",
      "  warnings.warn(\n"
     ]
    },
    {
     "name": "stdout",
     "output_type": "stream",
     "text": [
      "35/306 | league: Germany - 1. Bundesliga, match id 3890544, Hoffenheim-Ingolstadt\n"
     ]
    },
    {
     "name": "stderr",
     "output_type": "stream",
     "text": [
      "/Users/emirysaglam/GitHub/Bitirme/.venv/lib/python3.10/site-packages/statsbombpy/api_client.py:21: NoAuthWarning: credentials were not supplied. open data access only\n",
      "  warnings.warn(\n"
     ]
    },
    {
     "name": "stdout",
     "output_type": "stream",
     "text": [
      "36/306 | league: Germany - 1. Bundesliga, match id 3890543, Hannover 96-Schalke 04\n"
     ]
    },
    {
     "name": "stderr",
     "output_type": "stream",
     "text": [
      "/Users/emirysaglam/GitHub/Bitirme/.venv/lib/python3.10/site-packages/statsbombpy/api_client.py:21: NoAuthWarning: credentials were not supplied. open data access only\n",
      "  warnings.warn(\n"
     ]
    },
    {
     "name": "stdout",
     "output_type": "stream",
     "text": [
      "there was no commited card in this match \n",
      "37/306 | league: Germany - 1. Bundesliga, match id 3890542, Borussia Dortmund-Wolfsburg\n"
     ]
    },
    {
     "name": "stderr",
     "output_type": "stream",
     "text": [
      "/Users/emirysaglam/GitHub/Bitirme/.venv/lib/python3.10/site-packages/statsbombpy/api_client.py:21: NoAuthWarning: credentials were not supplied. open data access only\n",
      "  warnings.warn(\n"
     ]
    },
    {
     "name": "stdout",
     "output_type": "stream",
     "text": [
      "38/306 | league: Germany - 1. Bundesliga, match id 3890541, Bayern Munich-Borussia Mönchengladbach\n"
     ]
    },
    {
     "name": "stderr",
     "output_type": "stream",
     "text": [
      "/Users/emirysaglam/GitHub/Bitirme/.venv/lib/python3.10/site-packages/statsbombpy/api_client.py:21: NoAuthWarning: credentials were not supplied. open data access only\n",
      "  warnings.warn(\n"
     ]
    },
    {
     "name": "stdout",
     "output_type": "stream",
     "text": [
      "39/306 | league: Germany - 1. Bundesliga, match id 3890540, Bayer Leverkusen-Hertha Berlin\n"
     ]
    },
    {
     "name": "stderr",
     "output_type": "stream",
     "text": [
      "/Users/emirysaglam/GitHub/Bitirme/.venv/lib/python3.10/site-packages/statsbombpy/api_client.py:21: NoAuthWarning: credentials were not supplied. open data access only\n",
      "  warnings.warn(\n"
     ]
    },
    {
     "name": "stdout",
     "output_type": "stream",
     "text": [
      "40/306 | league: Germany - 1. Bundesliga, match id 3890539, Darmstadt 98-Eintracht Frankfurt\n"
     ]
    },
    {
     "name": "stderr",
     "output_type": "stream",
     "text": [
      "/Users/emirysaglam/GitHub/Bitirme/.venv/lib/python3.10/site-packages/statsbombpy/api_client.py:21: NoAuthWarning: credentials were not supplied. open data access only\n",
      "  warnings.warn(\n"
     ]
    },
    {
     "name": "stdout",
     "output_type": "stream",
     "text": [
      "41/306 | league: Germany - 1. Bundesliga, match id 3890538, Augsburg-FC Köln\n"
     ]
    },
    {
     "name": "stderr",
     "output_type": "stream",
     "text": [
      "/Users/emirysaglam/GitHub/Bitirme/.venv/lib/python3.10/site-packages/statsbombpy/api_client.py:21: NoAuthWarning: credentials were not supplied. open data access only\n",
      "  warnings.warn(\n"
     ]
    },
    {
     "name": "stdout",
     "output_type": "stream",
     "text": [
      "42/306 | league: Germany - 1. Bundesliga, match id 3890537, Eintracht Frankfurt-FSV Mainz 05\n"
     ]
    },
    {
     "name": "stderr",
     "output_type": "stream",
     "text": [
      "/Users/emirysaglam/GitHub/Bitirme/.venv/lib/python3.10/site-packages/statsbombpy/api_client.py:21: NoAuthWarning: credentials were not supplied. open data access only\n",
      "  warnings.warn(\n"
     ]
    },
    {
     "name": "stdout",
     "output_type": "stream",
     "text": [
      "43/306 | league: Germany - 1. Bundesliga, match id 3890536, Borussia Mönchengladbach-Hoffenheim\n"
     ]
    },
    {
     "name": "stderr",
     "output_type": "stream",
     "text": [
      "/Users/emirysaglam/GitHub/Bitirme/.venv/lib/python3.10/site-packages/statsbombpy/api_client.py:21: NoAuthWarning: credentials were not supplied. open data access only\n",
      "  warnings.warn(\n"
     ]
    },
    {
     "name": "stdout",
     "output_type": "stream",
     "text": [
      "44/306 | league: Germany - 1. Bundesliga, match id 3890535, Wolfsburg-Augsburg\n"
     ]
    },
    {
     "name": "stderr",
     "output_type": "stream",
     "text": [
      "/Users/emirysaglam/GitHub/Bitirme/.venv/lib/python3.10/site-packages/statsbombpy/api_client.py:21: NoAuthWarning: credentials were not supplied. open data access only\n",
      "  warnings.warn(\n"
     ]
    },
    {
     "name": "stdout",
     "output_type": "stream",
     "text": [
      "45/306 | league: Germany - 1. Bundesliga, match id 3890534, Schalke 04-Bayer Leverkusen\n"
     ]
    },
    {
     "name": "stderr",
     "output_type": "stream",
     "text": [
      "/Users/emirysaglam/GitHub/Bitirme/.venv/lib/python3.10/site-packages/statsbombpy/api_client.py:21: NoAuthWarning: credentials were not supplied. open data access only\n",
      "  warnings.warn(\n"
     ]
    },
    {
     "name": "stdout",
     "output_type": "stream",
     "text": [
      "46/306 | league: Germany - 1. Bundesliga, match id 3890533, Hertha Berlin-Bayern Munich\n"
     ]
    },
    {
     "name": "stderr",
     "output_type": "stream",
     "text": [
      "/Users/emirysaglam/GitHub/Bitirme/.venv/lib/python3.10/site-packages/statsbombpy/api_client.py:21: NoAuthWarning: credentials were not supplied. open data access only\n",
      "  warnings.warn(\n"
     ]
    },
    {
     "name": "stdout",
     "output_type": "stream",
     "text": [
      "47/306 | league: Germany - 1. Bundesliga, match id 3890532, Ingolstadt-Hannover 96\n"
     ]
    },
    {
     "name": "stderr",
     "output_type": "stream",
     "text": [
      "/Users/emirysaglam/GitHub/Bitirme/.venv/lib/python3.10/site-packages/statsbombpy/api_client.py:21: NoAuthWarning: credentials were not supplied. open data access only\n",
      "  warnings.warn(\n"
     ]
    },
    {
     "name": "stdout",
     "output_type": "stream",
     "text": [
      "48/306 | league: Germany - 1. Bundesliga, match id 3890531, FC Köln-Darmstadt 98\n"
     ]
    },
    {
     "name": "stderr",
     "output_type": "stream",
     "text": [
      "/Users/emirysaglam/GitHub/Bitirme/.venv/lib/python3.10/site-packages/statsbombpy/api_client.py:21: NoAuthWarning: credentials were not supplied. open data access only\n",
      "  warnings.warn(\n"
     ]
    },
    {
     "name": "stdout",
     "output_type": "stream",
     "text": [
      "49/306 | league: Germany - 1. Bundesliga, match id 3890530, VfB Stuttgart-Borussia Dortmund\n"
     ]
    },
    {
     "name": "stderr",
     "output_type": "stream",
     "text": [
      "/Users/emirysaglam/GitHub/Bitirme/.venv/lib/python3.10/site-packages/statsbombpy/api_client.py:21: NoAuthWarning: credentials were not supplied. open data access only\n",
      "  warnings.warn(\n"
     ]
    },
    {
     "name": "stdout",
     "output_type": "stream",
     "text": [
      "50/306 | league: Germany - 1. Bundesliga, match id 3890529, Hamburger SV-Werder Bremen\n"
     ]
    },
    {
     "name": "stderr",
     "output_type": "stream",
     "text": [
      "/Users/emirysaglam/GitHub/Bitirme/.venv/lib/python3.10/site-packages/statsbombpy/api_client.py:21: NoAuthWarning: credentials were not supplied. open data access only\n",
      "  warnings.warn(\n"
     ]
    },
    {
     "name": "stdout",
     "output_type": "stream",
     "text": [
      "51/306 | league: Germany - 1. Bundesliga, match id 3890528, Borussia Dortmund-Hamburger SV\n"
     ]
    },
    {
     "name": "stderr",
     "output_type": "stream",
     "text": [
      "/Users/emirysaglam/GitHub/Bitirme/.venv/lib/python3.10/site-packages/statsbombpy/api_client.py:21: NoAuthWarning: credentials were not supplied. open data access only\n",
      "  warnings.warn(\n"
     ]
    },
    {
     "name": "stdout",
     "output_type": "stream",
     "text": [
      "52/306 | league: Germany - 1. Bundesliga, match id 3890527, FSV Mainz 05-FC Köln\n"
     ]
    },
    {
     "name": "stderr",
     "output_type": "stream",
     "text": [
      "/Users/emirysaglam/GitHub/Bitirme/.venv/lib/python3.10/site-packages/statsbombpy/api_client.py:21: NoAuthWarning: credentials were not supplied. open data access only\n",
      "  warnings.warn(\n"
     ]
    },
    {
     "name": "stdout",
     "output_type": "stream",
     "text": [
      "53/306 | league: Germany - 1. Bundesliga, match id 3890526, Bayern Munich-Schalke 04\n"
     ]
    },
    {
     "name": "stderr",
     "output_type": "stream",
     "text": [
      "/Users/emirysaglam/GitHub/Bitirme/.venv/lib/python3.10/site-packages/statsbombpy/api_client.py:21: NoAuthWarning: credentials were not supplied. open data access only\n",
      "  warnings.warn(\n"
     ]
    },
    {
     "name": "stdout",
     "output_type": "stream",
     "text": [
      "there was no commited card in this match \n",
      "54/306 | league: Germany - 1. Bundesliga, match id 3890525, Darmstadt 98-Ingolstadt\n"
     ]
    },
    {
     "name": "stderr",
     "output_type": "stream",
     "text": [
      "/Users/emirysaglam/GitHub/Bitirme/.venv/lib/python3.10/site-packages/statsbombpy/api_client.py:21: NoAuthWarning: credentials were not supplied. open data access only\n",
      "  warnings.warn(\n"
     ]
    },
    {
     "name": "stdout",
     "output_type": "stream",
     "text": [
      "55/306 | league: Germany - 1. Bundesliga, match id 3890524, Hoffenheim-Hertha Berlin\n"
     ]
    },
    {
     "name": "stderr",
     "output_type": "stream",
     "text": [
      "/Users/emirysaglam/GitHub/Bitirme/.venv/lib/python3.10/site-packages/statsbombpy/api_client.py:21: NoAuthWarning: credentials were not supplied. open data access only\n",
      "  warnings.warn(\n"
     ]
    },
    {
     "name": "stdout",
     "output_type": "stream",
     "text": [
      "56/306 | league: Germany - 1. Bundesliga, match id 3890523, Werder Bremen-Wolfsburg\n"
     ]
    },
    {
     "name": "stderr",
     "output_type": "stream",
     "text": [
      "/Users/emirysaglam/GitHub/Bitirme/.venv/lib/python3.10/site-packages/statsbombpy/api_client.py:21: NoAuthWarning: credentials were not supplied. open data access only\n",
      "  warnings.warn(\n"
     ]
    },
    {
     "name": "stdout",
     "output_type": "stream",
     "text": [
      "57/306 | league: Germany - 1. Bundesliga, match id 3890522, Augsburg-VfB Stuttgart\n"
     ]
    },
    {
     "name": "stderr",
     "output_type": "stream",
     "text": [
      "/Users/emirysaglam/GitHub/Bitirme/.venv/lib/python3.10/site-packages/statsbombpy/api_client.py:21: NoAuthWarning: credentials were not supplied. open data access only\n",
      "  warnings.warn(\n"
     ]
    },
    {
     "name": "stdout",
     "output_type": "stream",
     "text": [
      "58/306 | league: Germany - 1. Bundesliga, match id 3890521, Bayer Leverkusen-Eintracht Frankfurt\n"
     ]
    },
    {
     "name": "stderr",
     "output_type": "stream",
     "text": [
      "/Users/emirysaglam/GitHub/Bitirme/.venv/lib/python3.10/site-packages/statsbombpy/api_client.py:21: NoAuthWarning: credentials were not supplied. open data access only\n",
      "  warnings.warn(\n"
     ]
    },
    {
     "name": "stdout",
     "output_type": "stream",
     "text": [
      "59/306 | league: Germany - 1. Bundesliga, match id 3890520, Hannover 96-Borussia Mönchengladbach\n"
     ]
    },
    {
     "name": "stderr",
     "output_type": "stream",
     "text": [
      "/Users/emirysaglam/GitHub/Bitirme/.venv/lib/python3.10/site-packages/statsbombpy/api_client.py:21: NoAuthWarning: credentials were not supplied. open data access only\n",
      "  warnings.warn(\n"
     ]
    },
    {
     "name": "stdout",
     "output_type": "stream",
     "text": [
      "60/306 | league: Germany - 1. Bundesliga, match id 3890519, FC Köln-Bayer Leverkusen\n"
     ]
    },
    {
     "name": "stderr",
     "output_type": "stream",
     "text": [
      "/Users/emirysaglam/GitHub/Bitirme/.venv/lib/python3.10/site-packages/statsbombpy/api_client.py:21: NoAuthWarning: credentials were not supplied. open data access only\n",
      "  warnings.warn(\n"
     ]
    },
    {
     "name": "stdout",
     "output_type": "stream",
     "text": [
      "61/306 | league: Germany - 1. Bundesliga, match id 3890518, Schalke 04-Borussia Dortmund\n"
     ]
    },
    {
     "name": "stderr",
     "output_type": "stream",
     "text": [
      "/Users/emirysaglam/GitHub/Bitirme/.venv/lib/python3.10/site-packages/statsbombpy/api_client.py:21: NoAuthWarning: credentials were not supplied. open data access only\n",
      "  warnings.warn(\n"
     ]
    },
    {
     "name": "stdout",
     "output_type": "stream",
     "text": [
      "62/306 | league: Germany - 1. Bundesliga, match id 3890517, Ingolstadt-Borussia Mönchengladbach\n"
     ]
    },
    {
     "name": "stderr",
     "output_type": "stream",
     "text": [
      "/Users/emirysaglam/GitHub/Bitirme/.venv/lib/python3.10/site-packages/statsbombpy/api_client.py:21: NoAuthWarning: credentials were not supplied. open data access only\n",
      "  warnings.warn(\n"
     ]
    },
    {
     "name": "stdout",
     "output_type": "stream",
     "text": [
      "63/306 | league: Germany - 1. Bundesliga, match id 3890516, VfB Stuttgart-Bayern Munich\n"
     ]
    },
    {
     "name": "stderr",
     "output_type": "stream",
     "text": [
      "/Users/emirysaglam/GitHub/Bitirme/.venv/lib/python3.10/site-packages/statsbombpy/api_client.py:21: NoAuthWarning: credentials were not supplied. open data access only\n",
      "  warnings.warn(\n"
     ]
    },
    {
     "name": "stdout",
     "output_type": "stream",
     "text": [
      "64/306 | league: Germany - 1. Bundesliga, match id 3890514, Werder Bremen-Augsburg\n"
     ]
    },
    {
     "name": "stderr",
     "output_type": "stream",
     "text": [
      "/Users/emirysaglam/GitHub/Bitirme/.venv/lib/python3.10/site-packages/statsbombpy/api_client.py:21: NoAuthWarning: credentials were not supplied. open data access only\n",
      "  warnings.warn(\n"
     ]
    },
    {
     "name": "stdout",
     "output_type": "stream",
     "text": [
      "65/306 | league: Germany - 1. Bundesliga, match id 3890513, Wolfsburg-FSV Mainz 05\n"
     ]
    },
    {
     "name": "stderr",
     "output_type": "stream",
     "text": [
      "/Users/emirysaglam/GitHub/Bitirme/.venv/lib/python3.10/site-packages/statsbombpy/api_client.py:21: NoAuthWarning: credentials were not supplied. open data access only\n",
      "  warnings.warn(\n"
     ]
    },
    {
     "name": "stdout",
     "output_type": "stream",
     "text": [
      "66/306 | league: Germany - 1. Bundesliga, match id 3890512, Eintracht Frankfurt-Hoffenheim\n"
     ]
    },
    {
     "name": "stderr",
     "output_type": "stream",
     "text": [
      "/Users/emirysaglam/GitHub/Bitirme/.venv/lib/python3.10/site-packages/statsbombpy/api_client.py:21: NoAuthWarning: credentials were not supplied. open data access only\n",
      "  warnings.warn(\n"
     ]
    },
    {
     "name": "stdout",
     "output_type": "stream",
     "text": [
      "67/306 | league: Germany - 1. Bundesliga, match id 3890510, Borussia Mönchengladbach-Hertha Berlin\n"
     ]
    },
    {
     "name": "stderr",
     "output_type": "stream",
     "text": [
      "/Users/emirysaglam/GitHub/Bitirme/.venv/lib/python3.10/site-packages/statsbombpy/api_client.py:21: NoAuthWarning: credentials were not supplied. open data access only\n",
      "  warnings.warn(\n"
     ]
    },
    {
     "name": "stdout",
     "output_type": "stream",
     "text": [
      "68/306 | league: Germany - 1. Bundesliga, match id 3890509, Hoffenheim-FC Köln\n"
     ]
    },
    {
     "name": "stderr",
     "output_type": "stream",
     "text": [
      "/Users/emirysaglam/GitHub/Bitirme/.venv/lib/python3.10/site-packages/statsbombpy/api_client.py:21: NoAuthWarning: credentials were not supplied. open data access only\n",
      "  warnings.warn(\n"
     ]
    },
    {
     "name": "stdout",
     "output_type": "stream",
     "text": [
      "69/306 | league: Germany - 1. Bundesliga, match id 3890508, Ingolstadt-Schalke 04\n"
     ]
    },
    {
     "name": "stderr",
     "output_type": "stream",
     "text": [
      "/Users/emirysaglam/GitHub/Bitirme/.venv/lib/python3.10/site-packages/statsbombpy/api_client.py:21: NoAuthWarning: credentials were not supplied. open data access only\n",
      "  warnings.warn(\n"
     ]
    },
    {
     "name": "stdout",
     "output_type": "stream",
     "text": [
      "70/306 | league: Germany - 1. Bundesliga, match id 3890507, Borussia Dortmund-Werder Bremen\n"
     ]
    },
    {
     "name": "stderr",
     "output_type": "stream",
     "text": [
      "/Users/emirysaglam/GitHub/Bitirme/.venv/lib/python3.10/site-packages/statsbombpy/api_client.py:21: NoAuthWarning: credentials were not supplied. open data access only\n",
      "  warnings.warn(\n"
     ]
    },
    {
     "name": "stdout",
     "output_type": "stream",
     "text": [
      "71/306 | league: Germany - 1. Bundesliga, match id 3890506, Darmstadt 98-VfB Stuttgart\n"
     ]
    },
    {
     "name": "stderr",
     "output_type": "stream",
     "text": [
      "/Users/emirysaglam/GitHub/Bitirme/.venv/lib/python3.10/site-packages/statsbombpy/api_client.py:21: NoAuthWarning: credentials were not supplied. open data access only\n",
      "  warnings.warn(\n"
     ]
    },
    {
     "name": "stdout",
     "output_type": "stream",
     "text": [
      "there was no commited advantage in this match \n",
      "72/306 | league: Germany - 1. Bundesliga, match id 3890504, Hannover 96-Hamburger SV\n"
     ]
    },
    {
     "name": "stderr",
     "output_type": "stream",
     "text": [
      "/Users/emirysaglam/GitHub/Bitirme/.venv/lib/python3.10/site-packages/statsbombpy/api_client.py:21: NoAuthWarning: credentials were not supplied. open data access only\n",
      "  warnings.warn(\n"
     ]
    },
    {
     "name": "stdout",
     "output_type": "stream",
     "text": [
      "73/306 | league: Germany - 1. Bundesliga, match id 3890503, FSV Mainz 05-Augsburg\n"
     ]
    },
    {
     "name": "stderr",
     "output_type": "stream",
     "text": [
      "/Users/emirysaglam/GitHub/Bitirme/.venv/lib/python3.10/site-packages/statsbombpy/api_client.py:21: NoAuthWarning: credentials were not supplied. open data access only\n",
      "  warnings.warn(\n"
     ]
    },
    {
     "name": "stdout",
     "output_type": "stream",
     "text": [
      "74/306 | league: Germany - 1. Bundesliga, match id 3890502, Bayer Leverkusen-Wolfsburg\n"
     ]
    },
    {
     "name": "stderr",
     "output_type": "stream",
     "text": [
      "/Users/emirysaglam/GitHub/Bitirme/.venv/lib/python3.10/site-packages/statsbombpy/api_client.py:21: NoAuthWarning: credentials were not supplied. open data access only\n",
      "  warnings.warn(\n"
     ]
    },
    {
     "name": "stdout",
     "output_type": "stream",
     "text": [
      "there was no commited advantage in this match \n",
      "75/306 | league: Germany - 1. Bundesliga, match id 3890501, Augsburg-Borussia Dortmund\n"
     ]
    },
    {
     "name": "stderr",
     "output_type": "stream",
     "text": [
      "/Users/emirysaglam/GitHub/Bitirme/.venv/lib/python3.10/site-packages/statsbombpy/api_client.py:21: NoAuthWarning: credentials were not supplied. open data access only\n",
      "  warnings.warn(\n"
     ]
    },
    {
     "name": "stdout",
     "output_type": "stream",
     "text": [
      "76/306 | league: Germany - 1. Bundesliga, match id 3890500, VfB Stuttgart-Bayer Leverkusen\n"
     ]
    },
    {
     "name": "stderr",
     "output_type": "stream",
     "text": [
      "/Users/emirysaglam/GitHub/Bitirme/.venv/lib/python3.10/site-packages/statsbombpy/api_client.py:21: NoAuthWarning: credentials were not supplied. open data access only\n",
      "  warnings.warn(\n"
     ]
    },
    {
     "name": "stdout",
     "output_type": "stream",
     "text": [
      "77/306 | league: Germany - 1. Bundesliga, match id 3890499, Hamburger SV-Hoffenheim\n"
     ]
    },
    {
     "name": "stderr",
     "output_type": "stream",
     "text": [
      "/Users/emirysaglam/GitHub/Bitirme/.venv/lib/python3.10/site-packages/statsbombpy/api_client.py:21: NoAuthWarning: credentials were not supplied. open data access only\n",
      "  warnings.warn(\n"
     ]
    },
    {
     "name": "stdout",
     "output_type": "stream",
     "text": [
      "78/306 | league: Germany - 1. Bundesliga, match id 3890498, Wolfsburg-Darmstadt 98\n"
     ]
    },
    {
     "name": "stderr",
     "output_type": "stream",
     "text": [
      "/Users/emirysaglam/GitHub/Bitirme/.venv/lib/python3.10/site-packages/statsbombpy/api_client.py:21: NoAuthWarning: credentials were not supplied. open data access only\n",
      "  warnings.warn(\n"
     ]
    },
    {
     "name": "stdout",
     "output_type": "stream",
     "text": [
      "79/306 | league: Germany - 1. Bundesliga, match id 3890497, Eintracht Frankfurt-Hannover 96\n"
     ]
    },
    {
     "name": "stderr",
     "output_type": "stream",
     "text": [
      "/Users/emirysaglam/GitHub/Bitirme/.venv/lib/python3.10/site-packages/statsbombpy/api_client.py:21: NoAuthWarning: credentials were not supplied. open data access only\n",
      "  warnings.warn(\n"
     ]
    },
    {
     "name": "stdout",
     "output_type": "stream",
     "text": [
      "80/306 | league: Germany - 1. Bundesliga, match id 3890496, Hertha Berlin-Ingolstadt\n"
     ]
    },
    {
     "name": "stderr",
     "output_type": "stream",
     "text": [
      "/Users/emirysaglam/GitHub/Bitirme/.venv/lib/python3.10/site-packages/statsbombpy/api_client.py:21: NoAuthWarning: credentials were not supplied. open data access only\n",
      "  warnings.warn(\n"
     ]
    },
    {
     "name": "stdout",
     "output_type": "stream",
     "text": [
      "there was no commited advantage in this match \n",
      "81/306 | league: Germany - 1. Bundesliga, match id 3890495, FC Köln-Bayern Munich\n"
     ]
    },
    {
     "name": "stderr",
     "output_type": "stream",
     "text": [
      "/Users/emirysaglam/GitHub/Bitirme/.venv/lib/python3.10/site-packages/statsbombpy/api_client.py:21: NoAuthWarning: credentials were not supplied. open data access only\n",
      "  warnings.warn(\n"
     ]
    },
    {
     "name": "stdout",
     "output_type": "stream",
     "text": [
      "82/306 | league: Germany - 1. Bundesliga, match id 3890494, Werder Bremen-FSV Mainz 05\n"
     ]
    },
    {
     "name": "stderr",
     "output_type": "stream",
     "text": [
      "/Users/emirysaglam/GitHub/Bitirme/.venv/lib/python3.10/site-packages/statsbombpy/api_client.py:21: NoAuthWarning: credentials were not supplied. open data access only\n",
      "  warnings.warn(\n"
     ]
    },
    {
     "name": "stdout",
     "output_type": "stream",
     "text": [
      "83/306 | league: Germany - 1. Bundesliga, match id 3890493, Schalke 04-Borussia Mönchengladbach\n"
     ]
    },
    {
     "name": "stderr",
     "output_type": "stream",
     "text": [
      "/Users/emirysaglam/GitHub/Bitirme/.venv/lib/python3.10/site-packages/statsbombpy/api_client.py:21: NoAuthWarning: credentials were not supplied. open data access only\n",
      "  warnings.warn(\n"
     ]
    },
    {
     "name": "stdout",
     "output_type": "stream",
     "text": [
      "84/306 | league: Germany - 1. Bundesliga, match id 3890492, Bayer Leverkusen-Hamburger SV\n"
     ]
    },
    {
     "name": "stderr",
     "output_type": "stream",
     "text": [
      "/Users/emirysaglam/GitHub/Bitirme/.venv/lib/python3.10/site-packages/statsbombpy/api_client.py:21: NoAuthWarning: credentials were not supplied. open data access only\n",
      "  warnings.warn(\n"
     ]
    },
    {
     "name": "stdout",
     "output_type": "stream",
     "text": [
      "85/306 | league: Germany - 1. Bundesliga, match id 3890491, Borussia Dortmund-FSV Mainz 05\n"
     ]
    },
    {
     "name": "stderr",
     "output_type": "stream",
     "text": [
      "/Users/emirysaglam/GitHub/Bitirme/.venv/lib/python3.10/site-packages/statsbombpy/api_client.py:21: NoAuthWarning: credentials were not supplied. open data access only\n",
      "  warnings.warn(\n"
     ]
    },
    {
     "name": "stdout",
     "output_type": "stream",
     "text": [
      "there was no commited card in this match \n",
      "86/306 | league: Germany - 1. Bundesliga, match id 3890490, Hannover 96-FC Köln\n"
     ]
    },
    {
     "name": "stderr",
     "output_type": "stream",
     "text": [
      "/Users/emirysaglam/GitHub/Bitirme/.venv/lib/python3.10/site-packages/statsbombpy/api_client.py:21: NoAuthWarning: credentials were not supplied. open data access only\n",
      "  warnings.warn(\n"
     ]
    },
    {
     "name": "stdout",
     "output_type": "stream",
     "text": [
      "87/306 | league: Germany - 1. Bundesliga, match id 3890489, Bayern Munich-Werder Bremen\n"
     ]
    },
    {
     "name": "stderr",
     "output_type": "stream",
     "text": [
      "/Users/emirysaglam/GitHub/Bitirme/.venv/lib/python3.10/site-packages/statsbombpy/api_client.py:21: NoAuthWarning: credentials were not supplied. open data access only\n",
      "  warnings.warn(\n"
     ]
    },
    {
     "name": "stdout",
     "output_type": "stream",
     "text": [
      "88/306 | league: Germany - 1. Bundesliga, match id 3890488, Borussia Mönchengladbach-Eintracht Frankfurt\n"
     ]
    },
    {
     "name": "stderr",
     "output_type": "stream",
     "text": [
      "/Users/emirysaglam/GitHub/Bitirme/.venv/lib/python3.10/site-packages/statsbombpy/api_client.py:21: NoAuthWarning: credentials were not supplied. open data access only\n",
      "  warnings.warn(\n"
     ]
    },
    {
     "name": "stdout",
     "output_type": "stream",
     "text": [
      "89/306 | league: Germany - 1. Bundesliga, match id 3890487, Darmstadt 98-Augsburg\n"
     ]
    },
    {
     "name": "stderr",
     "output_type": "stream",
     "text": [
      "/Users/emirysaglam/GitHub/Bitirme/.venv/lib/python3.10/site-packages/statsbombpy/api_client.py:21: NoAuthWarning: credentials were not supplied. open data access only\n",
      "  warnings.warn(\n"
     ]
    },
    {
     "name": "stdout",
     "output_type": "stream",
     "text": [
      "90/306 | league: Germany - 1. Bundesliga, match id 3890486, Hoffenheim-Wolfsburg\n"
     ]
    },
    {
     "name": "stderr",
     "output_type": "stream",
     "text": [
      "/Users/emirysaglam/GitHub/Bitirme/.venv/lib/python3.10/site-packages/statsbombpy/api_client.py:21: NoAuthWarning: credentials were not supplied. open data access only\n",
      "  warnings.warn(\n"
     ]
    },
    {
     "name": "stdout",
     "output_type": "stream",
     "text": [
      "91/306 | league: Germany - 1. Bundesliga, match id 3890485, Ingolstadt-VfB Stuttgart\n"
     ]
    },
    {
     "name": "stderr",
     "output_type": "stream",
     "text": [
      "/Users/emirysaglam/GitHub/Bitirme/.venv/lib/python3.10/site-packages/statsbombpy/api_client.py:21: NoAuthWarning: credentials were not supplied. open data access only\n",
      "  warnings.warn(\n"
     ]
    },
    {
     "name": "stdout",
     "output_type": "stream",
     "text": [
      "92/306 | league: Germany - 1. Bundesliga, match id 3890484, Hertha Berlin-Schalke 04\n"
     ]
    },
    {
     "name": "stderr",
     "output_type": "stream",
     "text": [
      "/Users/emirysaglam/GitHub/Bitirme/.venv/lib/python3.10/site-packages/statsbombpy/api_client.py:21: NoAuthWarning: credentials were not supplied. open data access only\n",
      "  warnings.warn(\n"
     ]
    },
    {
     "name": "stdout",
     "output_type": "stream",
     "text": [
      "93/306 | league: Germany - 1. Bundesliga, match id 3890483, Hamburger SV-Hertha Berlin\n"
     ]
    },
    {
     "name": "stderr",
     "output_type": "stream",
     "text": [
      "/Users/emirysaglam/GitHub/Bitirme/.venv/lib/python3.10/site-packages/statsbombpy/api_client.py:21: NoAuthWarning: credentials were not supplied. open data access only\n",
      "  warnings.warn(\n"
     ]
    },
    {
     "name": "stdout",
     "output_type": "stream",
     "text": [
      "94/306 | league: Germany - 1. Bundesliga, match id 3890482, FSV Mainz 05-Darmstadt 98\n"
     ]
    },
    {
     "name": "stderr",
     "output_type": "stream",
     "text": [
      "/Users/emirysaglam/GitHub/Bitirme/.venv/lib/python3.10/site-packages/statsbombpy/api_client.py:21: NoAuthWarning: credentials were not supplied. open data access only\n",
      "  warnings.warn(\n"
     ]
    },
    {
     "name": "stdout",
     "output_type": "stream",
     "text": [
      "95/306 | league: Germany - 1. Bundesliga, match id 3890481, Borussia Dortmund-Bayern Munich\n"
     ]
    },
    {
     "name": "stderr",
     "output_type": "stream",
     "text": [
      "/Users/emirysaglam/GitHub/Bitirme/.venv/lib/python3.10/site-packages/statsbombpy/api_client.py:21: NoAuthWarning: credentials were not supplied. open data access only\n",
      "  warnings.warn(\n"
     ]
    },
    {
     "name": "stdout",
     "output_type": "stream",
     "text": [
      "96/306 | league: Germany - 1. Bundesliga, match id 3890480, FC Köln-Schalke 04\n"
     ]
    },
    {
     "name": "stderr",
     "output_type": "stream",
     "text": [
      "/Users/emirysaglam/GitHub/Bitirme/.venv/lib/python3.10/site-packages/statsbombpy/api_client.py:21: NoAuthWarning: credentials were not supplied. open data access only\n",
      "  warnings.warn(\n"
     ]
    },
    {
     "name": "stdout",
     "output_type": "stream",
     "text": [
      "97/306 | league: Germany - 1. Bundesliga, match id 3890479, Eintracht Frankfurt-Ingolstadt\n"
     ]
    },
    {
     "name": "stderr",
     "output_type": "stream",
     "text": [
      "/Users/emirysaglam/GitHub/Bitirme/.venv/lib/python3.10/site-packages/statsbombpy/api_client.py:21: NoAuthWarning: credentials were not supplied. open data access only\n",
      "  warnings.warn(\n"
     ]
    },
    {
     "name": "stdout",
     "output_type": "stream",
     "text": [
      "98/306 | league: Germany - 1. Bundesliga, match id 3890478, Werder Bremen-Hannover 96\n"
     ]
    },
    {
     "name": "stderr",
     "output_type": "stream",
     "text": [
      "/Users/emirysaglam/GitHub/Bitirme/.venv/lib/python3.10/site-packages/statsbombpy/api_client.py:21: NoAuthWarning: credentials were not supplied. open data access only\n",
      "  warnings.warn(\n"
     ]
    },
    {
     "name": "stdout",
     "output_type": "stream",
     "text": [
      "99/306 | league: Germany - 1. Bundesliga, match id 3890477, Augsburg-Bayer Leverkusen\n"
     ]
    },
    {
     "name": "stderr",
     "output_type": "stream",
     "text": [
      "/Users/emirysaglam/GitHub/Bitirme/.venv/lib/python3.10/site-packages/statsbombpy/api_client.py:21: NoAuthWarning: credentials were not supplied. open data access only\n",
      "  warnings.warn(\n"
     ]
    },
    {
     "name": "stdout",
     "output_type": "stream",
     "text": [
      "100/306 | league: Germany - 1. Bundesliga, match id 3890476, VfB Stuttgart-Hoffenheim\n"
     ]
    },
    {
     "name": "stderr",
     "output_type": "stream",
     "text": [
      "/Users/emirysaglam/GitHub/Bitirme/.venv/lib/python3.10/site-packages/statsbombpy/api_client.py:21: NoAuthWarning: credentials were not supplied. open data access only\n",
      "  warnings.warn(\n"
     ]
    },
    {
     "name": "stdout",
     "output_type": "stream",
     "text": [
      "101/306 | league: Germany - 1. Bundesliga, match id 3890475, Wolfsburg-Borussia Mönchengladbach\n"
     ]
    },
    {
     "name": "stderr",
     "output_type": "stream",
     "text": [
      "/Users/emirysaglam/GitHub/Bitirme/.venv/lib/python3.10/site-packages/statsbombpy/api_client.py:21: NoAuthWarning: credentials were not supplied. open data access only\n",
      "  warnings.warn(\n"
     ]
    },
    {
     "name": "stdout",
     "output_type": "stream",
     "text": [
      "102/306 | league: Germany - 1. Bundesliga, match id 3890474, Bayern Munich-FSV Mainz 05\n"
     ]
    },
    {
     "name": "stderr",
     "output_type": "stream",
     "text": [
      "/Users/emirysaglam/GitHub/Bitirme/.venv/lib/python3.10/site-packages/statsbombpy/api_client.py:21: NoAuthWarning: credentials were not supplied. open data access only\n",
      "  warnings.warn(\n"
     ]
    },
    {
     "name": "stdout",
     "output_type": "stream",
     "text": [
      "103/306 | league: Germany - 1. Bundesliga, match id 3890473, Schalke 04-Hamburger SV\n"
     ]
    },
    {
     "name": "stderr",
     "output_type": "stream",
     "text": [
      "/Users/emirysaglam/GitHub/Bitirme/.venv/lib/python3.10/site-packages/statsbombpy/api_client.py:21: NoAuthWarning: credentials were not supplied. open data access only\n",
      "  warnings.warn(\n"
     ]
    },
    {
     "name": "stdout",
     "output_type": "stream",
     "text": [
      "there was no commited advantage in this match \n",
      "104/306 | league: Germany - 1. Bundesliga, match id 3890472, Bayer Leverkusen-Werder Bremen\n"
     ]
    },
    {
     "name": "stderr",
     "output_type": "stream",
     "text": [
      "/Users/emirysaglam/GitHub/Bitirme/.venv/lib/python3.10/site-packages/statsbombpy/api_client.py:21: NoAuthWarning: credentials were not supplied. open data access only\n",
      "  warnings.warn(\n"
     ]
    },
    {
     "name": "stdout",
     "output_type": "stream",
     "text": [
      "there was no commited card in this match \n",
      "105/306 | league: Germany - 1. Bundesliga, match id 3890471, Borussia Mönchengladbach-VfB Stuttgart\n"
     ]
    },
    {
     "name": "stderr",
     "output_type": "stream",
     "text": [
      "/Users/emirysaglam/GitHub/Bitirme/.venv/lib/python3.10/site-packages/statsbombpy/api_client.py:21: NoAuthWarning: credentials were not supplied. open data access only\n",
      "  warnings.warn(\n"
     ]
    },
    {
     "name": "stdout",
     "output_type": "stream",
     "text": [
      "there was no commited advantage in this match \n",
      "106/306 | league: Germany - 1. Bundesliga, match id 3890470, Hertha Berlin-Eintracht Frankfurt\n"
     ]
    },
    {
     "name": "stderr",
     "output_type": "stream",
     "text": [
      "/Users/emirysaglam/GitHub/Bitirme/.venv/lib/python3.10/site-packages/statsbombpy/api_client.py:21: NoAuthWarning: credentials were not supplied. open data access only\n",
      "  warnings.warn(\n"
     ]
    },
    {
     "name": "stdout",
     "output_type": "stream",
     "text": [
      "107/306 | league: Germany - 1. Bundesliga, match id 3890469, Hoffenheim-Augsburg\n"
     ]
    },
    {
     "name": "stderr",
     "output_type": "stream",
     "text": [
      "/Users/emirysaglam/GitHub/Bitirme/.venv/lib/python3.10/site-packages/statsbombpy/api_client.py:21: NoAuthWarning: credentials were not supplied. open data access only\n",
      "  warnings.warn(\n"
     ]
    },
    {
     "name": "stdout",
     "output_type": "stream",
     "text": [
      "108/306 | league: Germany - 1. Bundesliga, match id 3890468, Darmstadt 98-Borussia Dortmund\n"
     ]
    },
    {
     "name": "stderr",
     "output_type": "stream",
     "text": [
      "/Users/emirysaglam/GitHub/Bitirme/.venv/lib/python3.10/site-packages/statsbombpy/api_client.py:21: NoAuthWarning: credentials were not supplied. open data access only\n",
      "  warnings.warn(\n"
     ]
    },
    {
     "name": "stdout",
     "output_type": "stream",
     "text": [
      "109/306 | league: Germany - 1. Bundesliga, match id 3890467, Ingolstadt-FC Köln\n"
     ]
    },
    {
     "name": "stderr",
     "output_type": "stream",
     "text": [
      "/Users/emirysaglam/GitHub/Bitirme/.venv/lib/python3.10/site-packages/statsbombpy/api_client.py:21: NoAuthWarning: credentials were not supplied. open data access only\n",
      "  warnings.warn(\n"
     ]
    },
    {
     "name": "stdout",
     "output_type": "stream",
     "text": [
      "110/306 | league: Germany - 1. Bundesliga, match id 3890466, Hannover 96-Wolfsburg\n"
     ]
    },
    {
     "name": "stderr",
     "output_type": "stream",
     "text": [
      "/Users/emirysaglam/GitHub/Bitirme/.venv/lib/python3.10/site-packages/statsbombpy/api_client.py:21: NoAuthWarning: credentials were not supplied. open data access only\n",
      "  warnings.warn(\n"
     ]
    },
    {
     "name": "stdout",
     "output_type": "stream",
     "text": [
      "111/306 | league: Germany - 1. Bundesliga, match id 3890465, Eintracht Frankfurt-Schalke 04\n"
     ]
    },
    {
     "name": "stderr",
     "output_type": "stream",
     "text": [
      "/Users/emirysaglam/GitHub/Bitirme/.venv/lib/python3.10/site-packages/statsbombpy/api_client.py:21: NoAuthWarning: credentials were not supplied. open data access only\n",
      "  warnings.warn(\n"
     ]
    },
    {
     "name": "stdout",
     "output_type": "stream",
     "text": [
      "112/306 | league: Germany - 1. Bundesliga, match id 3890464, Borussia Dortmund-Hoffenheim\n"
     ]
    },
    {
     "name": "stderr",
     "output_type": "stream",
     "text": [
      "/Users/emirysaglam/GitHub/Bitirme/.venv/lib/python3.10/site-packages/statsbombpy/api_client.py:21: NoAuthWarning: credentials were not supplied. open data access only\n",
      "  warnings.warn(\n"
     ]
    },
    {
     "name": "stdout",
     "output_type": "stream",
     "text": [
      "113/306 | league: Germany - 1. Bundesliga, match id 3890463, FSV Mainz 05-Bayer Leverkusen\n"
     ]
    },
    {
     "name": "stderr",
     "output_type": "stream",
     "text": [
      "/Users/emirysaglam/GitHub/Bitirme/.venv/lib/python3.10/site-packages/statsbombpy/api_client.py:21: NoAuthWarning: credentials were not supplied. open data access only\n",
      "  warnings.warn(\n"
     ]
    },
    {
     "name": "stdout",
     "output_type": "stream",
     "text": [
      "114/306 | league: Germany - 1. Bundesliga, match id 3890462, Augsburg-Borussia Mönchengladbach\n"
     ]
    },
    {
     "name": "stderr",
     "output_type": "stream",
     "text": [
      "/Users/emirysaglam/GitHub/Bitirme/.venv/lib/python3.10/site-packages/statsbombpy/api_client.py:21: NoAuthWarning: credentials were not supplied. open data access only\n",
      "  warnings.warn(\n"
     ]
    },
    {
     "name": "stdout",
     "output_type": "stream",
     "text": [
      "there was no commited card in this match \n",
      "115/306 | league: Germany - 1. Bundesliga, match id 3890461, Hamburger SV-Ingolstadt\n"
     ]
    },
    {
     "name": "stderr",
     "output_type": "stream",
     "text": [
      "/Users/emirysaglam/GitHub/Bitirme/.venv/lib/python3.10/site-packages/statsbombpy/api_client.py:21: NoAuthWarning: credentials were not supplied. open data access only\n",
      "  warnings.warn(\n"
     ]
    },
    {
     "name": "stdout",
     "output_type": "stream",
     "text": [
      "116/306 | league: Germany - 1. Bundesliga, match id 3890460, VfB Stuttgart-Hannover 96\n"
     ]
    },
    {
     "name": "stderr",
     "output_type": "stream",
     "text": [
      "/Users/emirysaglam/GitHub/Bitirme/.venv/lib/python3.10/site-packages/statsbombpy/api_client.py:21: NoAuthWarning: credentials were not supplied. open data access only\n",
      "  warnings.warn(\n"
     ]
    },
    {
     "name": "stdout",
     "output_type": "stream",
     "text": [
      "117/306 | league: Germany - 1. Bundesliga, match id 3890459, Werder Bremen-Darmstadt 98\n"
     ]
    },
    {
     "name": "stderr",
     "output_type": "stream",
     "text": [
      "/Users/emirysaglam/GitHub/Bitirme/.venv/lib/python3.10/site-packages/statsbombpy/api_client.py:21: NoAuthWarning: credentials were not supplied. open data access only\n",
      "  warnings.warn(\n"
     ]
    },
    {
     "name": "stdout",
     "output_type": "stream",
     "text": [
      "118/306 | league: Germany - 1. Bundesliga, match id 3890458, Wolfsburg-Bayern Munich\n"
     ]
    },
    {
     "name": "stderr",
     "output_type": "stream",
     "text": [
      "/Users/emirysaglam/GitHub/Bitirme/.venv/lib/python3.10/site-packages/statsbombpy/api_client.py:21: NoAuthWarning: credentials were not supplied. open data access only\n",
      "  warnings.warn(\n"
     ]
    },
    {
     "name": "stdout",
     "output_type": "stream",
     "text": [
      "119/306 | league: Germany - 1. Bundesliga, match id 3890457, FC Köln-Hertha Berlin\n"
     ]
    },
    {
     "name": "stderr",
     "output_type": "stream",
     "text": [
      "/Users/emirysaglam/GitHub/Bitirme/.venv/lib/python3.10/site-packages/statsbombpy/api_client.py:21: NoAuthWarning: credentials were not supplied. open data access only\n",
      "  warnings.warn(\n"
     ]
    },
    {
     "name": "stdout",
     "output_type": "stream",
     "text": [
      "120/306 | league: Germany - 1. Bundesliga, match id 3890456, Bayer Leverkusen-Borussia Dortmund\n"
     ]
    },
    {
     "name": "stderr",
     "output_type": "stream",
     "text": [
      "/Users/emirysaglam/GitHub/Bitirme/.venv/lib/python3.10/site-packages/statsbombpy/api_client.py:21: NoAuthWarning: credentials were not supplied. open data access only\n",
      "  warnings.warn(\n"
     ]
    },
    {
     "name": "stdout",
     "output_type": "stream",
     "text": [
      "121/306 | league: Germany - 1. Bundesliga, match id 3890455, Schalke 04-VfB Stuttgart\n"
     ]
    },
    {
     "name": "stderr",
     "output_type": "stream",
     "text": [
      "/Users/emirysaglam/GitHub/Bitirme/.venv/lib/python3.10/site-packages/statsbombpy/api_client.py:21: NoAuthWarning: credentials were not supplied. open data access only\n",
      "  warnings.warn(\n"
     ]
    },
    {
     "name": "stdout",
     "output_type": "stream",
     "text": [
      "122/306 | league: Germany - 1. Bundesliga, match id 3890454, Hannover 96-Augsburg\n"
     ]
    },
    {
     "name": "stderr",
     "output_type": "stream",
     "text": [
      "/Users/emirysaglam/GitHub/Bitirme/.venv/lib/python3.10/site-packages/statsbombpy/api_client.py:21: NoAuthWarning: credentials were not supplied. open data access only\n",
      "  warnings.warn(\n"
     ]
    },
    {
     "name": "stdout",
     "output_type": "stream",
     "text": [
      "123/306 | league: Germany - 1. Bundesliga, match id 3890453, Bayern Munich-Darmstadt 98\n"
     ]
    },
    {
     "name": "stderr",
     "output_type": "stream",
     "text": [
      "/Users/emirysaglam/GitHub/Bitirme/.venv/lib/python3.10/site-packages/statsbombpy/api_client.py:21: NoAuthWarning: credentials were not supplied. open data access only\n",
      "  warnings.warn(\n"
     ]
    },
    {
     "name": "stdout",
     "output_type": "stream",
     "text": [
      "124/306 | league: Germany - 1. Bundesliga, match id 3890452, Hoffenheim-FSV Mainz 05\n"
     ]
    },
    {
     "name": "stderr",
     "output_type": "stream",
     "text": [
      "/Users/emirysaglam/GitHub/Bitirme/.venv/lib/python3.10/site-packages/statsbombpy/api_client.py:21: NoAuthWarning: credentials were not supplied. open data access only\n",
      "  warnings.warn(\n"
     ]
    },
    {
     "name": "stdout",
     "output_type": "stream",
     "text": [
      "125/306 | league: Germany - 1. Bundesliga, match id 3890451, Hertha Berlin-Wolfsburg\n"
     ]
    },
    {
     "name": "stderr",
     "output_type": "stream",
     "text": [
      "/Users/emirysaglam/GitHub/Bitirme/.venv/lib/python3.10/site-packages/statsbombpy/api_client.py:21: NoAuthWarning: credentials were not supplied. open data access only\n",
      "  warnings.warn(\n"
     ]
    },
    {
     "name": "stdout",
     "output_type": "stream",
     "text": [
      "126/306 | league: Germany - 1. Bundesliga, match id 3890450, Borussia Mönchengladbach-FC Köln\n"
     ]
    },
    {
     "name": "stderr",
     "output_type": "stream",
     "text": [
      "/Users/emirysaglam/GitHub/Bitirme/.venv/lib/python3.10/site-packages/statsbombpy/api_client.py:21: NoAuthWarning: credentials were not supplied. open data access only\n",
      "  warnings.warn(\n"
     ]
    },
    {
     "name": "stdout",
     "output_type": "stream",
     "text": [
      "127/306 | league: Germany - 1. Bundesliga, match id 3890449, Ingolstadt-Werder Bremen\n"
     ]
    },
    {
     "name": "stderr",
     "output_type": "stream",
     "text": [
      "/Users/emirysaglam/GitHub/Bitirme/.venv/lib/python3.10/site-packages/statsbombpy/api_client.py:21: NoAuthWarning: credentials were not supplied. open data access only\n",
      "  warnings.warn(\n"
     ]
    },
    {
     "name": "stdout",
     "output_type": "stream",
     "text": [
      "there was no commited advantage in this match \n",
      "128/306 | league: Germany - 1. Bundesliga, match id 3890448, Eintracht Frankfurt-Hamburger SV\n"
     ]
    },
    {
     "name": "stderr",
     "output_type": "stream",
     "text": [
      "/Users/emirysaglam/GitHub/Bitirme/.venv/lib/python3.10/site-packages/statsbombpy/api_client.py:21: NoAuthWarning: credentials were not supplied. open data access only\n",
      "  warnings.warn(\n"
     ]
    },
    {
     "name": "stdout",
     "output_type": "stream",
     "text": [
      "129/306 | league: Germany - 1. Bundesliga, match id 3890447, Hamburger SV-Borussia Mönchengladbach\n"
     ]
    },
    {
     "name": "stderr",
     "output_type": "stream",
     "text": [
      "/Users/emirysaglam/GitHub/Bitirme/.venv/lib/python3.10/site-packages/statsbombpy/api_client.py:21: NoAuthWarning: credentials were not supplied. open data access only\n",
      "  warnings.warn(\n"
     ]
    },
    {
     "name": "stdout",
     "output_type": "stream",
     "text": [
      "130/306 | league: Germany - 1. Bundesliga, match id 3890446, Augsburg-Bayern Munich\n"
     ]
    },
    {
     "name": "stderr",
     "output_type": "stream",
     "text": [
      "/Users/emirysaglam/GitHub/Bitirme/.venv/lib/python3.10/site-packages/statsbombpy/api_client.py:21: NoAuthWarning: credentials were not supplied. open data access only\n",
      "  warnings.warn(\n"
     ]
    },
    {
     "name": "stdout",
     "output_type": "stream",
     "text": [
      "131/306 | league: Germany - 1. Bundesliga, match id 3890445, Wolfsburg-Ingolstadt\n"
     ]
    },
    {
     "name": "stderr",
     "output_type": "stream",
     "text": [
      "/Users/emirysaglam/GitHub/Bitirme/.venv/lib/python3.10/site-packages/statsbombpy/api_client.py:21: NoAuthWarning: credentials were not supplied. open data access only\n",
      "  warnings.warn(\n"
     ]
    },
    {
     "name": "stdout",
     "output_type": "stream",
     "text": [
      "there was no commited card in this match \n",
      "132/306 | league: Germany - 1. Bundesliga, match id 3890444, Darmstadt 98-Bayer Leverkusen\n"
     ]
    },
    {
     "name": "stderr",
     "output_type": "stream",
     "text": [
      "/Users/emirysaglam/GitHub/Bitirme/.venv/lib/python3.10/site-packages/statsbombpy/api_client.py:21: NoAuthWarning: credentials were not supplied. open data access only\n",
      "  warnings.warn(\n"
     ]
    },
    {
     "name": "stdout",
     "output_type": "stream",
     "text": [
      "133/306 | league: Germany - 1. Bundesliga, match id 3890443, Werder Bremen-Hoffenheim\n"
     ]
    },
    {
     "name": "stderr",
     "output_type": "stream",
     "text": [
      "/Users/emirysaglam/GitHub/Bitirme/.venv/lib/python3.10/site-packages/statsbombpy/api_client.py:21: NoAuthWarning: credentials were not supplied. open data access only\n",
      "  warnings.warn(\n"
     ]
    },
    {
     "name": "stdout",
     "output_type": "stream",
     "text": [
      "134/306 | league: Germany - 1. Bundesliga, match id 3890442, Borussia Dortmund-Hannover 96\n"
     ]
    },
    {
     "name": "stderr",
     "output_type": "stream",
     "text": [
      "/Users/emirysaglam/GitHub/Bitirme/.venv/lib/python3.10/site-packages/statsbombpy/api_client.py:21: NoAuthWarning: credentials were not supplied. open data access only\n",
      "  warnings.warn(\n"
     ]
    },
    {
     "name": "stdout",
     "output_type": "stream",
     "text": [
      "135/306 | league: Germany - 1. Bundesliga, match id 3890441, VfB Stuttgart-Hertha Berlin\n"
     ]
    },
    {
     "name": "stderr",
     "output_type": "stream",
     "text": [
      "/Users/emirysaglam/GitHub/Bitirme/.venv/lib/python3.10/site-packages/statsbombpy/api_client.py:21: NoAuthWarning: credentials were not supplied. open data access only\n",
      "  warnings.warn(\n"
     ]
    },
    {
     "name": "stdout",
     "output_type": "stream",
     "text": [
      "136/306 | league: Germany - 1. Bundesliga, match id 3890440, FC Köln-Eintracht Frankfurt\n"
     ]
    },
    {
     "name": "stderr",
     "output_type": "stream",
     "text": [
      "/Users/emirysaglam/GitHub/Bitirme/.venv/lib/python3.10/site-packages/statsbombpy/api_client.py:21: NoAuthWarning: credentials were not supplied. open data access only\n",
      "  warnings.warn(\n"
     ]
    },
    {
     "name": "stdout",
     "output_type": "stream",
     "text": [
      "137/306 | league: Germany - 1. Bundesliga, match id 3890439, FSV Mainz 05-Schalke 04\n"
     ]
    },
    {
     "name": "stderr",
     "output_type": "stream",
     "text": [
      "/Users/emirysaglam/GitHub/Bitirme/.venv/lib/python3.10/site-packages/statsbombpy/api_client.py:21: NoAuthWarning: credentials were not supplied. open data access only\n",
      "  warnings.warn(\n"
     ]
    },
    {
     "name": "stdout",
     "output_type": "stream",
     "text": [
      "138/306 | league: Germany - 1. Bundesliga, match id 3890438, Hamburger SV-FC Köln\n"
     ]
    },
    {
     "name": "stderr",
     "output_type": "stream",
     "text": [
      "/Users/emirysaglam/GitHub/Bitirme/.venv/lib/python3.10/site-packages/statsbombpy/api_client.py:21: NoAuthWarning: credentials were not supplied. open data access only\n",
      "  warnings.warn(\n"
     ]
    },
    {
     "name": "stdout",
     "output_type": "stream",
     "text": [
      "139/306 | league: Germany - 1. Bundesliga, match id 3890437, Hoffenheim-Darmstadt 98\n"
     ]
    },
    {
     "name": "stderr",
     "output_type": "stream",
     "text": [
      "/Users/emirysaglam/GitHub/Bitirme/.venv/lib/python3.10/site-packages/statsbombpy/api_client.py:21: NoAuthWarning: credentials were not supplied. open data access only\n",
      "  warnings.warn(\n"
     ]
    },
    {
     "name": "stdout",
     "output_type": "stream",
     "text": [
      "140/306 | league: Germany - 1. Bundesliga, match id 3890436, Ingolstadt-Augsburg\n"
     ]
    },
    {
     "name": "stderr",
     "output_type": "stream",
     "text": [
      "/Users/emirysaglam/GitHub/Bitirme/.venv/lib/python3.10/site-packages/statsbombpy/api_client.py:21: NoAuthWarning: credentials were not supplied. open data access only\n",
      "  warnings.warn(\n"
     ]
    },
    {
     "name": "stdout",
     "output_type": "stream",
     "text": [
      "141/306 | league: Germany - 1. Bundesliga, match id 3890435, Hertha Berlin-Borussia Dortmund\n"
     ]
    },
    {
     "name": "stderr",
     "output_type": "stream",
     "text": [
      "/Users/emirysaglam/GitHub/Bitirme/.venv/lib/python3.10/site-packages/statsbombpy/api_client.py:21: NoAuthWarning: credentials were not supplied. open data access only\n",
      "  warnings.warn(\n"
     ]
    },
    {
     "name": "stdout",
     "output_type": "stream",
     "text": [
      "142/306 | league: Germany - 1. Bundesliga, match id 3890434, Hannover 96-FSV Mainz 05\n"
     ]
    },
    {
     "name": "stderr",
     "output_type": "stream",
     "text": [
      "/Users/emirysaglam/GitHub/Bitirme/.venv/lib/python3.10/site-packages/statsbombpy/api_client.py:21: NoAuthWarning: credentials were not supplied. open data access only\n",
      "  warnings.warn(\n"
     ]
    },
    {
     "name": "stdout",
     "output_type": "stream",
     "text": [
      "143/306 | league: Germany - 1. Bundesliga, match id 3890433, Eintracht Frankfurt-VfB Stuttgart\n"
     ]
    },
    {
     "name": "stderr",
     "output_type": "stream",
     "text": [
      "/Users/emirysaglam/GitHub/Bitirme/.venv/lib/python3.10/site-packages/statsbombpy/api_client.py:21: NoAuthWarning: credentials were not supplied. open data access only\n",
      "  warnings.warn(\n"
     ]
    },
    {
     "name": "stdout",
     "output_type": "stream",
     "text": [
      "144/306 | league: Germany - 1. Bundesliga, match id 3890432, Schalke 04-Wolfsburg\n"
     ]
    },
    {
     "name": "stderr",
     "output_type": "stream",
     "text": [
      "/Users/emirysaglam/GitHub/Bitirme/.venv/lib/python3.10/site-packages/statsbombpy/api_client.py:21: NoAuthWarning: credentials were not supplied. open data access only\n",
      "  warnings.warn(\n"
     ]
    },
    {
     "name": "stdout",
     "output_type": "stream",
     "text": [
      "145/306 | league: Germany - 1. Bundesliga, match id 3890431, Bayer Leverkusen-Bayern Munich\n"
     ]
    },
    {
     "name": "stderr",
     "output_type": "stream",
     "text": [
      "/Users/emirysaglam/GitHub/Bitirme/.venv/lib/python3.10/site-packages/statsbombpy/api_client.py:21: NoAuthWarning: credentials were not supplied. open data access only\n",
      "  warnings.warn(\n"
     ]
    },
    {
     "name": "stdout",
     "output_type": "stream",
     "text": [
      "146/306 | league: Germany - 1. Bundesliga, match id 3890430, Borussia Mönchengladbach-Werder Bremen\n"
     ]
    },
    {
     "name": "stderr",
     "output_type": "stream",
     "text": [
      "/Users/emirysaglam/GitHub/Bitirme/.venv/lib/python3.10/site-packages/statsbombpy/api_client.py:21: NoAuthWarning: credentials were not supplied. open data access only\n",
      "  warnings.warn(\n"
     ]
    },
    {
     "name": "stdout",
     "output_type": "stream",
     "text": [
      "147/306 | league: Germany - 1. Bundesliga, match id 3890429, Wolfsburg-FC Köln\n"
     ]
    },
    {
     "name": "stderr",
     "output_type": "stream",
     "text": [
      "/Users/emirysaglam/GitHub/Bitirme/.venv/lib/python3.10/site-packages/statsbombpy/api_client.py:21: NoAuthWarning: credentials were not supplied. open data access only\n",
      "  warnings.warn(\n"
     ]
    },
    {
     "name": "stdout",
     "output_type": "stream",
     "text": [
      "148/306 | league: Germany - 1. Bundesliga, match id 3890428, Bayern Munich-Hoffenheim\n"
     ]
    },
    {
     "name": "stderr",
     "output_type": "stream",
     "text": [
      "/Users/emirysaglam/GitHub/Bitirme/.venv/lib/python3.10/site-packages/statsbombpy/api_client.py:21: NoAuthWarning: credentials were not supplied. open data access only\n",
      "  warnings.warn(\n"
     ]
    },
    {
     "name": "stdout",
     "output_type": "stream",
     "text": [
      "149/306 | league: Germany - 1. Bundesliga, match id 3890427, Bayer Leverkusen-Hannover 96\n"
     ]
    },
    {
     "name": "stderr",
     "output_type": "stream",
     "text": [
      "/Users/emirysaglam/GitHub/Bitirme/.venv/lib/python3.10/site-packages/statsbombpy/api_client.py:21: NoAuthWarning: credentials were not supplied. open data access only\n",
      "  warnings.warn(\n"
     ]
    },
    {
     "name": "stdout",
     "output_type": "stream",
     "text": [
      "150/306 | league: Germany - 1. Bundesliga, match id 3890426, Augsburg-Eintracht Frankfurt\n"
     ]
    },
    {
     "name": "stderr",
     "output_type": "stream",
     "text": [
      "/Users/emirysaglam/GitHub/Bitirme/.venv/lib/python3.10/site-packages/statsbombpy/api_client.py:21: NoAuthWarning: credentials were not supplied. open data access only\n",
      "  warnings.warn(\n"
     ]
    },
    {
     "name": "stdout",
     "output_type": "stream",
     "text": [
      "151/306 | league: Germany - 1. Bundesliga, match id 3890425, Werder Bremen-Hertha Berlin\n"
     ]
    },
    {
     "name": "stderr",
     "output_type": "stream",
     "text": [
      "/Users/emirysaglam/GitHub/Bitirme/.venv/lib/python3.10/site-packages/statsbombpy/api_client.py:21: NoAuthWarning: credentials were not supplied. open data access only\n",
      "  warnings.warn(\n"
     ]
    },
    {
     "name": "stdout",
     "output_type": "stream",
     "text": [
      "152/306 | league: Germany - 1. Bundesliga, match id 3890424, Darmstadt 98-Schalke 04\n"
     ]
    },
    {
     "name": "stderr",
     "output_type": "stream",
     "text": [
      "/Users/emirysaglam/GitHub/Bitirme/.venv/lib/python3.10/site-packages/statsbombpy/api_client.py:21: NoAuthWarning: credentials were not supplied. open data access only\n",
      "  warnings.warn(\n"
     ]
    },
    {
     "name": "stdout",
     "output_type": "stream",
     "text": [
      "153/306 | league: Germany - 1. Bundesliga, match id 3890423, VfB Stuttgart-Hamburger SV\n"
     ]
    },
    {
     "name": "stderr",
     "output_type": "stream",
     "text": [
      "/Users/emirysaglam/GitHub/Bitirme/.venv/lib/python3.10/site-packages/statsbombpy/api_client.py:21: NoAuthWarning: credentials were not supplied. open data access only\n",
      "  warnings.warn(\n"
     ]
    },
    {
     "name": "stdout",
     "output_type": "stream",
     "text": [
      "154/306 | league: Germany - 1. Bundesliga, match id 3890422, Borussia Dortmund-Ingolstadt\n"
     ]
    },
    {
     "name": "stderr",
     "output_type": "stream",
     "text": [
      "/Users/emirysaglam/GitHub/Bitirme/.venv/lib/python3.10/site-packages/statsbombpy/api_client.py:21: NoAuthWarning: credentials were not supplied. open data access only\n",
      "  warnings.warn(\n"
     ]
    },
    {
     "name": "stdout",
     "output_type": "stream",
     "text": [
      "155/306 | league: Germany - 1. Bundesliga, match id 3890421, FSV Mainz 05-Borussia Mönchengladbach\n"
     ]
    },
    {
     "name": "stderr",
     "output_type": "stream",
     "text": [
      "/Users/emirysaglam/GitHub/Bitirme/.venv/lib/python3.10/site-packages/statsbombpy/api_client.py:21: NoAuthWarning: credentials were not supplied. open data access only\n",
      "  warnings.warn(\n"
     ]
    },
    {
     "name": "stdout",
     "output_type": "stream",
     "text": [
      "156/306 | league: Germany - 1. Bundesliga, match id 3890420, Eintracht Frankfurt-Wolfsburg\n"
     ]
    },
    {
     "name": "stderr",
     "output_type": "stream",
     "text": [
      "/Users/emirysaglam/GitHub/Bitirme/.venv/lib/python3.10/site-packages/statsbombpy/api_client.py:21: NoAuthWarning: credentials were not supplied. open data access only\n",
      "  warnings.warn(\n"
     ]
    },
    {
     "name": "stdout",
     "output_type": "stream",
     "text": [
      "157/306 | league: Germany - 1. Bundesliga, match id 3890419, Schalke 04-Werder Bremen\n"
     ]
    },
    {
     "name": "stderr",
     "output_type": "stream",
     "text": [
      "/Users/emirysaglam/GitHub/Bitirme/.venv/lib/python3.10/site-packages/statsbombpy/api_client.py:21: NoAuthWarning: credentials were not supplied. open data access only\n",
      "  warnings.warn(\n"
     ]
    },
    {
     "name": "stdout",
     "output_type": "stream",
     "text": [
      "there was no commited advantage in this match \n",
      "158/306 | league: Germany - 1. Bundesliga, match id 3890418, Hannover 96-Darmstadt 98\n"
     ]
    },
    {
     "name": "stderr",
     "output_type": "stream",
     "text": [
      "/Users/emirysaglam/GitHub/Bitirme/.venv/lib/python3.10/site-packages/statsbombpy/api_client.py:21: NoAuthWarning: credentials were not supplied. open data access only\n",
      "  warnings.warn(\n"
     ]
    },
    {
     "name": "stdout",
     "output_type": "stream",
     "text": [
      "there was no commited advantage in this match \n",
      "159/306 | league: Germany - 1. Bundesliga, match id 3890417, Borussia Mönchengladbach-Borussia Dortmund\n"
     ]
    },
    {
     "name": "stderr",
     "output_type": "stream",
     "text": [
      "/Users/emirysaglam/GitHub/Bitirme/.venv/lib/python3.10/site-packages/statsbombpy/api_client.py:21: NoAuthWarning: credentials were not supplied. open data access only\n",
      "  warnings.warn(\n"
     ]
    },
    {
     "name": "stdout",
     "output_type": "stream",
     "text": [
      "there was no commited advantage in this match \n",
      "160/306 | league: Germany - 1. Bundesliga, match id 3890416, Ingolstadt-FSV Mainz 05\n"
     ]
    },
    {
     "name": "stderr",
     "output_type": "stream",
     "text": [
      "/Users/emirysaglam/GitHub/Bitirme/.venv/lib/python3.10/site-packages/statsbombpy/api_client.py:21: NoAuthWarning: credentials were not supplied. open data access only\n",
      "  warnings.warn(\n"
     ]
    },
    {
     "name": "stdout",
     "output_type": "stream",
     "text": [
      "161/306 | league: Germany - 1. Bundesliga, match id 3890415, Hoffenheim-Bayer Leverkusen\n"
     ]
    },
    {
     "name": "stderr",
     "output_type": "stream",
     "text": [
      "/Users/emirysaglam/GitHub/Bitirme/.venv/lib/python3.10/site-packages/statsbombpy/api_client.py:21: NoAuthWarning: credentials were not supplied. open data access only\n",
      "  warnings.warn(\n"
     ]
    },
    {
     "name": "stdout",
     "output_type": "stream",
     "text": [
      "162/306 | league: Germany - 1. Bundesliga, match id 3890414, Hertha Berlin-Augsburg\n"
     ]
    },
    {
     "name": "stderr",
     "output_type": "stream",
     "text": [
      "/Users/emirysaglam/GitHub/Bitirme/.venv/lib/python3.10/site-packages/statsbombpy/api_client.py:21: NoAuthWarning: credentials were not supplied. open data access only\n",
      "  warnings.warn(\n"
     ]
    },
    {
     "name": "stdout",
     "output_type": "stream",
     "text": [
      "163/306 | league: Germany - 1. Bundesliga, match id 3890413, FC Köln-VfB Stuttgart\n"
     ]
    },
    {
     "name": "stderr",
     "output_type": "stream",
     "text": [
      "/Users/emirysaglam/GitHub/Bitirme/.venv/lib/python3.10/site-packages/statsbombpy/api_client.py:21: NoAuthWarning: credentials were not supplied. open data access only\n",
      "  warnings.warn(\n"
     ]
    },
    {
     "name": "stdout",
     "output_type": "stream",
     "text": [
      "164/306 | league: Germany - 1. Bundesliga, match id 3890412, Hamburger SV-Bayern Munich\n"
     ]
    },
    {
     "name": "stderr",
     "output_type": "stream",
     "text": [
      "/Users/emirysaglam/GitHub/Bitirme/.venv/lib/python3.10/site-packages/statsbombpy/api_client.py:21: NoAuthWarning: credentials were not supplied. open data access only\n",
      "  warnings.warn(\n"
     ]
    },
    {
     "name": "stdout",
     "output_type": "stream",
     "text": [
      "165/306 | league: Germany - 1. Bundesliga, match id 3890410, Borussia Mönchengladbach-Darmstadt 98\n"
     ]
    },
    {
     "name": "stderr",
     "output_type": "stream",
     "text": [
      "/Users/emirysaglam/GitHub/Bitirme/.venv/lib/python3.10/site-packages/statsbombpy/api_client.py:21: NoAuthWarning: credentials were not supplied. open data access only\n",
      "  warnings.warn(\n"
     ]
    },
    {
     "name": "stdout",
     "output_type": "stream",
     "text": [
      "166/306 | league: Germany - 1. Bundesliga, match id 3890409, Ingolstadt-Bayer Leverkusen\n"
     ]
    },
    {
     "name": "stderr",
     "output_type": "stream",
     "text": [
      "/Users/emirysaglam/GitHub/Bitirme/.venv/lib/python3.10/site-packages/statsbombpy/api_client.py:21: NoAuthWarning: credentials were not supplied. open data access only\n",
      "  warnings.warn(\n"
     ]
    },
    {
     "name": "stdout",
     "output_type": "stream",
     "text": [
      "167/306 | league: Germany - 1. Bundesliga, match id 3890408, VfB Stuttgart-Wolfsburg\n"
     ]
    },
    {
     "name": "stderr",
     "output_type": "stream",
     "text": [
      "/Users/emirysaglam/GitHub/Bitirme/.venv/lib/python3.10/site-packages/statsbombpy/api_client.py:21: NoAuthWarning: credentials were not supplied. open data access only\n",
      "  warnings.warn(\n"
     ]
    },
    {
     "name": "stdout",
     "output_type": "stream",
     "text": [
      "168/306 | league: Germany - 1. Bundesliga, match id 3890407, Hannover 96-Bayern Munich\n"
     ]
    },
    {
     "name": "stderr",
     "output_type": "stream",
     "text": [
      "/Users/emirysaglam/GitHub/Bitirme/.venv/lib/python3.10/site-packages/statsbombpy/api_client.py:21: NoAuthWarning: credentials were not supplied. open data access only\n",
      "  warnings.warn(\n"
     ]
    },
    {
     "name": "stdout",
     "output_type": "stream",
     "text": [
      "there was no commited card in this match \n",
      "169/306 | league: Germany - 1. Bundesliga, match id 3890406, FC Köln-Borussia Dortmund\n"
     ]
    },
    {
     "name": "stderr",
     "output_type": "stream",
     "text": [
      "/Users/emirysaglam/GitHub/Bitirme/.venv/lib/python3.10/site-packages/statsbombpy/api_client.py:21: NoAuthWarning: credentials were not supplied. open data access only\n",
      "  warnings.warn(\n"
     ]
    },
    {
     "name": "stdout",
     "output_type": "stream",
     "text": [
      "170/306 | league: Germany - 1. Bundesliga, match id 3890405, Eintracht Frankfurt-Werder Bremen\n"
     ]
    },
    {
     "name": "stderr",
     "output_type": "stream",
     "text": [
      "/Users/emirysaglam/GitHub/Bitirme/.venv/lib/python3.10/site-packages/statsbombpy/api_client.py:21: NoAuthWarning: credentials were not supplied. open data access only\n",
      "  warnings.warn(\n"
     ]
    },
    {
     "name": "stdout",
     "output_type": "stream",
     "text": [
      "171/306 | league: Germany - 1. Bundesliga, match id 3890404, Hamburger SV-Augsburg\n"
     ]
    },
    {
     "name": "stderr",
     "output_type": "stream",
     "text": [
      "/Users/emirysaglam/GitHub/Bitirme/.venv/lib/python3.10/site-packages/statsbombpy/api_client.py:21: NoAuthWarning: credentials were not supplied. open data access only\n",
      "  warnings.warn(\n"
     ]
    },
    {
     "name": "stdout",
     "output_type": "stream",
     "text": [
      "172/306 | league: Germany - 1. Bundesliga, match id 3890403, Schalke 04-Hoffenheim\n"
     ]
    },
    {
     "name": "stderr",
     "output_type": "stream",
     "text": [
      "/Users/emirysaglam/GitHub/Bitirme/.venv/lib/python3.10/site-packages/statsbombpy/api_client.py:21: NoAuthWarning: credentials were not supplied. open data access only\n",
      "  warnings.warn(\n"
     ]
    },
    {
     "name": "stdout",
     "output_type": "stream",
     "text": [
      "173/306 | league: Germany - 1. Bundesliga, match id 3890400, Werder Bremen-FC Köln\n"
     ]
    },
    {
     "name": "stderr",
     "output_type": "stream",
     "text": [
      "/Users/emirysaglam/GitHub/Bitirme/.venv/lib/python3.10/site-packages/statsbombpy/api_client.py:21: NoAuthWarning: credentials were not supplied. open data access only\n",
      "  warnings.warn(\n"
     ]
    },
    {
     "name": "stdout",
     "output_type": "stream",
     "text": [
      "174/306 | league: Germany - 1. Bundesliga, match id 3890399, Bayern Munich-Ingolstadt\n"
     ]
    },
    {
     "name": "stderr",
     "output_type": "stream",
     "text": [
      "/Users/emirysaglam/GitHub/Bitirme/.venv/lib/python3.10/site-packages/statsbombpy/api_client.py:21: NoAuthWarning: credentials were not supplied. open data access only\n",
      "  warnings.warn(\n"
     ]
    },
    {
     "name": "stdout",
     "output_type": "stream",
     "text": [
      "175/306 | league: Germany - 1. Bundesliga, match id 3890398, Darmstadt 98-Hertha Berlin\n"
     ]
    },
    {
     "name": "stderr",
     "output_type": "stream",
     "text": [
      "/Users/emirysaglam/GitHub/Bitirme/.venv/lib/python3.10/site-packages/statsbombpy/api_client.py:21: NoAuthWarning: credentials were not supplied. open data access only\n",
      "  warnings.warn(\n"
     ]
    },
    {
     "name": "stdout",
     "output_type": "stream",
     "text": [
      "176/306 | league: Germany - 1. Bundesliga, match id 3890395, Bayer Leverkusen-Borussia Mönchengladbach\n"
     ]
    },
    {
     "name": "stderr",
     "output_type": "stream",
     "text": [
      "/Users/emirysaglam/GitHub/Bitirme/.venv/lib/python3.10/site-packages/statsbombpy/api_client.py:21: NoAuthWarning: credentials were not supplied. open data access only\n",
      "  warnings.warn(\n"
     ]
    },
    {
     "name": "stdout",
     "output_type": "stream",
     "text": [
      "177/306 | league: Germany - 1. Bundesliga, match id 3890394, FSV Mainz 05-VfB Stuttgart\n"
     ]
    },
    {
     "name": "stderr",
     "output_type": "stream",
     "text": [
      "/Users/emirysaglam/GitHub/Bitirme/.venv/lib/python3.10/site-packages/statsbombpy/api_client.py:21: NoAuthWarning: credentials were not supplied. open data access only\n",
      "  warnings.warn(\n"
     ]
    },
    {
     "name": "stdout",
     "output_type": "stream",
     "text": [
      "178/306 | league: Germany - 1. Bundesliga, match id 3890393, Eintracht Frankfurt-Darmstadt 98\n"
     ]
    },
    {
     "name": "stderr",
     "output_type": "stream",
     "text": [
      "/Users/emirysaglam/GitHub/Bitirme/.venv/lib/python3.10/site-packages/statsbombpy/api_client.py:21: NoAuthWarning: credentials were not supplied. open data access only\n",
      "  warnings.warn(\n"
     ]
    },
    {
     "name": "stdout",
     "output_type": "stream",
     "text": [
      "179/306 | league: Germany - 1. Bundesliga, match id 3890392, VfB Stuttgart-Werder Bremen\n"
     ]
    },
    {
     "name": "stderr",
     "output_type": "stream",
     "text": [
      "/Users/emirysaglam/GitHub/Bitirme/.venv/lib/python3.10/site-packages/statsbombpy/api_client.py:21: NoAuthWarning: credentials were not supplied. open data access only\n",
      "  warnings.warn(\n"
     ]
    },
    {
     "name": "stdout",
     "output_type": "stream",
     "text": [
      "180/306 | league: Germany - 1. Bundesliga, match id 3890391, FC Köln-Augsburg\n"
     ]
    },
    {
     "name": "stderr",
     "output_type": "stream",
     "text": [
      "/Users/emirysaglam/GitHub/Bitirme/.venv/lib/python3.10/site-packages/statsbombpy/api_client.py:21: NoAuthWarning: credentials were not supplied. open data access only\n",
      "  warnings.warn(\n"
     ]
    },
    {
     "name": "stdout",
     "output_type": "stream",
     "text": [
      "181/306 | league: Germany - 1. Bundesliga, match id 3890390, Hertha Berlin-Bayer Leverkusen\n"
     ]
    },
    {
     "name": "stderr",
     "output_type": "stream",
     "text": [
      "/Users/emirysaglam/GitHub/Bitirme/.venv/lib/python3.10/site-packages/statsbombpy/api_client.py:21: NoAuthWarning: credentials were not supplied. open data access only\n",
      "  warnings.warn(\n"
     ]
    },
    {
     "name": "stdout",
     "output_type": "stream",
     "text": [
      "182/306 | league: Germany - 1. Bundesliga, match id 3890389, Ingolstadt-Hoffenheim\n"
     ]
    },
    {
     "name": "stderr",
     "output_type": "stream",
     "text": [
      "/Users/emirysaglam/GitHub/Bitirme/.venv/lib/python3.10/site-packages/statsbombpy/api_client.py:21: NoAuthWarning: credentials were not supplied. open data access only\n",
      "  warnings.warn(\n"
     ]
    },
    {
     "name": "stdout",
     "output_type": "stream",
     "text": [
      "183/306 | league: Germany - 1. Bundesliga, match id 3890388, Wolfsburg-Borussia Dortmund\n"
     ]
    },
    {
     "name": "stderr",
     "output_type": "stream",
     "text": [
      "/Users/emirysaglam/GitHub/Bitirme/.venv/lib/python3.10/site-packages/statsbombpy/api_client.py:21: NoAuthWarning: credentials were not supplied. open data access only\n",
      "  warnings.warn(\n"
     ]
    },
    {
     "name": "stdout",
     "output_type": "stream",
     "text": [
      "184/306 | league: Germany - 1. Bundesliga, match id 3890387, Borussia Mönchengladbach-Bayern Munich\n"
     ]
    },
    {
     "name": "stderr",
     "output_type": "stream",
     "text": [
      "/Users/emirysaglam/GitHub/Bitirme/.venv/lib/python3.10/site-packages/statsbombpy/api_client.py:21: NoAuthWarning: credentials were not supplied. open data access only\n",
      "  warnings.warn(\n"
     ]
    },
    {
     "name": "stdout",
     "output_type": "stream",
     "text": [
      "185/306 | league: Germany - 1. Bundesliga, match id 3890386, Hamburger SV-FSV Mainz 05\n"
     ]
    },
    {
     "name": "stderr",
     "output_type": "stream",
     "text": [
      "/Users/emirysaglam/GitHub/Bitirme/.venv/lib/python3.10/site-packages/statsbombpy/api_client.py:21: NoAuthWarning: credentials were not supplied. open data access only\n",
      "  warnings.warn(\n"
     ]
    },
    {
     "name": "stdout",
     "output_type": "stream",
     "text": [
      "186/306 | league: Germany - 1. Bundesliga, match id 3890383, Augsburg-Wolfsburg\n"
     ]
    },
    {
     "name": "stderr",
     "output_type": "stream",
     "text": [
      "/Users/emirysaglam/GitHub/Bitirme/.venv/lib/python3.10/site-packages/statsbombpy/api_client.py:21: NoAuthWarning: credentials were not supplied. open data access only\n",
      "  warnings.warn(\n"
     ]
    },
    {
     "name": "stdout",
     "output_type": "stream",
     "text": [
      "187/306 | league: Germany - 1. Bundesliga, match id 3890382, Bayer Leverkusen-Schalke 04\n"
     ]
    },
    {
     "name": "stderr",
     "output_type": "stream",
     "text": [
      "/Users/emirysaglam/GitHub/Bitirme/.venv/lib/python3.10/site-packages/statsbombpy/api_client.py:21: NoAuthWarning: credentials were not supplied. open data access only\n",
      "  warnings.warn(\n"
     ]
    },
    {
     "name": "stdout",
     "output_type": "stream",
     "text": [
      "188/306 | league: Germany - 1. Bundesliga, match id 3890381, FSV Mainz 05-Eintracht Frankfurt\n"
     ]
    },
    {
     "name": "stderr",
     "output_type": "stream",
     "text": [
      "/Users/emirysaglam/GitHub/Bitirme/.venv/lib/python3.10/site-packages/statsbombpy/api_client.py:21: NoAuthWarning: credentials were not supplied. open data access only\n",
      "  warnings.warn(\n"
     ]
    },
    {
     "name": "stdout",
     "output_type": "stream",
     "text": [
      "189/306 | league: Germany - 1. Bundesliga, match id 3890380, Hannover 96-Ingolstadt\n"
     ]
    },
    {
     "name": "stderr",
     "output_type": "stream",
     "text": [
      "/Users/emirysaglam/GitHub/Bitirme/.venv/lib/python3.10/site-packages/statsbombpy/api_client.py:21: NoAuthWarning: credentials were not supplied. open data access only\n",
      "  warnings.warn(\n"
     ]
    },
    {
     "name": "stdout",
     "output_type": "stream",
     "text": [
      "190/306 | league: Germany - 1. Bundesliga, match id 3890379, Werder Bremen-Hamburger SV\n"
     ]
    },
    {
     "name": "stderr",
     "output_type": "stream",
     "text": [
      "/Users/emirysaglam/GitHub/Bitirme/.venv/lib/python3.10/site-packages/statsbombpy/api_client.py:21: NoAuthWarning: credentials were not supplied. open data access only\n",
      "  warnings.warn(\n"
     ]
    },
    {
     "name": "stdout",
     "output_type": "stream",
     "text": [
      "191/306 | league: Germany - 1. Bundesliga, match id 3890378, Bayern Munich-Hertha Berlin\n"
     ]
    },
    {
     "name": "stderr",
     "output_type": "stream",
     "text": [
      "/Users/emirysaglam/GitHub/Bitirme/.venv/lib/python3.10/site-packages/statsbombpy/api_client.py:21: NoAuthWarning: credentials were not supplied. open data access only\n",
      "  warnings.warn(\n"
     ]
    },
    {
     "name": "stdout",
     "output_type": "stream",
     "text": [
      "192/306 | league: Germany - 1. Bundesliga, match id 3890377, Hoffenheim-Borussia Mönchengladbach\n"
     ]
    },
    {
     "name": "stderr",
     "output_type": "stream",
     "text": [
      "/Users/emirysaglam/GitHub/Bitirme/.venv/lib/python3.10/site-packages/statsbombpy/api_client.py:21: NoAuthWarning: credentials were not supplied. open data access only\n",
      "  warnings.warn(\n"
     ]
    },
    {
     "name": "stdout",
     "output_type": "stream",
     "text": [
      "193/306 | league: Germany - 1. Bundesliga, match id 3890376, Darmstadt 98-FC Köln\n"
     ]
    },
    {
     "name": "stderr",
     "output_type": "stream",
     "text": [
      "/Users/emirysaglam/GitHub/Bitirme/.venv/lib/python3.10/site-packages/statsbombpy/api_client.py:21: NoAuthWarning: credentials were not supplied. open data access only\n",
      "  warnings.warn(\n"
     ]
    },
    {
     "name": "stdout",
     "output_type": "stream",
     "text": [
      "194/306 | league: Germany - 1. Bundesliga, match id 3890375, Hertha Berlin-Hoffenheim\n"
     ]
    },
    {
     "name": "stderr",
     "output_type": "stream",
     "text": [
      "/Users/emirysaglam/GitHub/Bitirme/.venv/lib/python3.10/site-packages/statsbombpy/api_client.py:21: NoAuthWarning: credentials were not supplied. open data access only\n",
      "  warnings.warn(\n"
     ]
    },
    {
     "name": "stdout",
     "output_type": "stream",
     "text": [
      "195/306 | league: Germany - 1. Bundesliga, match id 3890374, Ingolstadt-Darmstadt 98\n"
     ]
    },
    {
     "name": "stderr",
     "output_type": "stream",
     "text": [
      "/Users/emirysaglam/GitHub/Bitirme/.venv/lib/python3.10/site-packages/statsbombpy/api_client.py:21: NoAuthWarning: credentials were not supplied. open data access only\n",
      "  warnings.warn(\n"
     ]
    },
    {
     "name": "stdout",
     "output_type": "stream",
     "text": [
      "196/306 | league: Germany - 1. Bundesliga, match id 3890373, Borussia Mönchengladbach-Hannover 96\n"
     ]
    },
    {
     "name": "stderr",
     "output_type": "stream",
     "text": [
      "/Users/emirysaglam/GitHub/Bitirme/.venv/lib/python3.10/site-packages/statsbombpy/api_client.py:21: NoAuthWarning: credentials were not supplied. open data access only\n",
      "  warnings.warn(\n"
     ]
    },
    {
     "name": "stdout",
     "output_type": "stream",
     "text": [
      "197/306 | league: Germany - 1. Bundesliga, match id 3890372, VfB Stuttgart-Augsburg\n"
     ]
    },
    {
     "name": "stderr",
     "output_type": "stream",
     "text": [
      "/Users/emirysaglam/GitHub/Bitirme/.venv/lib/python3.10/site-packages/statsbombpy/api_client.py:21: NoAuthWarning: credentials were not supplied. open data access only\n",
      "  warnings.warn(\n"
     ]
    },
    {
     "name": "stdout",
     "output_type": "stream",
     "text": [
      "198/306 | league: Germany - 1. Bundesliga, match id 3890371, FC Köln-FSV Mainz 05\n"
     ]
    },
    {
     "name": "stderr",
     "output_type": "stream",
     "text": [
      "/Users/emirysaglam/GitHub/Bitirme/.venv/lib/python3.10/site-packages/statsbombpy/api_client.py:21: NoAuthWarning: credentials were not supplied. open data access only\n",
      "  warnings.warn(\n"
     ]
    },
    {
     "name": "stdout",
     "output_type": "stream",
     "text": [
      "199/306 | league: Germany - 1. Bundesliga, match id 3890370, Eintracht Frankfurt-Bayer Leverkusen\n"
     ]
    },
    {
     "name": "stderr",
     "output_type": "stream",
     "text": [
      "/Users/emirysaglam/GitHub/Bitirme/.venv/lib/python3.10/site-packages/statsbombpy/api_client.py:21: NoAuthWarning: credentials were not supplied. open data access only\n",
      "  warnings.warn(\n"
     ]
    },
    {
     "name": "stdout",
     "output_type": "stream",
     "text": [
      "200/306 | league: Germany - 1. Bundesliga, match id 3890369, Schalke 04-Bayern Munich\n"
     ]
    },
    {
     "name": "stderr",
     "output_type": "stream",
     "text": [
      "/Users/emirysaglam/GitHub/Bitirme/.venv/lib/python3.10/site-packages/statsbombpy/api_client.py:21: NoAuthWarning: credentials were not supplied. open data access only\n",
      "  warnings.warn(\n"
     ]
    },
    {
     "name": "stdout",
     "output_type": "stream",
     "text": [
      "201/306 | league: Germany - 1. Bundesliga, match id 3890368, Wolfsburg-Werder Bremen\n"
     ]
    },
    {
     "name": "stderr",
     "output_type": "stream",
     "text": [
      "/Users/emirysaglam/GitHub/Bitirme/.venv/lib/python3.10/site-packages/statsbombpy/api_client.py:21: NoAuthWarning: credentials were not supplied. open data access only\n",
      "  warnings.warn(\n"
     ]
    },
    {
     "name": "stdout",
     "output_type": "stream",
     "text": [
      "there was no commited advantage in this match \n",
      "202/306 | league: Germany - 1. Bundesliga, match id 3890367, Hamburger SV-Borussia Dortmund\n"
     ]
    },
    {
     "name": "stderr",
     "output_type": "stream",
     "text": [
      "/Users/emirysaglam/GitHub/Bitirme/.venv/lib/python3.10/site-packages/statsbombpy/api_client.py:21: NoAuthWarning: credentials were not supplied. open data access only\n",
      "  warnings.warn(\n"
     ]
    },
    {
     "name": "stdout",
     "output_type": "stream",
     "text": [
      "203/306 | league: Germany - 1. Bundesliga, match id 3890366, Augsburg-Werder Bremen\n"
     ]
    },
    {
     "name": "stderr",
     "output_type": "stream",
     "text": [
      "/Users/emirysaglam/GitHub/Bitirme/.venv/lib/python3.10/site-packages/statsbombpy/api_client.py:21: NoAuthWarning: credentials were not supplied. open data access only\n",
      "  warnings.warn(\n"
     ]
    },
    {
     "name": "stdout",
     "output_type": "stream",
     "text": [
      "204/306 | league: Germany - 1. Bundesliga, match id 3890365, Borussia Dortmund-Schalke 04\n"
     ]
    },
    {
     "name": "stderr",
     "output_type": "stream",
     "text": [
      "/Users/emirysaglam/GitHub/Bitirme/.venv/lib/python3.10/site-packages/statsbombpy/api_client.py:21: NoAuthWarning: credentials were not supplied. open data access only\n",
      "  warnings.warn(\n"
     ]
    },
    {
     "name": "stdout",
     "output_type": "stream",
     "text": [
      "205/306 | league: Germany - 1. Bundesliga, match id 3890364, Bayern Munich-VfB Stuttgart\n"
     ]
    },
    {
     "name": "stderr",
     "output_type": "stream",
     "text": [
      "/Users/emirysaglam/GitHub/Bitirme/.venv/lib/python3.10/site-packages/statsbombpy/api_client.py:21: NoAuthWarning: credentials were not supplied. open data access only\n",
      "  warnings.warn(\n"
     ]
    },
    {
     "name": "stdout",
     "output_type": "stream",
     "text": [
      "there was no commited advantage nor commited card in this match \n",
      "206/306 | league: Germany - 1. Bundesliga, match id 3890363, Borussia Mönchengladbach-Ingolstadt\n"
     ]
    },
    {
     "name": "stderr",
     "output_type": "stream",
     "text": [
      "/Users/emirysaglam/GitHub/Bitirme/.venv/lib/python3.10/site-packages/statsbombpy/api_client.py:21: NoAuthWarning: credentials were not supplied. open data access only\n",
      "  warnings.warn(\n"
     ]
    },
    {
     "name": "stdout",
     "output_type": "stream",
     "text": [
      "207/306 | league: Germany - 1. Bundesliga, match id 3890362, Hoffenheim-Eintracht Frankfurt\n"
     ]
    },
    {
     "name": "stderr",
     "output_type": "stream",
     "text": [
      "/Users/emirysaglam/GitHub/Bitirme/.venv/lib/python3.10/site-packages/statsbombpy/api_client.py:21: NoAuthWarning: credentials were not supplied. open data access only\n",
      "  warnings.warn(\n"
     ]
    },
    {
     "name": "stdout",
     "output_type": "stream",
     "text": [
      "208/306 | league: Germany - 1. Bundesliga, match id 3890361, FSV Mainz 05-Wolfsburg\n"
     ]
    },
    {
     "name": "stderr",
     "output_type": "stream",
     "text": [
      "/Users/emirysaglam/GitHub/Bitirme/.venv/lib/python3.10/site-packages/statsbombpy/api_client.py:21: NoAuthWarning: credentials were not supplied. open data access only\n",
      "  warnings.warn(\n"
     ]
    },
    {
     "name": "stdout",
     "output_type": "stream",
     "text": [
      "209/306 | league: Germany - 1. Bundesliga, match id 3890360, Darmstadt 98-Hamburger SV\n"
     ]
    },
    {
     "name": "stderr",
     "output_type": "stream",
     "text": [
      "/Users/emirysaglam/GitHub/Bitirme/.venv/lib/python3.10/site-packages/statsbombpy/api_client.py:21: NoAuthWarning: credentials were not supplied. open data access only\n",
      "  warnings.warn(\n"
     ]
    },
    {
     "name": "stdout",
     "output_type": "stream",
     "text": [
      "210/306 | league: Germany - 1. Bundesliga, match id 3890359, Bayer Leverkusen-FC Köln\n"
     ]
    },
    {
     "name": "stderr",
     "output_type": "stream",
     "text": [
      "/Users/emirysaglam/GitHub/Bitirme/.venv/lib/python3.10/site-packages/statsbombpy/api_client.py:21: NoAuthWarning: credentials were not supplied. open data access only\n",
      "  warnings.warn(\n"
     ]
    },
    {
     "name": "stdout",
     "output_type": "stream",
     "text": [
      "211/306 | league: Germany - 1. Bundesliga, match id 3890358, Hannover 96-Hertha Berlin\n"
     ]
    },
    {
     "name": "stderr",
     "output_type": "stream",
     "text": [
      "/Users/emirysaglam/GitHub/Bitirme/.venv/lib/python3.10/site-packages/statsbombpy/api_client.py:21: NoAuthWarning: credentials were not supplied. open data access only\n",
      "  warnings.warn(\n"
     ]
    },
    {
     "name": "stdout",
     "output_type": "stream",
     "text": [
      "212/306 | league: Germany - 1. Bundesliga, match id 3890357, VfB Stuttgart-Darmstadt 98\n"
     ]
    },
    {
     "name": "stderr",
     "output_type": "stream",
     "text": [
      "/Users/emirysaglam/GitHub/Bitirme/.venv/lib/python3.10/site-packages/statsbombpy/api_client.py:21: NoAuthWarning: credentials were not supplied. open data access only\n",
      "  warnings.warn(\n"
     ]
    },
    {
     "name": "stdout",
     "output_type": "stream",
     "text": [
      "there was no commited advantage in this match \n",
      "213/306 | league: Germany - 1. Bundesliga, match id 3890356, Hamburger SV-Hannover 96\n"
     ]
    },
    {
     "name": "stderr",
     "output_type": "stream",
     "text": [
      "/Users/emirysaglam/GitHub/Bitirme/.venv/lib/python3.10/site-packages/statsbombpy/api_client.py:21: NoAuthWarning: credentials were not supplied. open data access only\n",
      "  warnings.warn(\n"
     ]
    },
    {
     "name": "stdout",
     "output_type": "stream",
     "text": [
      "there was no commited card in this match \n",
      "214/306 | league: Germany - 1. Bundesliga, match id 3890355, Schalke 04-Ingolstadt\n"
     ]
    },
    {
     "name": "stderr",
     "output_type": "stream",
     "text": [
      "/Users/emirysaglam/GitHub/Bitirme/.venv/lib/python3.10/site-packages/statsbombpy/api_client.py:21: NoAuthWarning: credentials were not supplied. open data access only\n",
      "  warnings.warn(\n"
     ]
    },
    {
     "name": "stdout",
     "output_type": "stream",
     "text": [
      "215/306 | league: Germany - 1. Bundesliga, match id 3890354, Augsburg-FSV Mainz 05\n"
     ]
    },
    {
     "name": "stderr",
     "output_type": "stream",
     "text": [
      "/Users/emirysaglam/GitHub/Bitirme/.venv/lib/python3.10/site-packages/statsbombpy/api_client.py:21: NoAuthWarning: credentials were not supplied. open data access only\n",
      "  warnings.warn(\n"
     ]
    },
    {
     "name": "stdout",
     "output_type": "stream",
     "text": [
      "216/306 | league: Germany - 1. Bundesliga, match id 3890353, Werder Bremen-Borussia Dortmund\n"
     ]
    },
    {
     "name": "stderr",
     "output_type": "stream",
     "text": [
      "/Users/emirysaglam/GitHub/Bitirme/.venv/lib/python3.10/site-packages/statsbombpy/api_client.py:21: NoAuthWarning: credentials were not supplied. open data access only\n",
      "  warnings.warn(\n"
     ]
    },
    {
     "name": "stdout",
     "output_type": "stream",
     "text": [
      "217/306 | league: Germany - 1. Bundesliga, match id 3890352, FC Köln-Hoffenheim\n"
     ]
    },
    {
     "name": "stderr",
     "output_type": "stream",
     "text": [
      "/Users/emirysaglam/GitHub/Bitirme/.venv/lib/python3.10/site-packages/statsbombpy/api_client.py:21: NoAuthWarning: credentials were not supplied. open data access only\n",
      "  warnings.warn(\n"
     ]
    },
    {
     "name": "stdout",
     "output_type": "stream",
     "text": [
      "218/306 | league: Germany - 1. Bundesliga, match id 3890351, Hertha Berlin-Borussia Mönchengladbach\n"
     ]
    },
    {
     "name": "stderr",
     "output_type": "stream",
     "text": [
      "/Users/emirysaglam/GitHub/Bitirme/.venv/lib/python3.10/site-packages/statsbombpy/api_client.py:21: NoAuthWarning: credentials were not supplied. open data access only\n",
      "  warnings.warn(\n"
     ]
    },
    {
     "name": "stdout",
     "output_type": "stream",
     "text": [
      "219/306 | league: Germany - 1. Bundesliga, match id 3890350, Wolfsburg-Bayer Leverkusen\n"
     ]
    },
    {
     "name": "stderr",
     "output_type": "stream",
     "text": [
      "/Users/emirysaglam/GitHub/Bitirme/.venv/lib/python3.10/site-packages/statsbombpy/api_client.py:21: NoAuthWarning: credentials were not supplied. open data access only\n",
      "  warnings.warn(\n"
     ]
    },
    {
     "name": "stdout",
     "output_type": "stream",
     "text": [
      "220/306 | league: Germany - 1. Bundesliga, match id 3890349, Eintracht Frankfurt-Bayern Munich\n"
     ]
    },
    {
     "name": "stderr",
     "output_type": "stream",
     "text": [
      "/Users/emirysaglam/GitHub/Bitirme/.venv/lib/python3.10/site-packages/statsbombpy/api_client.py:21: NoAuthWarning: credentials were not supplied. open data access only\n",
      "  warnings.warn(\n"
     ]
    },
    {
     "name": "stdout",
     "output_type": "stream",
     "text": [
      "221/306 | league: Germany - 1. Bundesliga, match id 3890348, Borussia Mönchengladbach-Schalke 04\n"
     ]
    },
    {
     "name": "stderr",
     "output_type": "stream",
     "text": [
      "/Users/emirysaglam/GitHub/Bitirme/.venv/lib/python3.10/site-packages/statsbombpy/api_client.py:21: NoAuthWarning: credentials were not supplied. open data access only\n",
      "  warnings.warn(\n"
     ]
    },
    {
     "name": "stdout",
     "output_type": "stream",
     "text": [
      "222/306 | league: Germany - 1. Bundesliga, match id 3890347, Borussia Dortmund-Augsburg\n"
     ]
    },
    {
     "name": "stderr",
     "output_type": "stream",
     "text": [
      "/Users/emirysaglam/GitHub/Bitirme/.venv/lib/python3.10/site-packages/statsbombpy/api_client.py:21: NoAuthWarning: credentials were not supplied. open data access only\n",
      "  warnings.warn(\n"
     ]
    },
    {
     "name": "stdout",
     "output_type": "stream",
     "text": [
      "223/306 | league: Germany - 1. Bundesliga, match id 3890346, Bayer Leverkusen-VfB Stuttgart\n"
     ]
    },
    {
     "name": "stderr",
     "output_type": "stream",
     "text": [
      "/Users/emirysaglam/GitHub/Bitirme/.venv/lib/python3.10/site-packages/statsbombpy/api_client.py:21: NoAuthWarning: credentials were not supplied. open data access only\n",
      "  warnings.warn(\n"
     ]
    },
    {
     "name": "stdout",
     "output_type": "stream",
     "text": [
      "there was no commited advantage in this match \n",
      "224/306 | league: Germany - 1. Bundesliga, match id 3890345, Hannover 96-Eintracht Frankfurt\n"
     ]
    },
    {
     "name": "stderr",
     "output_type": "stream",
     "text": [
      "/Users/emirysaglam/GitHub/Bitirme/.venv/lib/python3.10/site-packages/statsbombpy/api_client.py:21: NoAuthWarning: credentials were not supplied. open data access only\n",
      "  warnings.warn(\n"
     ]
    },
    {
     "name": "stdout",
     "output_type": "stream",
     "text": [
      "225/306 | league: Germany - 1. Bundesliga, match id 3890344, FSV Mainz 05-Werder Bremen\n"
     ]
    },
    {
     "name": "stderr",
     "output_type": "stream",
     "text": [
      "/Users/emirysaglam/GitHub/Bitirme/.venv/lib/python3.10/site-packages/statsbombpy/api_client.py:21: NoAuthWarning: credentials were not supplied. open data access only\n",
      "  warnings.warn(\n"
     ]
    },
    {
     "name": "stdout",
     "output_type": "stream",
     "text": [
      "226/306 | league: Germany - 1. Bundesliga, match id 3890343, Ingolstadt-Hertha Berlin\n"
     ]
    },
    {
     "name": "stderr",
     "output_type": "stream",
     "text": [
      "/Users/emirysaglam/GitHub/Bitirme/.venv/lib/python3.10/site-packages/statsbombpy/api_client.py:21: NoAuthWarning: credentials were not supplied. open data access only\n",
      "  warnings.warn(\n"
     ]
    },
    {
     "name": "stdout",
     "output_type": "stream",
     "text": [
      "there was no commited advantage in this match \n",
      "227/306 | league: Germany - 1. Bundesliga, match id 3890342, Darmstadt 98-Wolfsburg\n"
     ]
    },
    {
     "name": "stderr",
     "output_type": "stream",
     "text": [
      "/Users/emirysaglam/GitHub/Bitirme/.venv/lib/python3.10/site-packages/statsbombpy/api_client.py:21: NoAuthWarning: credentials were not supplied. open data access only\n",
      "  warnings.warn(\n"
     ]
    },
    {
     "name": "stdout",
     "output_type": "stream",
     "text": [
      "228/306 | league: Germany - 1. Bundesliga, match id 3890341, Bayern Munich-FC Köln\n"
     ]
    },
    {
     "name": "stderr",
     "output_type": "stream",
     "text": [
      "/Users/emirysaglam/GitHub/Bitirme/.venv/lib/python3.10/site-packages/statsbombpy/api_client.py:21: NoAuthWarning: credentials were not supplied. open data access only\n",
      "  warnings.warn(\n"
     ]
    },
    {
     "name": "stdout",
     "output_type": "stream",
     "text": [
      "229/306 | league: Germany - 1. Bundesliga, match id 3890340, Hoffenheim-Hamburger SV\n"
     ]
    },
    {
     "name": "stderr",
     "output_type": "stream",
     "text": [
      "/Users/emirysaglam/GitHub/Bitirme/.venv/lib/python3.10/site-packages/statsbombpy/api_client.py:21: NoAuthWarning: credentials were not supplied. open data access only\n",
      "  warnings.warn(\n"
     ]
    },
    {
     "name": "stdout",
     "output_type": "stream",
     "text": [
      "230/306 | league: Germany - 1. Bundesliga, match id 3890339, FC Köln-Hannover 96\n"
     ]
    },
    {
     "name": "stderr",
     "output_type": "stream",
     "text": [
      "/Users/emirysaglam/GitHub/Bitirme/.venv/lib/python3.10/site-packages/statsbombpy/api_client.py:21: NoAuthWarning: credentials were not supplied. open data access only\n",
      "  warnings.warn(\n"
     ]
    },
    {
     "name": "stdout",
     "output_type": "stream",
     "text": [
      "231/306 | league: Germany - 1. Bundesliga, match id 3890338, VfB Stuttgart-Ingolstadt\n"
     ]
    },
    {
     "name": "stderr",
     "output_type": "stream",
     "text": [
      "/Users/emirysaglam/GitHub/Bitirme/.venv/lib/python3.10/site-packages/statsbombpy/api_client.py:21: NoAuthWarning: credentials were not supplied. open data access only\n",
      "  warnings.warn(\n"
     ]
    },
    {
     "name": "stdout",
     "output_type": "stream",
     "text": [
      "232/306 | league: Germany - 1. Bundesliga, match id 3890337, Hamburger SV-Bayer Leverkusen\n"
     ]
    },
    {
     "name": "stderr",
     "output_type": "stream",
     "text": [
      "/Users/emirysaglam/GitHub/Bitirme/.venv/lib/python3.10/site-packages/statsbombpy/api_client.py:21: NoAuthWarning: credentials were not supplied. open data access only\n",
      "  warnings.warn(\n"
     ]
    },
    {
     "name": "stdout",
     "output_type": "stream",
     "text": [
      "233/306 | league: Germany - 1. Bundesliga, match id 3890336, Schalke 04-Hertha Berlin\n"
     ]
    },
    {
     "name": "stderr",
     "output_type": "stream",
     "text": [
      "/Users/emirysaglam/GitHub/Bitirme/.venv/lib/python3.10/site-packages/statsbombpy/api_client.py:21: NoAuthWarning: credentials were not supplied. open data access only\n",
      "  warnings.warn(\n"
     ]
    },
    {
     "name": "stdout",
     "output_type": "stream",
     "text": [
      "234/306 | league: Germany - 1. Bundesliga, match id 3890335, Wolfsburg-Hoffenheim\n"
     ]
    },
    {
     "name": "stderr",
     "output_type": "stream",
     "text": [
      "/Users/emirysaglam/GitHub/Bitirme/.venv/lib/python3.10/site-packages/statsbombpy/api_client.py:21: NoAuthWarning: credentials were not supplied. open data access only\n",
      "  warnings.warn(\n"
     ]
    },
    {
     "name": "stdout",
     "output_type": "stream",
     "text": [
      "235/306 | league: Germany - 1. Bundesliga, match id 3890334, Eintracht Frankfurt-Borussia Mönchengladbach\n"
     ]
    },
    {
     "name": "stderr",
     "output_type": "stream",
     "text": [
      "/Users/emirysaglam/GitHub/Bitirme/.venv/lib/python3.10/site-packages/statsbombpy/api_client.py:21: NoAuthWarning: credentials were not supplied. open data access only\n",
      "  warnings.warn(\n"
     ]
    },
    {
     "name": "stdout",
     "output_type": "stream",
     "text": [
      "236/306 | league: Germany - 1. Bundesliga, match id 3890333, Augsburg-Darmstadt 98\n"
     ]
    },
    {
     "name": "stderr",
     "output_type": "stream",
     "text": [
      "/Users/emirysaglam/GitHub/Bitirme/.venv/lib/python3.10/site-packages/statsbombpy/api_client.py:21: NoAuthWarning: credentials were not supplied. open data access only\n",
      "  warnings.warn(\n"
     ]
    },
    {
     "name": "stdout",
     "output_type": "stream",
     "text": [
      "there was no commited advantage in this match \n",
      "237/306 | league: Germany - 1. Bundesliga, match id 3890332, Werder Bremen-Bayern Munich\n"
     ]
    },
    {
     "name": "stderr",
     "output_type": "stream",
     "text": [
      "/Users/emirysaglam/GitHub/Bitirme/.venv/lib/python3.10/site-packages/statsbombpy/api_client.py:21: NoAuthWarning: credentials were not supplied. open data access only\n",
      "  warnings.warn(\n"
     ]
    },
    {
     "name": "stdout",
     "output_type": "stream",
     "text": [
      "238/306 | league: Germany - 1. Bundesliga, match id 3890331, FSV Mainz 05-Borussia Dortmund\n"
     ]
    },
    {
     "name": "stderr",
     "output_type": "stream",
     "text": [
      "/Users/emirysaglam/GitHub/Bitirme/.venv/lib/python3.10/site-packages/statsbombpy/api_client.py:21: NoAuthWarning: credentials were not supplied. open data access only\n",
      "  warnings.warn(\n"
     ]
    },
    {
     "name": "stdout",
     "output_type": "stream",
     "text": [
      "239/306 | league: Germany - 1. Bundesliga, match id 3890330, Bayer Leverkusen-Augsburg\n"
     ]
    },
    {
     "name": "stderr",
     "output_type": "stream",
     "text": [
      "/Users/emirysaglam/GitHub/Bitirme/.venv/lib/python3.10/site-packages/statsbombpy/api_client.py:21: NoAuthWarning: credentials were not supplied. open data access only\n",
      "  warnings.warn(\n"
     ]
    },
    {
     "name": "stdout",
     "output_type": "stream",
     "text": [
      "240/306 | league: Germany - 1. Bundesliga, match id 3890329, Bayern Munich-Borussia Dortmund\n"
     ]
    },
    {
     "name": "stderr",
     "output_type": "stream",
     "text": [
      "/Users/emirysaglam/GitHub/Bitirme/.venv/lib/python3.10/site-packages/statsbombpy/api_client.py:21: NoAuthWarning: credentials were not supplied. open data access only\n",
      "  warnings.warn(\n"
     ]
    },
    {
     "name": "stdout",
     "output_type": "stream",
     "text": [
      "241/306 | league: Germany - 1. Bundesliga, match id 3890328, Schalke 04-FC Köln\n"
     ]
    },
    {
     "name": "stderr",
     "output_type": "stream",
     "text": [
      "/Users/emirysaglam/GitHub/Bitirme/.venv/lib/python3.10/site-packages/statsbombpy/api_client.py:21: NoAuthWarning: credentials were not supplied. open data access only\n",
      "  warnings.warn(\n"
     ]
    },
    {
     "name": "stdout",
     "output_type": "stream",
     "text": [
      "242/306 | league: Germany - 1. Bundesliga, match id 3890327, Hoffenheim-VfB Stuttgart\n"
     ]
    },
    {
     "name": "stderr",
     "output_type": "stream",
     "text": [
      "/Users/emirysaglam/GitHub/Bitirme/.venv/lib/python3.10/site-packages/statsbombpy/api_client.py:21: NoAuthWarning: credentials were not supplied. open data access only\n",
      "  warnings.warn(\n"
     ]
    },
    {
     "name": "stdout",
     "output_type": "stream",
     "text": [
      "243/306 | league: Germany - 1. Bundesliga, match id 3890326, Ingolstadt-Eintracht Frankfurt\n"
     ]
    },
    {
     "name": "stderr",
     "output_type": "stream",
     "text": [
      "/Users/emirysaglam/GitHub/Bitirme/.venv/lib/python3.10/site-packages/statsbombpy/api_client.py:21: NoAuthWarning: credentials were not supplied. open data access only\n",
      "  warnings.warn(\n"
     ]
    },
    {
     "name": "stdout",
     "output_type": "stream",
     "text": [
      "244/306 | league: Germany - 1. Bundesliga, match id 3890325, Hannover 96-Werder Bremen\n"
     ]
    },
    {
     "name": "stderr",
     "output_type": "stream",
     "text": [
      "/Users/emirysaglam/GitHub/Bitirme/.venv/lib/python3.10/site-packages/statsbombpy/api_client.py:21: NoAuthWarning: credentials were not supplied. open data access only\n",
      "  warnings.warn(\n"
     ]
    },
    {
     "name": "stdout",
     "output_type": "stream",
     "text": [
      "245/306 | league: Germany - 1. Bundesliga, match id 3890324, Hertha Berlin-Hamburger SV\n"
     ]
    },
    {
     "name": "stderr",
     "output_type": "stream",
     "text": [
      "/Users/emirysaglam/GitHub/Bitirme/.venv/lib/python3.10/site-packages/statsbombpy/api_client.py:21: NoAuthWarning: credentials were not supplied. open data access only\n",
      "  warnings.warn(\n"
     ]
    },
    {
     "name": "stdout",
     "output_type": "stream",
     "text": [
      "246/306 | league: Germany - 1. Bundesliga, match id 3890323, Borussia Mönchengladbach-Wolfsburg\n"
     ]
    },
    {
     "name": "stderr",
     "output_type": "stream",
     "text": [
      "/Users/emirysaglam/GitHub/Bitirme/.venv/lib/python3.10/site-packages/statsbombpy/api_client.py:21: NoAuthWarning: credentials were not supplied. open data access only\n",
      "  warnings.warn(\n"
     ]
    },
    {
     "name": "stdout",
     "output_type": "stream",
     "text": [
      "247/306 | league: Germany - 1. Bundesliga, match id 3890322, Darmstadt 98-FSV Mainz 05\n"
     ]
    },
    {
     "name": "stderr",
     "output_type": "stream",
     "text": [
      "/Users/emirysaglam/GitHub/Bitirme/.venv/lib/python3.10/site-packages/statsbombpy/api_client.py:21: NoAuthWarning: credentials were not supplied. open data access only\n",
      "  warnings.warn(\n"
     ]
    },
    {
     "name": "stdout",
     "output_type": "stream",
     "text": [
      "248/306 | league: Germany - 1. Bundesliga, match id 3890321, Borussia Dortmund-Darmstadt 98\n"
     ]
    },
    {
     "name": "stderr",
     "output_type": "stream",
     "text": [
      "/Users/emirysaglam/GitHub/Bitirme/.venv/lib/python3.10/site-packages/statsbombpy/api_client.py:21: NoAuthWarning: credentials were not supplied. open data access only\n",
      "  warnings.warn(\n"
     ]
    },
    {
     "name": "stdout",
     "output_type": "stream",
     "text": [
      "249/306 | league: Germany - 1. Bundesliga, match id 3890320, Eintracht Frankfurt-Hertha Berlin\n"
     ]
    },
    {
     "name": "stderr",
     "output_type": "stream",
     "text": [
      "/Users/emirysaglam/GitHub/Bitirme/.venv/lib/python3.10/site-packages/statsbombpy/api_client.py:21: NoAuthWarning: credentials were not supplied. open data access only\n",
      "  warnings.warn(\n"
     ]
    },
    {
     "name": "stdout",
     "output_type": "stream",
     "text": [
      "250/306 | league: Germany - 1. Bundesliga, match id 3890319, Wolfsburg-Hannover 96\n"
     ]
    },
    {
     "name": "stderr",
     "output_type": "stream",
     "text": [
      "/Users/emirysaglam/GitHub/Bitirme/.venv/lib/python3.10/site-packages/statsbombpy/api_client.py:21: NoAuthWarning: credentials were not supplied. open data access only\n",
      "  warnings.warn(\n"
     ]
    },
    {
     "name": "stdout",
     "output_type": "stream",
     "text": [
      "251/306 | league: Germany - 1. Bundesliga, match id 3890318, VfB Stuttgart-Borussia Mönchengladbach\n"
     ]
    },
    {
     "name": "stderr",
     "output_type": "stream",
     "text": [
      "/Users/emirysaglam/GitHub/Bitirme/.venv/lib/python3.10/site-packages/statsbombpy/api_client.py:21: NoAuthWarning: credentials were not supplied. open data access only\n",
      "  warnings.warn(\n"
     ]
    },
    {
     "name": "stdout",
     "output_type": "stream",
     "text": [
      "252/306 | league: Germany - 1. Bundesliga, match id 3890317, Hamburger SV-Schalke 04\n"
     ]
    },
    {
     "name": "stderr",
     "output_type": "stream",
     "text": [
      "/Users/emirysaglam/GitHub/Bitirme/.venv/lib/python3.10/site-packages/statsbombpy/api_client.py:21: NoAuthWarning: credentials were not supplied. open data access only\n",
      "  warnings.warn(\n"
     ]
    },
    {
     "name": "stdout",
     "output_type": "stream",
     "text": [
      "253/306 | league: Germany - 1. Bundesliga, match id 3890316, FSV Mainz 05-Bayern Munich\n"
     ]
    },
    {
     "name": "stderr",
     "output_type": "stream",
     "text": [
      "/Users/emirysaglam/GitHub/Bitirme/.venv/lib/python3.10/site-packages/statsbombpy/api_client.py:21: NoAuthWarning: credentials were not supplied. open data access only\n",
      "  warnings.warn(\n"
     ]
    },
    {
     "name": "stdout",
     "output_type": "stream",
     "text": [
      "254/306 | league: Germany - 1. Bundesliga, match id 3890315, Werder Bremen-Bayer Leverkusen\n"
     ]
    },
    {
     "name": "stderr",
     "output_type": "stream",
     "text": [
      "/Users/emirysaglam/GitHub/Bitirme/.venv/lib/python3.10/site-packages/statsbombpy/api_client.py:21: NoAuthWarning: credentials were not supplied. open data access only\n",
      "  warnings.warn(\n"
     ]
    },
    {
     "name": "stdout",
     "output_type": "stream",
     "text": [
      "255/306 | league: Germany - 1. Bundesliga, match id 3890314, Augsburg-Hoffenheim\n"
     ]
    },
    {
     "name": "stderr",
     "output_type": "stream",
     "text": [
      "/Users/emirysaglam/GitHub/Bitirme/.venv/lib/python3.10/site-packages/statsbombpy/api_client.py:21: NoAuthWarning: credentials were not supplied. open data access only\n",
      "  warnings.warn(\n"
     ]
    },
    {
     "name": "stdout",
     "output_type": "stream",
     "text": [
      "256/306 | league: Germany - 1. Bundesliga, match id 3890313, FC Köln-Ingolstadt\n"
     ]
    },
    {
     "name": "stderr",
     "output_type": "stream",
     "text": [
      "/Users/emirysaglam/GitHub/Bitirme/.venv/lib/python3.10/site-packages/statsbombpy/api_client.py:21: NoAuthWarning: credentials were not supplied. open data access only\n",
      "  warnings.warn(\n"
     ]
    },
    {
     "name": "stdout",
     "output_type": "stream",
     "text": [
      "257/306 | league: Germany - 1. Bundesliga, match id 3890312, Bayer Leverkusen-FSV Mainz 05\n"
     ]
    },
    {
     "name": "stderr",
     "output_type": "stream",
     "text": [
      "/Users/emirysaglam/GitHub/Bitirme/.venv/lib/python3.10/site-packages/statsbombpy/api_client.py:21: NoAuthWarning: credentials were not supplied. open data access only\n",
      "  warnings.warn(\n"
     ]
    },
    {
     "name": "stdout",
     "output_type": "stream",
     "text": [
      "258/306 | league: Germany - 1. Bundesliga, match id 3890311, Schalke 04-Eintracht Frankfurt\n"
     ]
    },
    {
     "name": "stderr",
     "output_type": "stream",
     "text": [
      "/Users/emirysaglam/GitHub/Bitirme/.venv/lib/python3.10/site-packages/statsbombpy/api_client.py:21: NoAuthWarning: credentials were not supplied. open data access only\n",
      "  warnings.warn(\n"
     ]
    },
    {
     "name": "stdout",
     "output_type": "stream",
     "text": [
      "there was no commited advantage in this match \n",
      "259/306 | league: Germany - 1. Bundesliga, match id 3890310, Hoffenheim-Borussia Dortmund\n"
     ]
    },
    {
     "name": "stderr",
     "output_type": "stream",
     "text": [
      "/Users/emirysaglam/GitHub/Bitirme/.venv/lib/python3.10/site-packages/statsbombpy/api_client.py:21: NoAuthWarning: credentials were not supplied. open data access only\n",
      "  warnings.warn(\n"
     ]
    },
    {
     "name": "stdout",
     "output_type": "stream",
     "text": [
      "260/306 | league: Germany - 1. Bundesliga, match id 3890309, Hannover 96-VfB Stuttgart\n"
     ]
    },
    {
     "name": "stderr",
     "output_type": "stream",
     "text": [
      "/Users/emirysaglam/GitHub/Bitirme/.venv/lib/python3.10/site-packages/statsbombpy/api_client.py:21: NoAuthWarning: credentials were not supplied. open data access only\n",
      "  warnings.warn(\n"
     ]
    },
    {
     "name": "stdout",
     "output_type": "stream",
     "text": [
      "261/306 | league: Germany - 1. Bundesliga, match id 3890308, Borussia Mönchengladbach-Augsburg\n"
     ]
    },
    {
     "name": "stderr",
     "output_type": "stream",
     "text": [
      "/Users/emirysaglam/GitHub/Bitirme/.venv/lib/python3.10/site-packages/statsbombpy/api_client.py:21: NoAuthWarning: credentials were not supplied. open data access only\n",
      "  warnings.warn(\n"
     ]
    },
    {
     "name": "stdout",
     "output_type": "stream",
     "text": [
      "262/306 | league: Germany - 1. Bundesliga, match id 3890307, Darmstadt 98-Werder Bremen\n"
     ]
    },
    {
     "name": "stderr",
     "output_type": "stream",
     "text": [
      "/Users/emirysaglam/GitHub/Bitirme/.venv/lib/python3.10/site-packages/statsbombpy/api_client.py:21: NoAuthWarning: credentials were not supplied. open data access only\n",
      "  warnings.warn(\n"
     ]
    },
    {
     "name": "stdout",
     "output_type": "stream",
     "text": [
      "263/306 | league: Germany - 1. Bundesliga, match id 3890306, Hertha Berlin-FC Köln\n"
     ]
    },
    {
     "name": "stderr",
     "output_type": "stream",
     "text": [
      "/Users/emirysaglam/GitHub/Bitirme/.venv/lib/python3.10/site-packages/statsbombpy/api_client.py:21: NoAuthWarning: credentials were not supplied. open data access only\n",
      "  warnings.warn(\n"
     ]
    },
    {
     "name": "stdout",
     "output_type": "stream",
     "text": [
      "264/306 | league: Germany - 1. Bundesliga, match id 3890305, Bayern Munich-Wolfsburg\n"
     ]
    },
    {
     "name": "stderr",
     "output_type": "stream",
     "text": [
      "/Users/emirysaglam/GitHub/Bitirme/.venv/lib/python3.10/site-packages/statsbombpy/api_client.py:21: NoAuthWarning: credentials were not supplied. open data access only\n",
      "  warnings.warn(\n"
     ]
    },
    {
     "name": "stdout",
     "output_type": "stream",
     "text": [
      "265/306 | league: Germany - 1. Bundesliga, match id 3890304, Ingolstadt-Hamburger SV\n"
     ]
    },
    {
     "name": "stderr",
     "output_type": "stream",
     "text": [
      "/Users/emirysaglam/GitHub/Bitirme/.venv/lib/python3.10/site-packages/statsbombpy/api_client.py:21: NoAuthWarning: credentials were not supplied. open data access only\n",
      "  warnings.warn(\n"
     ]
    },
    {
     "name": "stdout",
     "output_type": "stream",
     "text": [
      "there was no commited advantage in this match \n",
      "266/306 | league: Germany - 1. Bundesliga, match id 3890303, VfB Stuttgart-Schalke 04\n"
     ]
    },
    {
     "name": "stderr",
     "output_type": "stream",
     "text": [
      "/Users/emirysaglam/GitHub/Bitirme/.venv/lib/python3.10/site-packages/statsbombpy/api_client.py:21: NoAuthWarning: credentials were not supplied. open data access only\n",
      "  warnings.warn(\n"
     ]
    },
    {
     "name": "stdout",
     "output_type": "stream",
     "text": [
      "267/306 | league: Germany - 1. Bundesliga, match id 3890302, Augsburg-Hannover 96\n"
     ]
    },
    {
     "name": "stderr",
     "output_type": "stream",
     "text": [
      "/Users/emirysaglam/GitHub/Bitirme/.venv/lib/python3.10/site-packages/statsbombpy/api_client.py:21: NoAuthWarning: credentials were not supplied. open data access only\n",
      "  warnings.warn(\n"
     ]
    },
    {
     "name": "stdout",
     "output_type": "stream",
     "text": [
      "268/306 | league: Germany - 1. Bundesliga, match id 3890301, Borussia Dortmund-Bayer Leverkusen\n"
     ]
    },
    {
     "name": "stderr",
     "output_type": "stream",
     "text": [
      "/Users/emirysaglam/GitHub/Bitirme/.venv/lib/python3.10/site-packages/statsbombpy/api_client.py:21: NoAuthWarning: credentials were not supplied. open data access only\n",
      "  warnings.warn(\n"
     ]
    },
    {
     "name": "stdout",
     "output_type": "stream",
     "text": [
      "269/306 | league: Germany - 1. Bundesliga, match id 3890300, Werder Bremen-Ingolstadt\n"
     ]
    },
    {
     "name": "stderr",
     "output_type": "stream",
     "text": [
      "/Users/emirysaglam/GitHub/Bitirme/.venv/lib/python3.10/site-packages/statsbombpy/api_client.py:21: NoAuthWarning: credentials were not supplied. open data access only\n",
      "  warnings.warn(\n"
     ]
    },
    {
     "name": "stdout",
     "output_type": "stream",
     "text": [
      "270/306 | league: Germany - 1. Bundesliga, match id 3890299, FC Köln-Borussia Mönchengladbach\n"
     ]
    },
    {
     "name": "stderr",
     "output_type": "stream",
     "text": [
      "/Users/emirysaglam/GitHub/Bitirme/.venv/lib/python3.10/site-packages/statsbombpy/api_client.py:21: NoAuthWarning: credentials were not supplied. open data access only\n",
      "  warnings.warn(\n"
     ]
    },
    {
     "name": "stdout",
     "output_type": "stream",
     "text": [
      "271/306 | league: Germany - 1. Bundesliga, match id 3890298, Wolfsburg-Hertha Berlin\n"
     ]
    },
    {
     "name": "stderr",
     "output_type": "stream",
     "text": [
      "/Users/emirysaglam/GitHub/Bitirme/.venv/lib/python3.10/site-packages/statsbombpy/api_client.py:21: NoAuthWarning: credentials were not supplied. open data access only\n",
      "  warnings.warn(\n"
     ]
    },
    {
     "name": "stdout",
     "output_type": "stream",
     "text": [
      "272/306 | league: Germany - 1. Bundesliga, match id 3890297, Hamburger SV-Eintracht Frankfurt\n"
     ]
    },
    {
     "name": "stderr",
     "output_type": "stream",
     "text": [
      "/Users/emirysaglam/GitHub/Bitirme/.venv/lib/python3.10/site-packages/statsbombpy/api_client.py:21: NoAuthWarning: credentials were not supplied. open data access only\n",
      "  warnings.warn(\n"
     ]
    },
    {
     "name": "stdout",
     "output_type": "stream",
     "text": [
      "273/306 | league: Germany - 1. Bundesliga, match id 3890296, Darmstadt 98-Bayern Munich\n"
     ]
    },
    {
     "name": "stderr",
     "output_type": "stream",
     "text": [
      "/Users/emirysaglam/GitHub/Bitirme/.venv/lib/python3.10/site-packages/statsbombpy/api_client.py:21: NoAuthWarning: credentials were not supplied. open data access only\n",
      "  warnings.warn(\n"
     ]
    },
    {
     "name": "stdout",
     "output_type": "stream",
     "text": [
      "274/306 | league: Germany - 1. Bundesliga, match id 3890295, FSV Mainz 05-Hoffenheim\n"
     ]
    },
    {
     "name": "stderr",
     "output_type": "stream",
     "text": [
      "/Users/emirysaglam/GitHub/Bitirme/.venv/lib/python3.10/site-packages/statsbombpy/api_client.py:21: NoAuthWarning: credentials were not supplied. open data access only\n",
      "  warnings.warn(\n"
     ]
    },
    {
     "name": "stdout",
     "output_type": "stream",
     "text": [
      "275/306 | league: Germany - 1. Bundesliga, match id 3890294, Hoffenheim-Werder Bremen\n"
     ]
    },
    {
     "name": "stderr",
     "output_type": "stream",
     "text": [
      "/Users/emirysaglam/GitHub/Bitirme/.venv/lib/python3.10/site-packages/statsbombpy/api_client.py:21: NoAuthWarning: credentials were not supplied. open data access only\n",
      "  warnings.warn(\n"
     ]
    },
    {
     "name": "stdout",
     "output_type": "stream",
     "text": [
      "276/306 | league: Germany - 1. Bundesliga, match id 3890293, Schalke 04-FSV Mainz 05\n"
     ]
    },
    {
     "name": "stderr",
     "output_type": "stream",
     "text": [
      "/Users/emirysaglam/GitHub/Bitirme/.venv/lib/python3.10/site-packages/statsbombpy/api_client.py:21: NoAuthWarning: credentials were not supplied. open data access only\n",
      "  warnings.warn(\n"
     ]
    },
    {
     "name": "stdout",
     "output_type": "stream",
     "text": [
      "277/306 | league: Germany - 1. Bundesliga, match id 3890292, Hannover 96-Borussia Dortmund\n"
     ]
    },
    {
     "name": "stderr",
     "output_type": "stream",
     "text": [
      "/Users/emirysaglam/GitHub/Bitirme/.venv/lib/python3.10/site-packages/statsbombpy/api_client.py:21: NoAuthWarning: credentials were not supplied. open data access only\n",
      "  warnings.warn(\n"
     ]
    },
    {
     "name": "stdout",
     "output_type": "stream",
     "text": [
      "278/306 | league: Germany - 1. Bundesliga, match id 3890291, Ingolstadt-Wolfsburg\n"
     ]
    },
    {
     "name": "stderr",
     "output_type": "stream",
     "text": [
      "/Users/emirysaglam/GitHub/Bitirme/.venv/lib/python3.10/site-packages/statsbombpy/api_client.py:21: NoAuthWarning: credentials were not supplied. open data access only\n",
      "  warnings.warn(\n"
     ]
    },
    {
     "name": "stdout",
     "output_type": "stream",
     "text": [
      "279/306 | league: Germany - 1. Bundesliga, match id 3890290, Hertha Berlin-VfB Stuttgart\n"
     ]
    },
    {
     "name": "stderr",
     "output_type": "stream",
     "text": [
      "/Users/emirysaglam/GitHub/Bitirme/.venv/lib/python3.10/site-packages/statsbombpy/api_client.py:21: NoAuthWarning: credentials were not supplied. open data access only\n",
      "  warnings.warn(\n"
     ]
    },
    {
     "name": "stdout",
     "output_type": "stream",
     "text": [
      "280/306 | league: Germany - 1. Bundesliga, match id 3890289, Eintracht Frankfurt-FC Köln\n"
     ]
    },
    {
     "name": "stderr",
     "output_type": "stream",
     "text": [
      "/Users/emirysaglam/GitHub/Bitirme/.venv/lib/python3.10/site-packages/statsbombpy/api_client.py:21: NoAuthWarning: credentials were not supplied. open data access only\n",
      "  warnings.warn(\n"
     ]
    },
    {
     "name": "stdout",
     "output_type": "stream",
     "text": [
      "281/306 | league: Germany - 1. Bundesliga, match id 3890288, Bayer Leverkusen-Darmstadt 98\n"
     ]
    },
    {
     "name": "stderr",
     "output_type": "stream",
     "text": [
      "/Users/emirysaglam/GitHub/Bitirme/.venv/lib/python3.10/site-packages/statsbombpy/api_client.py:21: NoAuthWarning: credentials were not supplied. open data access only\n",
      "  warnings.warn(\n"
     ]
    },
    {
     "name": "stdout",
     "output_type": "stream",
     "text": [
      "282/306 | league: Germany - 1. Bundesliga, match id 3890286, Borussia Mönchengladbach-Hamburger SV\n"
     ]
    },
    {
     "name": "stderr",
     "output_type": "stream",
     "text": [
      "/Users/emirysaglam/GitHub/Bitirme/.venv/lib/python3.10/site-packages/statsbombpy/api_client.py:21: NoAuthWarning: credentials were not supplied. open data access only\n",
      "  warnings.warn(\n"
     ]
    },
    {
     "name": "stdout",
     "output_type": "stream",
     "text": [
      "283/306 | league: Germany - 1. Bundesliga, match id 3890285, Werder Bremen-Borussia Mönchengladbach\n"
     ]
    },
    {
     "name": "stderr",
     "output_type": "stream",
     "text": [
      "/Users/emirysaglam/GitHub/Bitirme/.venv/lib/python3.10/site-packages/statsbombpy/api_client.py:21: NoAuthWarning: credentials were not supplied. open data access only\n",
      "  warnings.warn(\n"
     ]
    },
    {
     "name": "stdout",
     "output_type": "stream",
     "text": [
      "284/306 | league: Germany - 1. Bundesliga, match id 3890284, Borussia Dortmund-Hertha Berlin\n"
     ]
    },
    {
     "name": "stderr",
     "output_type": "stream",
     "text": [
      "/Users/emirysaglam/GitHub/Bitirme/.venv/lib/python3.10/site-packages/statsbombpy/api_client.py:21: NoAuthWarning: credentials were not supplied. open data access only\n",
      "  warnings.warn(\n"
     ]
    },
    {
     "name": "stdout",
     "output_type": "stream",
     "text": [
      "285/306 | league: Germany - 1. Bundesliga, match id 3890283, Darmstadt 98-Hoffenheim\n"
     ]
    },
    {
     "name": "stderr",
     "output_type": "stream",
     "text": [
      "/Users/emirysaglam/GitHub/Bitirme/.venv/lib/python3.10/site-packages/statsbombpy/api_client.py:21: NoAuthWarning: credentials were not supplied. open data access only\n",
      "  warnings.warn(\n"
     ]
    },
    {
     "name": "stdout",
     "output_type": "stream",
     "text": [
      "286/306 | league: Germany - 1. Bundesliga, match id 3890281, Augsburg-Ingolstadt\n"
     ]
    },
    {
     "name": "stderr",
     "output_type": "stream",
     "text": [
      "/Users/emirysaglam/GitHub/Bitirme/.venv/lib/python3.10/site-packages/statsbombpy/api_client.py:21: NoAuthWarning: credentials were not supplied. open data access only\n",
      "  warnings.warn(\n"
     ]
    },
    {
     "name": "stdout",
     "output_type": "stream",
     "text": [
      "287/306 | league: Germany - 1. Bundesliga, match id 3890280, FC Köln-Hamburger SV\n"
     ]
    },
    {
     "name": "stderr",
     "output_type": "stream",
     "text": [
      "/Users/emirysaglam/GitHub/Bitirme/.venv/lib/python3.10/site-packages/statsbombpy/api_client.py:21: NoAuthWarning: credentials were not supplied. open data access only\n",
      "  warnings.warn(\n"
     ]
    },
    {
     "name": "stdout",
     "output_type": "stream",
     "text": [
      "288/306 | league: Germany - 1. Bundesliga, match id 3890279, VfB Stuttgart-Eintracht Frankfurt\n"
     ]
    },
    {
     "name": "stderr",
     "output_type": "stream",
     "text": [
      "/Users/emirysaglam/GitHub/Bitirme/.venv/lib/python3.10/site-packages/statsbombpy/api_client.py:21: NoAuthWarning: credentials were not supplied. open data access only\n",
      "  warnings.warn(\n"
     ]
    },
    {
     "name": "stdout",
     "output_type": "stream",
     "text": [
      "289/306 | league: Germany - 1. Bundesliga, match id 3890278, Bayern Munich-Bayer Leverkusen\n"
     ]
    },
    {
     "name": "stderr",
     "output_type": "stream",
     "text": [
      "/Users/emirysaglam/GitHub/Bitirme/.venv/lib/python3.10/site-packages/statsbombpy/api_client.py:21: NoAuthWarning: credentials were not supplied. open data access only\n",
      "  warnings.warn(\n"
     ]
    },
    {
     "name": "stdout",
     "output_type": "stream",
     "text": [
      "290/306 | league: Germany - 1. Bundesliga, match id 3890277, Wolfsburg-Schalke 04\n"
     ]
    },
    {
     "name": "stderr",
     "output_type": "stream",
     "text": [
      "/Users/emirysaglam/GitHub/Bitirme/.venv/lib/python3.10/site-packages/statsbombpy/api_client.py:21: NoAuthWarning: credentials were not supplied. open data access only\n",
      "  warnings.warn(\n"
     ]
    },
    {
     "name": "stdout",
     "output_type": "stream",
     "text": [
      "291/306 | league: Germany - 1. Bundesliga, match id 3890276, Borussia Mönchengladbach-FSV Mainz 05\n"
     ]
    },
    {
     "name": "stderr",
     "output_type": "stream",
     "text": [
      "/Users/emirysaglam/GitHub/Bitirme/.venv/lib/python3.10/site-packages/statsbombpy/api_client.py:21: NoAuthWarning: credentials were not supplied. open data access only\n",
      "  warnings.warn(\n"
     ]
    },
    {
     "name": "stdout",
     "output_type": "stream",
     "text": [
      "292/306 | league: Germany - 1. Bundesliga, match id 3890275, Ingolstadt-Borussia Dortmund\n"
     ]
    },
    {
     "name": "stderr",
     "output_type": "stream",
     "text": [
      "/Users/emirysaglam/GitHub/Bitirme/.venv/lib/python3.10/site-packages/statsbombpy/api_client.py:21: NoAuthWarning: credentials were not supplied. open data access only\n",
      "  warnings.warn(\n"
     ]
    },
    {
     "name": "stdout",
     "output_type": "stream",
     "text": [
      "293/306 | league: Germany - 1. Bundesliga, match id 3890274, FC Köln-Wolfsburg\n"
     ]
    },
    {
     "name": "stderr",
     "output_type": "stream",
     "text": [
      "/Users/emirysaglam/GitHub/Bitirme/.venv/lib/python3.10/site-packages/statsbombpy/api_client.py:21: NoAuthWarning: credentials were not supplied. open data access only\n",
      "  warnings.warn(\n"
     ]
    },
    {
     "name": "stdout",
     "output_type": "stream",
     "text": [
      "294/306 | league: Germany - 1. Bundesliga, match id 3890273, Hannover 96-Bayer Leverkusen\n"
     ]
    },
    {
     "name": "stderr",
     "output_type": "stream",
     "text": [
      "/Users/emirysaglam/GitHub/Bitirme/.venv/lib/python3.10/site-packages/statsbombpy/api_client.py:21: NoAuthWarning: credentials were not supplied. open data access only\n",
      "  warnings.warn(\n"
     ]
    },
    {
     "name": "stdout",
     "output_type": "stream",
     "text": [
      "there was no commited card in this match \n",
      "295/306 | league: Germany - 1. Bundesliga, match id 3890272, Eintracht Frankfurt-Augsburg\n"
     ]
    },
    {
     "name": "stderr",
     "output_type": "stream",
     "text": [
      "/Users/emirysaglam/GitHub/Bitirme/.venv/lib/python3.10/site-packages/statsbombpy/api_client.py:21: NoAuthWarning: credentials were not supplied. open data access only\n",
      "  warnings.warn(\n"
     ]
    },
    {
     "name": "stdout",
     "output_type": "stream",
     "text": [
      "296/306 | league: Germany - 1. Bundesliga, match id 3890271, Schalke 04-Darmstadt 98\n"
     ]
    },
    {
     "name": "stderr",
     "output_type": "stream",
     "text": [
      "/Users/emirysaglam/GitHub/Bitirme/.venv/lib/python3.10/site-packages/statsbombpy/api_client.py:21: NoAuthWarning: credentials were not supplied. open data access only\n",
      "  warnings.warn(\n"
     ]
    },
    {
     "name": "stdout",
     "output_type": "stream",
     "text": [
      "297/306 | league: Germany - 1. Bundesliga, match id 3890270, Hoffenheim-Bayern Munich\n"
     ]
    },
    {
     "name": "stderr",
     "output_type": "stream",
     "text": [
      "/Users/emirysaglam/GitHub/Bitirme/.venv/lib/python3.10/site-packages/statsbombpy/api_client.py:21: NoAuthWarning: credentials were not supplied. open data access only\n",
      "  warnings.warn(\n"
     ]
    },
    {
     "name": "stdout",
     "output_type": "stream",
     "text": [
      "298/306 | league: Germany - 1. Bundesliga, match id 3890267, Wolfsburg-Eintracht Frankfurt\n"
     ]
    },
    {
     "name": "stderr",
     "output_type": "stream",
     "text": [
      "/Users/emirysaglam/GitHub/Bitirme/.venv/lib/python3.10/site-packages/statsbombpy/api_client.py:21: NoAuthWarning: credentials were not supplied. open data access only\n",
      "  warnings.warn(\n"
     ]
    },
    {
     "name": "stdout",
     "output_type": "stream",
     "text": [
      "299/306 | league: Germany - 1. Bundesliga, match id 3890266, VfB Stuttgart-FC Köln\n"
     ]
    },
    {
     "name": "stderr",
     "output_type": "stream",
     "text": [
      "/Users/emirysaglam/GitHub/Bitirme/.venv/lib/python3.10/site-packages/statsbombpy/api_client.py:21: NoAuthWarning: credentials were not supplied. open data access only\n",
      "  warnings.warn(\n"
     ]
    },
    {
     "name": "stdout",
     "output_type": "stream",
     "text": [
      "300/306 | league: Germany - 1. Bundesliga, match id 3890265, Augsburg-Hertha Berlin\n"
     ]
    },
    {
     "name": "stderr",
     "output_type": "stream",
     "text": [
      "/Users/emirysaglam/GitHub/Bitirme/.venv/lib/python3.10/site-packages/statsbombpy/api_client.py:21: NoAuthWarning: credentials were not supplied. open data access only\n",
      "  warnings.warn(\n"
     ]
    },
    {
     "name": "stdout",
     "output_type": "stream",
     "text": [
      "301/306 | league: Germany - 1. Bundesliga, match id 3890264, Werder Bremen-Schalke 04\n"
     ]
    },
    {
     "name": "stderr",
     "output_type": "stream",
     "text": [
      "/Users/emirysaglam/GitHub/Bitirme/.venv/lib/python3.10/site-packages/statsbombpy/api_client.py:21: NoAuthWarning: credentials were not supplied. open data access only\n",
      "  warnings.warn(\n"
     ]
    },
    {
     "name": "stdout",
     "output_type": "stream",
     "text": [
      "302/306 | league: Germany - 1. Bundesliga, match id 3890263, FSV Mainz 05-Ingolstadt\n"
     ]
    },
    {
     "name": "stderr",
     "output_type": "stream",
     "text": [
      "/Users/emirysaglam/GitHub/Bitirme/.venv/lib/python3.10/site-packages/statsbombpy/api_client.py:21: NoAuthWarning: credentials were not supplied. open data access only\n",
      "  warnings.warn(\n"
     ]
    },
    {
     "name": "stdout",
     "output_type": "stream",
     "text": [
      "303/306 | league: Germany - 1. Bundesliga, match id 3890262, Darmstadt 98-Hannover 96\n"
     ]
    },
    {
     "name": "stderr",
     "output_type": "stream",
     "text": [
      "/Users/emirysaglam/GitHub/Bitirme/.venv/lib/python3.10/site-packages/statsbombpy/api_client.py:21: NoAuthWarning: credentials were not supplied. open data access only\n",
      "  warnings.warn(\n"
     ]
    },
    {
     "name": "stdout",
     "output_type": "stream",
     "text": [
      "there was no commited advantage in this match \n",
      "304/306 | league: Germany - 1. Bundesliga, match id 3890261, Borussia Dortmund-Borussia Mönchengladbach\n"
     ]
    },
    {
     "name": "stderr",
     "output_type": "stream",
     "text": [
      "/Users/emirysaglam/GitHub/Bitirme/.venv/lib/python3.10/site-packages/statsbombpy/api_client.py:21: NoAuthWarning: credentials were not supplied. open data access only\n",
      "  warnings.warn(\n"
     ]
    },
    {
     "name": "stdout",
     "output_type": "stream",
     "text": [
      "305/306 | league: Germany - 1. Bundesliga, match id 3890260, Bayer Leverkusen-Hoffenheim\n"
     ]
    },
    {
     "name": "stderr",
     "output_type": "stream",
     "text": [
      "/Users/emirysaglam/GitHub/Bitirme/.venv/lib/python3.10/site-packages/statsbombpy/api_client.py:21: NoAuthWarning: credentials were not supplied. open data access only\n",
      "  warnings.warn(\n"
     ]
    },
    {
     "name": "stdout",
     "output_type": "stream",
     "text": [
      "306/306 | league: Germany - 1. Bundesliga, match id 3890259, Bayern Munich-Hamburger SV\n"
     ]
    },
    {
     "name": "stderr",
     "output_type": "stream",
     "text": [
      "/Users/emirysaglam/GitHub/Bitirme/.venv/lib/python3.10/site-packages/statsbombpy/api_client.py:21: NoAuthWarning: credentials were not supplied. open data access only\n",
      "  warnings.warn(\n"
     ]
    }
   ],
   "source": [
    "\n",
    "\n",
    "#for competition, season, competitions_name in competitions_and_seasons:\n",
    "    # Maçları al\n",
    "\n",
    "competition, season, competitions_name = bundesliga\n",
    "matches = sb.matches(competition_id=competition, season_id=season)\n",
    "\n",
    "events_extra_info = matches[[\n",
    "    \"match_id\",\n",
    "    \"match_date\",\n",
    "    \"kick_off\",\n",
    "    \"competition\",\n",
    "    \"home_team\",\n",
    "    \"away_team\",\n",
    "    \"home_score\",\n",
    "    \"away_score\",\n",
    "    \"match_status\",\n",
    "    \"match_week\",\n",
    "    \"competition_stage\",\n",
    "    \"referee\",\n",
    "    \"home_managers\",\n",
    "    \"away_managers\",\n",
    "]]\n",
    "\n",
    "matchCount = matches.shape[0]\n",
    "counter = 0\n",
    "\n",
    "\n",
    "for match_ID in matches[\"match_id\"].unique():\n",
    "    counter += 1\n",
    "    info = events_extra_info[events_extra_info[\"match_id\"]==match_ID]\n",
    "    print(f\"{counter}/{matchCount} | league: {info['competition'].values[0]}, match id {match_ID}, {info['home_team'].values[0]}-{info['away_team'].values[0]}\")\n",
    "    #passData = pass_data_creation(events_extra_info,match_ID)\n",
    "    #foulData = foul_data_creation(events_extra_info,match_ID)\n",
    "    #passDF = pd.concat([passDF, passData], axis=0, ignore_index=True)\n",
    "    #foulsDF = pd.concat([foulsDF, foulData], axis=0, ignore_index=True)\n",
    "\n",
    "    events = event_data_creation(events_extra_info,match_ID)\n",
    "    eventsDF = pd.concat([eventsDF,events], axis=0, ignore_index=True)\n",
    "    "
   ]
  },
  {
   "cell_type": "code",
   "execution_count": 18,
   "metadata": {},
   "outputs": [
    {
     "data": {
      "text/html": [
       "<div>\n",
       "<style scoped>\n",
       "    .dataframe tbody tr th:only-of-type {\n",
       "        vertical-align: middle;\n",
       "    }\n",
       "\n",
       "    .dataframe tbody tr th {\n",
       "        vertical-align: top;\n",
       "    }\n",
       "\n",
       "    .dataframe thead th {\n",
       "        text-align: right;\n",
       "    }\n",
       "</style>\n",
       "<table border=\"1\" class=\"dataframe\">\n",
       "  <thead>\n",
       "    <tr style=\"text-align: right;\">\n",
       "      <th></th>\n",
       "      <th>competition</th>\n",
       "      <th>home_team</th>\n",
       "      <th>away_team</th>\n",
       "      <th>referee</th>\n",
       "      <th>x</th>\n",
       "      <th>y</th>\n",
       "      <th>player</th>\n",
       "      <th>position</th>\n",
       "      <th>possession_team</th>\n",
       "      <th>type_foul_commitedJ</th>\n",
       "      <th>player_foul_commitedJ</th>\n",
       "      <th>position_foul_commitedJ</th>\n",
       "      <th>team_foul_commitedJ</th>\n",
       "      <th>related_events</th>\n",
       "      <th>foul_committed_advantage_foul_commitedJ</th>\n",
       "      <th>x_foul_commitedJ</th>\n",
       "      <th>y_foul_commitedJ</th>\n",
       "      <th>foul_committed_card_foul_commitedJ</th>\n",
       "    </tr>\n",
       "  </thead>\n",
       "  <tbody>\n",
       "    <tr>\n",
       "      <th>2540</th>\n",
       "      <td>Spain - La Liga</td>\n",
       "      <td>Levante UD</td>\n",
       "      <td>Eibar</td>\n",
       "      <td>NaN</td>\n",
       "      <td>6.3</td>\n",
       "      <td>44.2</td>\n",
       "      <td>Zouhair Feddal</td>\n",
       "      <td>Center Back</td>\n",
       "      <td>Eibar</td>\n",
       "      <td>Foul Committed</td>\n",
       "      <td>Borja González Tomás</td>\n",
       "      <td>Center Forward</td>\n",
       "      <td>Eibar</td>\n",
       "      <td>ff9a47b4-1a6d-44c7-ba3e-c51ee74831cc</td>\n",
       "      <td>NaN</td>\n",
       "      <td>113.8</td>\n",
       "      <td>35.9</td>\n",
       "      <td>NaN</td>\n",
       "    </tr>\n",
       "    <tr>\n",
       "      <th>2541</th>\n",
       "      <td>Spain - La Liga</td>\n",
       "      <td>Levante UD</td>\n",
       "      <td>Eibar</td>\n",
       "      <td>NaN</td>\n",
       "      <td>57.8</td>\n",
       "      <td>67.3</td>\n",
       "      <td>Daniel García Carrillo</td>\n",
       "      <td>Left Defensive Midfield</td>\n",
       "      <td>Eibar</td>\n",
       "      <td>Foul Committed</td>\n",
       "      <td>Víctor Casadesús Castaño</td>\n",
       "      <td>Left Center Forward</td>\n",
       "      <td>Levante UD</td>\n",
       "      <td>ed724098-9d33-48a8-a7c2-2d742d2b05ca</td>\n",
       "      <td>NaN</td>\n",
       "      <td>62.3</td>\n",
       "      <td>12.8</td>\n",
       "      <td>NaN</td>\n",
       "    </tr>\n",
       "    <tr>\n",
       "      <th>2542</th>\n",
       "      <td>Spain - La Liga</td>\n",
       "      <td>Levante UD</td>\n",
       "      <td>Eibar</td>\n",
       "      <td>NaN</td>\n",
       "      <td>40.5</td>\n",
       "      <td>32.3</td>\n",
       "      <td>David Juncà Reñé</td>\n",
       "      <td>Left Back</td>\n",
       "      <td>Eibar</td>\n",
       "      <td>Foul Committed</td>\n",
       "      <td>Nabil Ghilas</td>\n",
       "      <td>Right Center Forward</td>\n",
       "      <td>Levante UD</td>\n",
       "      <td>1d9c8d0e-aa35-4fcb-ad54-359f1cbf4ad6</td>\n",
       "      <td>NaN</td>\n",
       "      <td>79.6</td>\n",
       "      <td>47.8</td>\n",
       "      <td>NaN</td>\n",
       "    </tr>\n",
       "    <tr>\n",
       "      <th>2543</th>\n",
       "      <td>Spain - La Liga</td>\n",
       "      <td>Levante UD</td>\n",
       "      <td>Eibar</td>\n",
       "      <td>NaN</td>\n",
       "      <td>54.2</td>\n",
       "      <td>54.5</td>\n",
       "      <td>Víctor Casadesús Castaño</td>\n",
       "      <td>Left Center Forward</td>\n",
       "      <td>Levante UD</td>\n",
       "      <td>Foul Committed</td>\n",
       "      <td>Gonzalo Escalante</td>\n",
       "      <td>Right Defensive Midfield</td>\n",
       "      <td>Eibar</td>\n",
       "      <td>e5962e06-bb4d-4008-9885-ed0e3db06c4b</td>\n",
       "      <td>NaN</td>\n",
       "      <td>65.9</td>\n",
       "      <td>25.6</td>\n",
       "      <td>NaN</td>\n",
       "    </tr>\n",
       "    <tr>\n",
       "      <th>2544</th>\n",
       "      <td>Spain - La Liga</td>\n",
       "      <td>Levante UD</td>\n",
       "      <td>Eibar</td>\n",
       "      <td>NaN</td>\n",
       "      <td>43.7</td>\n",
       "      <td>56.0</td>\n",
       "      <td>José María Martín-Bejarano Serrano</td>\n",
       "      <td>Right Center Midfield</td>\n",
       "      <td>Levante UD</td>\n",
       "      <td>Foul Committed</td>\n",
       "      <td>Takashi Inui</td>\n",
       "      <td>Left Wing</td>\n",
       "      <td>Eibar</td>\n",
       "      <td>a1f1fdee-0358-4d0e-a328-4dc0be869f26</td>\n",
       "      <td>NaN</td>\n",
       "      <td>76.4</td>\n",
       "      <td>24.1</td>\n",
       "      <td>NaN</td>\n",
       "    </tr>\n",
       "    <tr>\n",
       "      <th>2545</th>\n",
       "      <td>Spain - La Liga</td>\n",
       "      <td>Levante UD</td>\n",
       "      <td>Eibar</td>\n",
       "      <td>NaN</td>\n",
       "      <td>50.3</td>\n",
       "      <td>14.7</td>\n",
       "      <td>José María Martín-Bejarano Serrano</td>\n",
       "      <td>Right Center Midfield</td>\n",
       "      <td>Eibar</td>\n",
       "      <td>Foul Committed</td>\n",
       "      <td>Borja González Tomás</td>\n",
       "      <td>Center Forward</td>\n",
       "      <td>Eibar</td>\n",
       "      <td>972d8d75-eafa-463d-b9b0-5e86d14502b9</td>\n",
       "      <td>NaN</td>\n",
       "      <td>69.8</td>\n",
       "      <td>65.4</td>\n",
       "      <td>NaN</td>\n",
       "    </tr>\n",
       "    <tr>\n",
       "      <th>2546</th>\n",
       "      <td>Spain - La Liga</td>\n",
       "      <td>Levante UD</td>\n",
       "      <td>Eibar</td>\n",
       "      <td>NaN</td>\n",
       "      <td>74.5</td>\n",
       "      <td>71.0</td>\n",
       "      <td>Sergio Gontán Gallardo</td>\n",
       "      <td>Right Wing</td>\n",
       "      <td>Eibar</td>\n",
       "      <td>Foul Committed</td>\n",
       "      <td>José María Martín-Bejarano Serrano</td>\n",
       "      <td>Right Center Midfield</td>\n",
       "      <td>Levante UD</td>\n",
       "      <td>c7c1d113-ea5f-4c55-bde7-135888ea55e6</td>\n",
       "      <td>NaN</td>\n",
       "      <td>45.6</td>\n",
       "      <td>9.1</td>\n",
       "      <td>NaN</td>\n",
       "    </tr>\n",
       "    <tr>\n",
       "      <th>2547</th>\n",
       "      <td>Spain - La Liga</td>\n",
       "      <td>Levante UD</td>\n",
       "      <td>Eibar</td>\n",
       "      <td>NaN</td>\n",
       "      <td>67.2</td>\n",
       "      <td>24.8</td>\n",
       "      <td>Adrián González Morales</td>\n",
       "      <td>Center Attacking Midfield</td>\n",
       "      <td>Eibar</td>\n",
       "      <td>Foul Committed</td>\n",
       "      <td>José María Martín-Bejarano Serrano</td>\n",
       "      <td>Right Center Midfield</td>\n",
       "      <td>Levante UD</td>\n",
       "      <td>94bd2b4b-24b0-43e7-93e4-91a4cfb576da</td>\n",
       "      <td>NaN</td>\n",
       "      <td>52.9</td>\n",
       "      <td>55.3</td>\n",
       "      <td>NaN</td>\n",
       "    </tr>\n",
       "    <tr>\n",
       "      <th>2548</th>\n",
       "      <td>Spain - La Liga</td>\n",
       "      <td>Levante UD</td>\n",
       "      <td>Eibar</td>\n",
       "      <td>NaN</td>\n",
       "      <td>68.3</td>\n",
       "      <td>74.6</td>\n",
       "      <td>José Luis Morales Nogales</td>\n",
       "      <td>Right Wing Back</td>\n",
       "      <td>Levante UD</td>\n",
       "      <td>Foul Committed</td>\n",
       "      <td>Takashi Inui</td>\n",
       "      <td>Left Wing</td>\n",
       "      <td>Eibar</td>\n",
       "      <td>3017cde7-ea96-4d70-8d00-b859d19a3c8a</td>\n",
       "      <td>NaN</td>\n",
       "      <td>51.8</td>\n",
       "      <td>5.5</td>\n",
       "      <td>NaN</td>\n",
       "    </tr>\n",
       "    <tr>\n",
       "      <th>2549</th>\n",
       "      <td>Spain - La Liga</td>\n",
       "      <td>Levante UD</td>\n",
       "      <td>Eibar</td>\n",
       "      <td>NaN</td>\n",
       "      <td>51.6</td>\n",
       "      <td>41.4</td>\n",
       "      <td>José María Martín-Bejarano Serrano</td>\n",
       "      <td>Right Center Midfield</td>\n",
       "      <td>Levante UD</td>\n",
       "      <td>Foul Committed</td>\n",
       "      <td>Borja González Tomás</td>\n",
       "      <td>Center Forward</td>\n",
       "      <td>Eibar</td>\n",
       "      <td>0c70671c-b627-4735-aa92-7a9c7b883eae</td>\n",
       "      <td>NaN</td>\n",
       "      <td>68.5</td>\n",
       "      <td>38.7</td>\n",
       "      <td>NaN</td>\n",
       "    </tr>\n",
       "  </tbody>\n",
       "</table>\n",
       "</div>"
      ],
      "text/plain": [
       "          competition   home_team away_team referee     x     y  \\\n",
       "2540  Spain - La Liga  Levante UD     Eibar     NaN   6.3  44.2   \n",
       "2541  Spain - La Liga  Levante UD     Eibar     NaN  57.8  67.3   \n",
       "2542  Spain - La Liga  Levante UD     Eibar     NaN  40.5  32.3   \n",
       "2543  Spain - La Liga  Levante UD     Eibar     NaN  54.2  54.5   \n",
       "2544  Spain - La Liga  Levante UD     Eibar     NaN  43.7  56.0   \n",
       "2545  Spain - La Liga  Levante UD     Eibar     NaN  50.3  14.7   \n",
       "2546  Spain - La Liga  Levante UD     Eibar     NaN  74.5  71.0   \n",
       "2547  Spain - La Liga  Levante UD     Eibar     NaN  67.2  24.8   \n",
       "2548  Spain - La Liga  Levante UD     Eibar     NaN  68.3  74.6   \n",
       "2549  Spain - La Liga  Levante UD     Eibar     NaN  51.6  41.4   \n",
       "\n",
       "                                  player                   position  \\\n",
       "2540                      Zouhair Feddal                Center Back   \n",
       "2541              Daniel García Carrillo    Left Defensive Midfield   \n",
       "2542                    David Juncà Reñé                  Left Back   \n",
       "2543            Víctor Casadesús Castaño        Left Center Forward   \n",
       "2544  José María Martín-Bejarano Serrano      Right Center Midfield   \n",
       "2545  José María Martín-Bejarano Serrano      Right Center Midfield   \n",
       "2546              Sergio Gontán Gallardo                 Right Wing   \n",
       "2547             Adrián González Morales  Center Attacking Midfield   \n",
       "2548           José Luis Morales Nogales            Right Wing Back   \n",
       "2549  José María Martín-Bejarano Serrano      Right Center Midfield   \n",
       "\n",
       "     possession_team type_foul_commitedJ               player_foul_commitedJ  \\\n",
       "2540           Eibar      Foul Committed                Borja González Tomás   \n",
       "2541           Eibar      Foul Committed            Víctor Casadesús Castaño   \n",
       "2542           Eibar      Foul Committed                        Nabil Ghilas   \n",
       "2543      Levante UD      Foul Committed                   Gonzalo Escalante   \n",
       "2544      Levante UD      Foul Committed                        Takashi Inui   \n",
       "2545           Eibar      Foul Committed                Borja González Tomás   \n",
       "2546           Eibar      Foul Committed  José María Martín-Bejarano Serrano   \n",
       "2547           Eibar      Foul Committed  José María Martín-Bejarano Serrano   \n",
       "2548      Levante UD      Foul Committed                        Takashi Inui   \n",
       "2549      Levante UD      Foul Committed                Borja González Tomás   \n",
       "\n",
       "       position_foul_commitedJ team_foul_commitedJ  \\\n",
       "2540            Center Forward               Eibar   \n",
       "2541       Left Center Forward          Levante UD   \n",
       "2542      Right Center Forward          Levante UD   \n",
       "2543  Right Defensive Midfield               Eibar   \n",
       "2544                 Left Wing               Eibar   \n",
       "2545            Center Forward               Eibar   \n",
       "2546     Right Center Midfield          Levante UD   \n",
       "2547     Right Center Midfield          Levante UD   \n",
       "2548                 Left Wing               Eibar   \n",
       "2549            Center Forward               Eibar   \n",
       "\n",
       "                            related_events  \\\n",
       "2540  ff9a47b4-1a6d-44c7-ba3e-c51ee74831cc   \n",
       "2541  ed724098-9d33-48a8-a7c2-2d742d2b05ca   \n",
       "2542  1d9c8d0e-aa35-4fcb-ad54-359f1cbf4ad6   \n",
       "2543  e5962e06-bb4d-4008-9885-ed0e3db06c4b   \n",
       "2544  a1f1fdee-0358-4d0e-a328-4dc0be869f26   \n",
       "2545  972d8d75-eafa-463d-b9b0-5e86d14502b9   \n",
       "2546  c7c1d113-ea5f-4c55-bde7-135888ea55e6   \n",
       "2547  94bd2b4b-24b0-43e7-93e4-91a4cfb576da   \n",
       "2548  3017cde7-ea96-4d70-8d00-b859d19a3c8a   \n",
       "2549  0c70671c-b627-4735-aa92-7a9c7b883eae   \n",
       "\n",
       "     foul_committed_advantage_foul_commitedJ  x_foul_commitedJ  \\\n",
       "2540                                     NaN             113.8   \n",
       "2541                                     NaN              62.3   \n",
       "2542                                     NaN              79.6   \n",
       "2543                                     NaN              65.9   \n",
       "2544                                     NaN              76.4   \n",
       "2545                                     NaN              69.8   \n",
       "2546                                     NaN              45.6   \n",
       "2547                                     NaN              52.9   \n",
       "2548                                     NaN              51.8   \n",
       "2549                                     NaN              68.5   \n",
       "\n",
       "      y_foul_commitedJ foul_committed_card_foul_commitedJ  \n",
       "2540              35.9                                NaN  \n",
       "2541              12.8                                NaN  \n",
       "2542              47.8                                NaN  \n",
       "2543              25.6                                NaN  \n",
       "2544              24.1                                NaN  \n",
       "2545              65.4                                NaN  \n",
       "2546               9.1                                NaN  \n",
       "2547              55.3                                NaN  \n",
       "2548               5.5                                NaN  \n",
       "2549              38.7                                NaN  "
      ]
     },
     "execution_count": 18,
     "metadata": {},
     "output_type": "execute_result"
    }
   ],
   "source": [
    "foulsDF=eventsDF[eventsDF[\"type\"]== \"Foul Won\"]\n",
    "\n",
    "\n",
    "columns = [\n",
    "    \"competition\",\n",
    "    \"home_team\",\n",
    "    \"away_team\",\n",
    "    \"referee\",\n",
    "    \"x\",\n",
    "    \"y\",\n",
    "    \"player\",\n",
    "    \"position\",\n",
    "    \"possession_team\",\n",
    "    \"type_foul_commitedJ\",\n",
    "    \"player_foul_commitedJ\",\n",
    "    \"position_foul_commitedJ\",\n",
    "    \"team_foul_commitedJ\",\n",
    "    \"related_events\",\n",
    "    \"foul_committed_advantage_foul_commitedJ\",\n",
    "    \"x_foul_commitedJ\",\n",
    "    \"y_foul_commitedJ\",\n",
    "    \"foul_committed_card_foul_commitedJ\",\n",
    "]\n",
    "\n",
    "\n",
    "foulsDF[columns].head(10)"
   ]
  },
  {
   "cell_type": "code",
   "execution_count": 6,
   "metadata": {},
   "outputs": [],
   "source": [
    "\n",
    "# Connect to a DuckDB database (or create one if it doesn't exist)\n",
    "# Use ':memory:' for an in-memory database or specify a filename for a persistent database\n",
    "con = duckdb.connect(\"example.db\")\n",
    "\n"
   ]
  },
  {
   "cell_type": "code",
   "execution_count": 22,
   "metadata": {},
   "outputs": [
    {
     "data": {
      "text/plain": [
       "<duckdb.duckdb.DuckDBPyConnection at 0x3fef62670>"
      ]
     },
     "execution_count": 22,
     "metadata": {},
     "output_type": "execute_result"
    }
   ],
   "source": [
    "# Write the Pandas DataFrame to the DuckDB database\n",
    "# This creates a table named 'my_table'\n",
    "con.execute(\"CREATE TABLE events AS SELECT * FROM eventsDF\")\n",
    "\n",
    "\n"
   ]
  },
  {
   "cell_type": "code",
   "execution_count": null,
   "metadata": {},
   "outputs": [],
   "source": [
    "# You can also use the `from_df` function for direct insertion:\n",
    "# con.from_df(df, \"my_table\")\n",
    "\n",
    "# Verify the data was written to the database\n",
    "result = con.execute(\"SELECT * FROM events\").fetchall()\n",
    "print(result)\n",
    "\n",
    "# Close the connection"
   ]
  },
  {
   "cell_type": "code",
   "execution_count": 3,
   "metadata": {},
   "outputs": [
    {
     "data": {
      "text/html": [
       "<div>\n",
       "<style scoped>\n",
       "    .dataframe tbody tr th:only-of-type {\n",
       "        vertical-align: middle;\n",
       "    }\n",
       "\n",
       "    .dataframe tbody tr th {\n",
       "        vertical-align: top;\n",
       "    }\n",
       "\n",
       "    .dataframe thead th {\n",
       "        text-align: right;\n",
       "    }\n",
       "</style>\n",
       "<table border=\"1\" class=\"dataframe\">\n",
       "  <thead>\n",
       "    <tr style=\"text-align: right;\">\n",
       "      <th></th>\n",
       "      <th>player</th>\n",
       "      <th>possession</th>\n",
       "      <th>match_id</th>\n",
       "      <th>bad_behaviour_card</th>\n",
       "      <th>ball_receipt_outcome</th>\n",
       "      <th>ball_recovery_recovery_failure</th>\n",
       "      <th>block_deflection</th>\n",
       "      <th>carry_end_location</th>\n",
       "      <th>clearance_aerial_won</th>\n",
       "      <th>clearance_body_part</th>\n",
       "      <th>...</th>\n",
       "      <th>goalkeeper_shot_saved_off_target</th>\n",
       "      <th>shot_saved_off_target</th>\n",
       "      <th>shot_redirect</th>\n",
       "      <th>goalkeeper_lost_out</th>\n",
       "      <th>goalkeeper_lost_in_play</th>\n",
       "      <th>goalkeeper_shot_saved_to_post</th>\n",
       "      <th>shot_saved_to_post</th>\n",
       "      <th>shot_follows_dribble</th>\n",
       "      <th>goalkeeper_success_out</th>\n",
       "      <th>half_end_early_video_end</th>\n",
       "    </tr>\n",
       "  </thead>\n",
       "  <tbody>\n",
       "    <tr>\n",
       "      <th>1283213</th>\n",
       "      <td>Jordi Alba Ramos</td>\n",
       "      <td>147</td>\n",
       "      <td>266557</td>\n",
       "      <td>None</td>\n",
       "      <td>None</td>\n",
       "      <td>NaN</td>\n",
       "      <td>NaN</td>\n",
       "      <td>NaN</td>\n",
       "      <td>NaN</td>\n",
       "      <td>None</td>\n",
       "      <td>...</td>\n",
       "      <td>NaN</td>\n",
       "      <td>NaN</td>\n",
       "      <td>NaN</td>\n",
       "      <td>NaN</td>\n",
       "      <td>NaN</td>\n",
       "      <td>NaN</td>\n",
       "      <td>NaN</td>\n",
       "      <td>NaN</td>\n",
       "      <td>NaN</td>\n",
       "      <td>NaN</td>\n",
       "    </tr>\n",
       "    <tr>\n",
       "      <th>1283214</th>\n",
       "      <td>Rodrigo Moreno Machado</td>\n",
       "      <td>155</td>\n",
       "      <td>266557</td>\n",
       "      <td>None</td>\n",
       "      <td>None</td>\n",
       "      <td>NaN</td>\n",
       "      <td>NaN</td>\n",
       "      <td>NaN</td>\n",
       "      <td>NaN</td>\n",
       "      <td>None</td>\n",
       "      <td>...</td>\n",
       "      <td>NaN</td>\n",
       "      <td>NaN</td>\n",
       "      <td>NaN</td>\n",
       "      <td>NaN</td>\n",
       "      <td>NaN</td>\n",
       "      <td>NaN</td>\n",
       "      <td>NaN</td>\n",
       "      <td>NaN</td>\n",
       "      <td>NaN</td>\n",
       "      <td>NaN</td>\n",
       "    </tr>\n",
       "    <tr>\n",
       "      <th>1283215</th>\n",
       "      <td>Sergio Busquets i Burgos</td>\n",
       "      <td>158</td>\n",
       "      <td>266557</td>\n",
       "      <td>None</td>\n",
       "      <td>None</td>\n",
       "      <td>NaN</td>\n",
       "      <td>NaN</td>\n",
       "      <td>NaN</td>\n",
       "      <td>NaN</td>\n",
       "      <td>None</td>\n",
       "      <td>...</td>\n",
       "      <td>NaN</td>\n",
       "      <td>NaN</td>\n",
       "      <td>NaN</td>\n",
       "      <td>NaN</td>\n",
       "      <td>NaN</td>\n",
       "      <td>NaN</td>\n",
       "      <td>NaN</td>\n",
       "      <td>NaN</td>\n",
       "      <td>NaN</td>\n",
       "      <td>NaN</td>\n",
       "    </tr>\n",
       "    <tr>\n",
       "      <th>1283216</th>\n",
       "      <td>João Pedro Cavaco Cancelo</td>\n",
       "      <td>169</td>\n",
       "      <td>266557</td>\n",
       "      <td>None</td>\n",
       "      <td>None</td>\n",
       "      <td>NaN</td>\n",
       "      <td>NaN</td>\n",
       "      <td>NaN</td>\n",
       "      <td>NaN</td>\n",
       "      <td>None</td>\n",
       "      <td>...</td>\n",
       "      <td>NaN</td>\n",
       "      <td>NaN</td>\n",
       "      <td>NaN</td>\n",
       "      <td>NaN</td>\n",
       "      <td>NaN</td>\n",
       "      <td>NaN</td>\n",
       "      <td>NaN</td>\n",
       "      <td>NaN</td>\n",
       "      <td>NaN</td>\n",
       "      <td>NaN</td>\n",
       "    </tr>\n",
       "    <tr>\n",
       "      <th>1283217</th>\n",
       "      <td>Neymar da Silva Santos Junior</td>\n",
       "      <td>177</td>\n",
       "      <td>266557</td>\n",
       "      <td>None</td>\n",
       "      <td>None</td>\n",
       "      <td>NaN</td>\n",
       "      <td>NaN</td>\n",
       "      <td>NaN</td>\n",
       "      <td>NaN</td>\n",
       "      <td>None</td>\n",
       "      <td>...</td>\n",
       "      <td>NaN</td>\n",
       "      <td>NaN</td>\n",
       "      <td>NaN</td>\n",
       "      <td>NaN</td>\n",
       "      <td>NaN</td>\n",
       "      <td>NaN</td>\n",
       "      <td>NaN</td>\n",
       "      <td>NaN</td>\n",
       "      <td>NaN</td>\n",
       "      <td>NaN</td>\n",
       "    </tr>\n",
       "  </tbody>\n",
       "</table>\n",
       "<p>5 rows × 164 columns</p>\n",
       "</div>"
      ],
      "text/plain": [
       "                                player  possession  match_id  \\\n",
       "1283213               Jordi Alba Ramos         147    266557   \n",
       "1283214         Rodrigo Moreno Machado         155    266557   \n",
       "1283215       Sergio Busquets i Burgos         158    266557   \n",
       "1283216      João Pedro Cavaco Cancelo         169    266557   \n",
       "1283217  Neymar da Silva Santos Junior         177    266557   \n",
       "\n",
       "        bad_behaviour_card ball_receipt_outcome  \\\n",
       "1283213               None                 None   \n",
       "1283214               None                 None   \n",
       "1283215               None                 None   \n",
       "1283216               None                 None   \n",
       "1283217               None                 None   \n",
       "\n",
       "        ball_recovery_recovery_failure block_deflection carry_end_location  \\\n",
       "1283213                            NaN              NaN                NaN   \n",
       "1283214                            NaN              NaN                NaN   \n",
       "1283215                            NaN              NaN                NaN   \n",
       "1283216                            NaN              NaN                NaN   \n",
       "1283217                            NaN              NaN                NaN   \n",
       "\n",
       "        clearance_aerial_won clearance_body_part  ...  \\\n",
       "1283213                  NaN                None  ...   \n",
       "1283214                  NaN                None  ...   \n",
       "1283215                  NaN                None  ...   \n",
       "1283216                  NaN                None  ...   \n",
       "1283217                  NaN                None  ...   \n",
       "\n",
       "        goalkeeper_shot_saved_off_target shot_saved_off_target shot_redirect  \\\n",
       "1283213                              NaN                   NaN           NaN   \n",
       "1283214                              NaN                   NaN           NaN   \n",
       "1283215                              NaN                   NaN           NaN   \n",
       "1283216                              NaN                   NaN           NaN   \n",
       "1283217                              NaN                   NaN           NaN   \n",
       "\n",
       "        goalkeeper_lost_out goalkeeper_lost_in_play  \\\n",
       "1283213                 NaN                     NaN   \n",
       "1283214                 NaN                     NaN   \n",
       "1283215                 NaN                     NaN   \n",
       "1283216                 NaN                     NaN   \n",
       "1283217                 NaN                     NaN   \n",
       "\n",
       "        goalkeeper_shot_saved_to_post shot_saved_to_post shot_follows_dribble  \\\n",
       "1283213                           NaN                NaN                  NaN   \n",
       "1283214                           NaN                NaN                  NaN   \n",
       "1283215                           NaN                NaN                  NaN   \n",
       "1283216                           NaN                NaN                  NaN   \n",
       "1283217                           NaN                NaN                  NaN   \n",
       "\n",
       "        goalkeeper_success_out  half_end_early_video_end  \n",
       "1283213                    NaN                       NaN  \n",
       "1283214                    NaN                       NaN  \n",
       "1283215                    NaN                       NaN  \n",
       "1283216                    NaN                       NaN  \n",
       "1283217                    NaN                       NaN  \n",
       "\n",
       "[5 rows x 164 columns]"
      ]
     },
     "execution_count": 3,
     "metadata": {},
     "output_type": "execute_result"
    }
   ],
   "source": [
    "data = con.execute(\"SELECT * FROM events\").df()\n",
    "data.tail(5)"
   ]
  },
  {
   "cell_type": "code",
   "execution_count": 4,
   "metadata": {},
   "outputs": [
    {
     "data": {
      "text/plain": [
       "(1283218, 164)"
      ]
     },
     "execution_count": 4,
     "metadata": {},
     "output_type": "execute_result"
    }
   ],
   "source": [
    "data.shape"
   ]
  },
  {
   "cell_type": "code",
   "execution_count": 21,
   "metadata": {},
   "outputs": [
    {
     "data": {
      "text/plain": [
       "<duckdb.duckdb.DuckDBPyConnection at 0x3fef62670>"
      ]
     },
     "execution_count": 21,
     "metadata": {},
     "output_type": "execute_result"
    }
   ],
   "source": [
    "con.execute(\"DROP TABLE events\")\n"
   ]
  },
  {
   "cell_type": "code",
   "execution_count": 5,
   "metadata": {},
   "outputs": [],
   "source": [
    "# Close the connection\n",
    "con.close()\n",
    "\n"
   ]
  }
 ],
 "metadata": {
  "kernelspec": {
   "display_name": ".venv",
   "language": "python",
   "name": "python3"
  },
  "language_info": {
   "codemirror_mode": {
    "name": "ipython",
    "version": 3
   },
   "file_extension": ".py",
   "mimetype": "text/x-python",
   "name": "python",
   "nbconvert_exporter": "python",
   "pygments_lexer": "ipython3",
   "version": "3.10.0"
  }
 },
 "nbformat": 4,
 "nbformat_minor": 2
}
